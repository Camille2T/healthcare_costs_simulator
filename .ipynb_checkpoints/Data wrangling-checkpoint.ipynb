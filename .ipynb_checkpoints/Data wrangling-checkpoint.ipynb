{
 "cells": [
  {
   "cell_type": "markdown",
   "metadata": {},
   "source": [
    "# 1. Data gathering"
   ]
  },
  {
   "cell_type": "markdown",
   "metadata": {},
   "source": [
    "## 1.1 Data from the CMS website"
   ]
  },
  {
   "cell_type": "code",
   "execution_count": 1,
   "metadata": {},
   "outputs": [],
   "source": [
    "import pandas as pd\n",
    "import os\n",
    "import numpy as np\n",
    "import dill"
   ]
  },
  {
   "cell_type": "markdown",
   "metadata": {},
   "source": [
    "### 1.1.1 The inpatient provider utilization and payment data\n",
    "\n",
    "The main dataset: **\"Medicare Provider Utilization and Payment Data: Inpatient\"** for year 2017, which is the most recent year available:   \n",
    "https://www.cms.gov/Research-Statistics-Data-and-Systems/Statistics-Trends-and-Reports/Medicare-Provider-Charge-Data/Inpatient"
   ]
  },
  {
   "cell_type": "markdown",
   "metadata": {},
   "source": [
    "### 1.1.2 The last *hospital compare* flat files package \n",
    "\n",
    "\n",
    "The hospital compare dataset (choice: most recent data)\n",
    "https://data.medicare.gov/data/archives/hospital-compare\n",
    "\n",
    "Pick up two important files:  \n",
    "- the **general information file** (with hospital ownership, average ratings...) \n",
    "- the **Medicare Hospital Spending per Patient - Hospital.csv** file which gives an assessment of the spending per patient in a price-standardized and risk-adjusted way. https://www.medicare.gov/hospitalcompare/Data/Medicare-Spending-Beneficiary.html\n"
   ]
  },
  {
   "cell_type": "markdown",
   "metadata": {},
   "source": [
    "## 1.2 \"Local\" Data"
   ]
  },
  {
   "cell_type": "markdown",
   "metadata": {},
   "source": [
    "Download:\n",
    "\n",
    "- a zipcode - HRR (hospital referral region) crosswalk table from the Dartmouth Atlas\n",
    "https://atlasdata.dartmouth.edu/downloads/geography/ZipHsaHrr17.xls    \n",
    "- a crosswalk between zipcodes and counties https://www.huduser.gov/portal/datasets/usps_crosswalk.html (done manually)  \n",
    "- IRS revenue data at county level: https://www.irs.gov/pub/irs-soi/17incyallnoagi.csv\n",
    "- census data: cc-est2017-alldata.csv from ("
   ]
  },
  {
   "cell_type": "markdown",
   "metadata": {},
   "source": [
    "\n",
    "# 2. Data preparation\n"
   ]
  },
  {
   "cell_type": "markdown",
   "metadata": {},
   "source": [
    "## 2.1 Preparation of the \"local\" dataset"
   ]
  },
  {
   "cell_type": "markdown",
   "metadata": {},
   "source": [
    "### 2.1.1 Preparation of the basic structures: zipcode, longitude, latitude, county, HRR\n",
    "\n"
   ]
  },
  {
   "cell_type": "code",
   "execution_count": 5,
   "metadata": {},
   "outputs": [],
   "source": [
    "zip_coun=pd.read_excel('raw_inputs/ZIP_COUNTY_122017.xlsx',usecols=[0,1],skiprows=0,dtype={'zip':str,'county':str})"
   ]
  },
  {
   "cell_type": "code",
   "execution_count": 6,
   "metadata": {},
   "outputs": [],
   "source": [
    "#Pb for a couple of zipcodes we have several counties, select just the first one\n",
    "zip_coun=zip_coun.groupby('zip').county.agg(['first']).reset_index()"
   ]
  },
  {
   "cell_type": "code",
   "execution_count": 7,
   "metadata": {},
   "outputs": [],
   "source": [
    "zip_coun.rename(columns={'first':'county'}, inplace=True)"
   ]
  },
  {
   "cell_type": "code",
   "execution_count": 8,
   "metadata": {},
   "outputs": [],
   "source": [
    "long_lat=pd.read_csv('raw_inputs/us-zip-code-latitude-and-longitude.csv',sep=';', dtype={'Zip':str}, \n",
    "                     usecols=['Zip','City','State','Latitude','Longitude'])"
   ]
  },
  {
   "cell_type": "code",
   "execution_count": 43,
   "metadata": {},
   "outputs": [],
   "source": [
    "dill.dump(long_lat,open('/prepared_data/df_local.pkd', 'wb'))      "
   ]
  },
  {
   "cell_type": "code",
   "execution_count": 9,
   "metadata": {},
   "outputs": [],
   "source": [
    "local_1=zip_coun.merge(long_lat, left_on='zip',right_on='Zip')"
   ]
  },
  {
   "cell_type": "code",
   "execution_count": 11,
   "metadata": {},
   "outputs": [],
   "source": [
    "zip_hrr=pd.read_excel('raw_inputs/ZipHsaHrr17.xls',dtype={'zipcode2017':str,'county':str})\n"
   ]
  },
  {
   "cell_type": "code",
   "execution_count": 12,
   "metadata": {},
   "outputs": [],
   "source": [
    "zip_hrr['zipcode2017']=zip_hrr['zipcode2017'].apply(lambda x : x.zfill(5))\n"
   ]
  },
  {
   "cell_type": "code",
   "execution_count": 13,
   "metadata": {},
   "outputs": [],
   "source": [
    "local_2=zip_hrr.merge(local_1,left_on='zipcode2017',right_on='zip')"
   ]
  },
  {
   "cell_type": "code",
   "execution_count": 15,
   "metadata": {},
   "outputs": [],
   "source": [
    "local_2=local_2[['zipcode2017','hrrnum', 'county','City','State','Latitude','Longitude']]"
   ]
  },
  {
   "cell_type": "markdown",
   "metadata": {},
   "source": [
    "### 2.1.2 Adjunction of IRS data at county level"
   ]
  },
  {
   "cell_type": "code",
   "execution_count": 17,
   "metadata": {},
   "outputs": [],
   "source": [
    "df2=pd.read_csv('raw_inputs/17incyallnoagi.csv', usecols=['STATEFIPS','COUNTYFIPS','N00200','A00200','A00100','N1','N2'],dtype={'STATEFIPS':str,'COUNTYFIPS':str ,'CBSACODE':str})"
   ]
  },
  {
   "cell_type": "code",
   "execution_count": 18,
   "metadata": {},
   "outputs": [],
   "source": [
    "df2['COUNTY_FULL_FIPS']=df2['STATEFIPS']+df2['COUNTYFIPS']\n",
    "\n",
    "irs_2=df2.groupby('COUNTY_FULL_FIPS').sum().reset_index()\n",
    "\n",
    "irs_2['average_AGI_c']=irs_2.A00100/irs_2.N1\n",
    "irs_2['average_wage_c']=irs_2.A00200  /irs_2.N00200\n",
    "\n",
    "irs_2=irs_2[['COUNTY_FULL_FIPS','average_AGI_c','average_wage_c']]"
   ]
  },
  {
   "cell_type": "code",
   "execution_count": 19,
   "metadata": {},
   "outputs": [],
   "source": [
    "local_3=local_2.merge(irs_2, left_on='county',right_on='COUNTY_FULL_FIPS')"
   ]
  },
  {
   "cell_type": "code",
   "execution_count": 20,
   "metadata": {},
   "outputs": [],
   "source": [
    "local_3.drop(columns=['COUNTY_FULL_FIPS'],inplace=True)"
   ]
  },
  {
   "cell_type": "markdown",
   "metadata": {},
   "source": [
    "### 2.1.3 Adjunction of Census data at county level"
   ]
  },
  {
   "cell_type": "code",
   "execution_count": 21,
   "metadata": {},
   "outputs": [],
   "source": [
    "dfc=pd.read_csv('raw_inputs/cc-est2017-alldata.csv',encoding='latin-1', \n",
    "            usecols=['STATE','COUNTY','YEAR','AGEGRP','TOT_POP', 'BA_MALE', 'BA_FEMALE',  'H_MALE','H_FEMALE'],\n",
    "            dtype= {'STATE':str,'COUNTY':str}   )\n"
   ]
  },
  {
   "cell_type": "code",
   "execution_count": 22,
   "metadata": {},
   "outputs": [],
   "source": [
    "#Select only the lines for 2017\n",
    "dfc=dfc[dfc['YEAR']==10]"
   ]
  },
  {
   "cell_type": "code",
   "execution_count": 23,
   "metadata": {},
   "outputs": [],
   "source": [
    "#recreate the county\n",
    "dfc['COUNTY_ID']=dfc['STATE']+dfc['COUNTY']\n"
   ]
  },
  {
   "cell_type": "code",
   "execution_count": 24,
   "metadata": {},
   "outputs": [],
   "source": [
    "dfc['BA']=dfc['BA_MALE']+dfc['BA_FEMALE']\n",
    "dfc['H']=dfc['H_MALE']+dfc['H_FEMALE']\n"
   ]
  },
  {
   "cell_type": "code",
   "execution_count": 25,
   "metadata": {},
   "outputs": [],
   "source": [
    "dfc['over_65']=0\n",
    "dfc.loc[dfc['AGEGRP']>13,'over_65']=dfc['TOT_POP']\n",
    "\n",
    "# build the proportion of people above 65 ie agegrp 14,15,16,17,18\n",
    "dfc=dfc.groupby('COUNTY_ID').agg(\n",
    "                pop_tot=pd.NamedAgg(column='TOT_POP', aggfunc='max'),\n",
    "                pop_ba=pd.NamedAgg(column='BA', aggfunc='max'),\n",
    "                pop_h=pd.NamedAgg(column='H', aggfunc='max'),\n",
    "                pop_over_65=pd.NamedAgg(column='over_65', aggfunc=np.sum ))\n",
    "   \n",
    "\n",
    "dfc=dfc.reset_index()\n",
    "\n",
    "dfc['per_over_65']=dfc.pop_over_65/dfc.pop_tot\n",
    "dfc['per_ba']=dfc.pop_ba/dfc.pop_tot\n",
    "dfc['per_h']=dfc.pop_h/dfc.pop_tot\n",
    "\n",
    "dfc=dfc[['COUNTY_ID','per_over_65','per_ba','per_h']]"
   ]
  },
  {
   "cell_type": "code",
   "execution_count": 26,
   "metadata": {},
   "outputs": [],
   "source": [
    "local = local_3.merge(dfc,left_on='county',right_on='COUNTY_ID' )"
   ]
  },
  {
   "cell_type": "code",
   "execution_count": 27,
   "metadata": {},
   "outputs": [
    {
     "data": {
      "text/html": [
       "<div>\n",
       "<style scoped>\n",
       "    .dataframe tbody tr th:only-of-type {\n",
       "        vertical-align: middle;\n",
       "    }\n",
       "\n",
       "    .dataframe tbody tr th {\n",
       "        vertical-align: top;\n",
       "    }\n",
       "\n",
       "    .dataframe thead th {\n",
       "        text-align: right;\n",
       "    }\n",
       "</style>\n",
       "<table border=\"1\" class=\"dataframe\">\n",
       "  <thead>\n",
       "    <tr style=\"text-align: right;\">\n",
       "      <th></th>\n",
       "      <th>zipcode2017</th>\n",
       "      <th>hrrnum</th>\n",
       "      <th>county</th>\n",
       "      <th>City</th>\n",
       "      <th>State</th>\n",
       "      <th>Latitude</th>\n",
       "      <th>Longitude</th>\n",
       "      <th>average_AGI_c</th>\n",
       "      <th>average_wage_c</th>\n",
       "      <th>COUNTY_ID</th>\n",
       "      <th>per_over_65</th>\n",
       "      <th>per_ba</th>\n",
       "      <th>per_h</th>\n",
       "    </tr>\n",
       "  </thead>\n",
       "  <tbody>\n",
       "    <tr>\n",
       "      <th>0</th>\n",
       "      <td>00501</td>\n",
       "      <td>301</td>\n",
       "      <td>36103</td>\n",
       "      <td>Holtsville</td>\n",
       "      <td>NY</td>\n",
       "      <td>40.922326</td>\n",
       "      <td>-72.637078</td>\n",
       "      <td>89.476674</td>\n",
       "      <td>73.885973</td>\n",
       "      <td>36103</td>\n",
       "      <td>0.163743</td>\n",
       "      <td>0.085894</td>\n",
       "      <td>0.195437</td>\n",
       "    </tr>\n",
       "    <tr>\n",
       "      <th>1</th>\n",
       "      <td>06390</td>\n",
       "      <td>111</td>\n",
       "      <td>36103</td>\n",
       "      <td>Fishers Island</td>\n",
       "      <td>NY</td>\n",
       "      <td>41.261936</td>\n",
       "      <td>-72.007080</td>\n",
       "      <td>89.476674</td>\n",
       "      <td>73.885973</td>\n",
       "      <td>36103</td>\n",
       "      <td>0.163743</td>\n",
       "      <td>0.085894</td>\n",
       "      <td>0.195437</td>\n",
       "    </tr>\n",
       "    <tr>\n",
       "      <th>2</th>\n",
       "      <td>11702</td>\n",
       "      <td>301</td>\n",
       "      <td>36103</td>\n",
       "      <td>Babylon</td>\n",
       "      <td>NY</td>\n",
       "      <td>40.687649</td>\n",
       "      <td>-73.325490</td>\n",
       "      <td>89.476674</td>\n",
       "      <td>73.885973</td>\n",
       "      <td>36103</td>\n",
       "      <td>0.163743</td>\n",
       "      <td>0.085894</td>\n",
       "      <td>0.195437</td>\n",
       "    </tr>\n",
       "    <tr>\n",
       "      <th>3</th>\n",
       "      <td>11703</td>\n",
       "      <td>301</td>\n",
       "      <td>36103</td>\n",
       "      <td>North Babylon</td>\n",
       "      <td>NY</td>\n",
       "      <td>40.733398</td>\n",
       "      <td>-73.322570</td>\n",
       "      <td>89.476674</td>\n",
       "      <td>73.885973</td>\n",
       "      <td>36103</td>\n",
       "      <td>0.163743</td>\n",
       "      <td>0.085894</td>\n",
       "      <td>0.195437</td>\n",
       "    </tr>\n",
       "    <tr>\n",
       "      <th>4</th>\n",
       "      <td>11704</td>\n",
       "      <td>301</td>\n",
       "      <td>36103</td>\n",
       "      <td>West Babylon</td>\n",
       "      <td>NY</td>\n",
       "      <td>40.719249</td>\n",
       "      <td>-73.358290</td>\n",
       "      <td>89.476674</td>\n",
       "      <td>73.885973</td>\n",
       "      <td>36103</td>\n",
       "      <td>0.163743</td>\n",
       "      <td>0.085894</td>\n",
       "      <td>0.195437</td>\n",
       "    </tr>\n",
       "  </tbody>\n",
       "</table>\n",
       "</div>"
      ],
      "text/plain": [
       "  zipcode2017  hrrnum county            City State   Latitude  Longitude  \\\n",
       "0       00501     301  36103      Holtsville    NY  40.922326 -72.637078   \n",
       "1       06390     111  36103  Fishers Island    NY  41.261936 -72.007080   \n",
       "2       11702     301  36103         Babylon    NY  40.687649 -73.325490   \n",
       "3       11703     301  36103   North Babylon    NY  40.733398 -73.322570   \n",
       "4       11704     301  36103    West Babylon    NY  40.719249 -73.358290   \n",
       "\n",
       "   average_AGI_c  average_wage_c COUNTY_ID  per_over_65    per_ba     per_h  \n",
       "0      89.476674       73.885973     36103     0.163743  0.085894  0.195437  \n",
       "1      89.476674       73.885973     36103     0.163743  0.085894  0.195437  \n",
       "2      89.476674       73.885973     36103     0.163743  0.085894  0.195437  \n",
       "3      89.476674       73.885973     36103     0.163743  0.085894  0.195437  \n",
       "4      89.476674       73.885973     36103     0.163743  0.085894  0.195437  "
      ]
     },
     "execution_count": 27,
     "metadata": {},
     "output_type": "execute_result"
    }
   ],
   "source": [
    "local.head()"
   ]
  },
  {
   "cell_type": "code",
   "execution_count": 29,
   "metadata": {},
   "outputs": [],
   "source": [
    "if not os.path.exists('prepared_data'):\n",
    "    os.makedirs('prepared_data')"
   ]
  },
  {
   "cell_type": "code",
   "execution_count": 31,
   "metadata": {},
   "outputs": [],
   "source": [
    "local.to_csv(path_or_buf='prepared_data/Output_local_basis.csv',index=False)"
   ]
  },
  {
   "cell_type": "markdown",
   "metadata": {},
   "source": [
    "## 2.2 Preparation of the hospital dataset and the DRG dictionnaries\n",
    "\n"
   ]
  },
  {
   "cell_type": "markdown",
   "metadata": {},
   "source": [
    "**1. The inpatient dataset**\n",
    "\n",
    "- 196325 observations on 7 million discharges\n",
    "\n",
    "\n",
    "- 3182 providers ie hospitals (3181 avec filtration of DRG with less than 8 different hospitals)  \n",
    "301 have 5 observations or less,   \n",
    "552 have 10 or less observations\n",
    "\n",
    "\n",
    "- 563 DRG (440 after filtrations)   \n",
    "106 have 5 or less observations  \n",
    "149 have 10 or less observations  \n",
    "256 have 50 or less observations\n"
   ]
  },
  {
   "cell_type": "code",
   "execution_count": 32,
   "metadata": {},
   "outputs": [],
   "source": [
    "inpatient=pd.read_csv('raw_inputs/MEDICARE_PROVIDER_CHARGE_INPATIENT_DRGALL_FY2017.csv',\n",
    "                      dtype={'Provider Id':str,'Provider Zip Code':str },\n",
    "                     usecols=['DRG Definition', 'Provider Id','Provider State', 'Provider Zip Code',\n",
    "       'Total Discharges', 'Average Covered Charges', 'Average Total Payments',\n",
    "       'Average Medicare Payments'])\n",
    "\n",
    "inpatient.columns=['DRG', 'prov_id','Provider State','prov_zip',\n",
    "       'total_discharges', 'average_covered_charges', 'average_total_payments',\n",
    "       'average_medicare_payments']"
   ]
  },
  {
   "cell_type": "code",
   "execution_count": 33,
   "metadata": {},
   "outputs": [
    {
     "data": {
      "text/plain": [
       "0         5\n",
       "1         5\n",
       "2         5\n",
       "3         5\n",
       "4         5\n",
       "         ..\n",
       "196320    6\n",
       "196321    6\n",
       "196322    6\n",
       "196323    6\n",
       "196324    6\n",
       "Name: prov_id, Length: 196325, dtype: int64"
      ]
     },
     "execution_count": 33,
     "metadata": {},
     "output_type": "execute_result"
    }
   ],
   "source": [
    "inpatient.prov_id.apply(lambda x : len(x))"
   ]
  },
  {
   "cell_type": "code",
   "execution_count": 34,
   "metadata": {},
   "outputs": [],
   "source": [
    "#Treat the column prov_id\n",
    "#inpatient['prov_id']=inpatient['prov_id'].apply(lambda x : '0'+x if len(x)==5 else x)\n",
    "inpatient['prov_id']=inpatient['prov_id'].apply(lambda x : '0'+x if len(x)==5 else x)\n"
   ]
  },
  {
   "cell_type": "code",
   "execution_count": 35,
   "metadata": {},
   "outputs": [],
   "source": [
    "inpatient.to_csv(path_or_buf='prepared_data/Inpatient.csv',index=False)"
   ]
  },
  {
   "cell_type": "markdown",
   "metadata": {},
   "source": [
    "**2. The hospital dataset**\n",
    "\n",
    "Merge of the hospital general information and the average spending per medicare patient dataset.   \n",
    "Select only Acute Care Hospital in the 50 US states.   \n",
    "We decided to keep only hospitals with all local information available. 37 hospitals have been lost due to missing local information (either longitude / latitude or HRR). \n"
   ]
  },
  {
   "cell_type": "code",
   "execution_count": 36,
   "metadata": {},
   "outputs": [],
   "source": [
    "hosp=pd.read_csv('raw_inputs/Hospital_General_Information.csv' ,\n",
    "                dtype={'Facility ID':str,'ZIP Code' : str}\n",
    "                 ,\n",
    "                 usecols=['Facility ID','Facility Name','ZIP Code', 'State',\n",
    "                          'Hospital Type',  'Hospital Ownership','Emergency Services', \n",
    "                          'Hospital overall rating', 'Hospital overall rating footnote'] \n",
    "                )\n"
   ]
  },
  {
   "cell_type": "code",
   "execution_count": 37,
   "metadata": {},
   "outputs": [],
   "source": [
    "hosp=hosp[~hosp.State.isin(['AS', 'GU','MP','PR','VI'])]"
   ]
  },
  {
   "cell_type": "code",
   "execution_count": 38,
   "metadata": {},
   "outputs": [],
   "source": [
    "hosp.columns=['Facility ID','hosp_name','state','zipcode','hosp_type','hosp_ownership',\n",
    "       'hosp_emergency_services',\n",
    "       'hosp_rating', 'hosp_rating_fn']"
   ]
  },
  {
   "cell_type": "code",
   "execution_count": 39,
   "metadata": {},
   "outputs": [
    {
     "name": "stdout",
     "output_type": "stream",
     "text": [
      "<class 'pandas.core.frame.DataFrame'>\n",
      "RangeIndex: 4712 entries, 0 to 4711\n",
      "Data columns (total 3 columns):\n",
      " #   Column       Non-Null Count  Dtype  \n",
      "---  ------       --------------  -----  \n",
      " 0   Facility ID  4712 non-null   object \n",
      " 1   Score        4712 non-null   object \n",
      " 2   Footnote     1651 non-null   float64\n",
      "dtypes: float64(1), object(2)\n",
      "memory usage: 110.6+ KB\n"
     ]
    }
   ],
   "source": [
    "med_spending=pd.read_csv('raw_inputs/Medicare_Hospital_spending_per_patient_Hospital.csv'\n",
    "                         , \n",
    "                         usecols=['Facility ID','Score','Footnote'], \n",
    "                         dtype={'Facility ID':str}\n",
    "                        )\n",
    "med_spending.info()"
   ]
  },
  {
   "cell_type": "code",
   "execution_count": 40,
   "metadata": {},
   "outputs": [],
   "source": [
    "hosp_full=med_spending.merge(hosp,how='inner', on = 'Facility ID')"
   ]
  },
  {
   "cell_type": "code",
   "execution_count": 41,
   "metadata": {},
   "outputs": [
    {
     "name": "stdout",
     "output_type": "stream",
     "text": [
      "<class 'pandas.core.frame.DataFrame'>\n",
      "Int64Index: 4653 entries, 0 to 4652\n",
      "Data columns (total 11 columns):\n",
      " #   Column                   Non-Null Count  Dtype  \n",
      "---  ------                   --------------  -----  \n",
      " 0   Facility ID              4653 non-null   object \n",
      " 1   Score                    4653 non-null   object \n",
      " 2   Footnote                 1592 non-null   float64\n",
      " 3   hosp_name                4653 non-null   object \n",
      " 4   state                    4653 non-null   object \n",
      " 5   zipcode                  4653 non-null   object \n",
      " 6   hosp_type                4653 non-null   object \n",
      " 7   hosp_ownership           4653 non-null   object \n",
      " 8   hosp_emergency_services  4653 non-null   object \n",
      " 9   hosp_rating              4653 non-null   object \n",
      " 10  hosp_rating_fn           1146 non-null   float64\n",
      "dtypes: float64(2), object(9)\n",
      "memory usage: 436.2+ KB\n"
     ]
    }
   ],
   "source": [
    "hosp_full.info()"
   ]
  },
  {
   "cell_type": "code",
   "execution_count": 42,
   "metadata": {},
   "outputs": [],
   "source": [
    "hosp_full=hosp_full[hosp_full.hosp_type=='Acute Care Hospitals']"
   ]
  },
  {
   "cell_type": "code",
   "execution_count": 43,
   "metadata": {},
   "outputs": [],
   "source": [
    "full_local_hosp_temp=local.merge(hosp_full,how='outer', left_on='zipcode2017',right_on='zipcode')"
   ]
  },
  {
   "cell_type": "code",
   "execution_count": 47,
   "metadata": {},
   "outputs": [],
   "source": [
    "hosp_full.to_csv(path_or_buf='prepared_data/hospitals.csv', index=False)"
   ]
  },
  {
   "cell_type": "markdown",
   "metadata": {},
   "source": [
    "# 3. Filtering data & preparation of dictionnaries and lists for the app"
   ]
  },
  {
   "cell_type": "code",
   "execution_count": 54,
   "metadata": {},
   "outputs": [],
   "source": [
    "inpatient=pd.read_csv('prepared_data/Inpatient.csv')"
   ]
  },
  {
   "cell_type": "code",
   "execution_count": 55,
   "metadata": {},
   "outputs": [],
   "source": [
    "#Count the number of hospitals where we have a record of this specific DRG\n",
    "diag=inpatient.groupby('DRG')['total_discharges'].agg(['count', 'sum']).reset_index()"
   ]
  },
  {
   "cell_type": "code",
   "execution_count": 56,
   "metadata": {},
   "outputs": [],
   "source": [
    "#set the threshold to 10, we need to have at least prices in 10 different hospital to include the DRG in the app \n",
    "c=10"
   ]
  },
  {
   "cell_type": "code",
   "execution_count": 57,
   "metadata": {},
   "outputs": [],
   "source": [
    "#filter the DRG\n",
    "diag=diag[diag['count']>=c]"
   ]
  },
  {
   "cell_type": "code",
   "execution_count": 58,
   "metadata": {},
   "outputs": [],
   "source": [
    "#Extract the number in the DRG\n",
    "diag['DRG_num']=diag['DRG'].str[:3].astype(int)\n",
    "diag['DRG_text']=diag['DRG'].str[6:]\n"
   ]
  },
  {
   "cell_type": "code",
   "execution_count": 59,
   "metadata": {},
   "outputs": [],
   "source": [
    "CMS_dic_non_filtered={0:'Transplants and tracheostomy',\n",
    "            1:'Nervous System',\n",
    "            2:'Eye',\n",
    "            3:'Ear, Nose, Mouth And Throat',\n",
    "            4:'Respiratory System',\n",
    "            5:'Circulatory System',\n",
    "            6:'Digestive System',\n",
    "            7:'Hepatobiliary System And Pancreas',\n",
    "            8:'Musculoskeletal System And Connective Tissue',\n",
    "            9:'Skin, Subcutaneous Tissue And Breast',\n",
    "            10:'Endocrine, Nutritional And Metabolic System',\n",
    "            11:'Kidney And Urinary Tract',\n",
    "            12:'Male Reproductive System',\n",
    "            13:'Female Reproductive System',\n",
    "            14:'Pregnancy, Childbirth And Puerperium',\n",
    "            15:'Newborn And Other Neonates (Perinatal Period)',\n",
    "            16:'Blood and Blood Forming Organs and Immunological Disorders',\n",
    "            17:'Myeloproliferative DDs (Poorly Differentiated Neoplasms)',\n",
    "            18:'Infectious and Parasitic DDs',\n",
    "            19:'Mental Diseases and Disorders',\n",
    "            20:'Alcohol/Drug Use or Induced Mental Disorders',\n",
    "            21:'Injuries, Poison And Toxic Effect of Drugs',\n",
    "            22:'Burns',\n",
    "            23:'Factors Influencing Health Status',\n",
    "            24:'Multiple Significant Trauma',\n",
    "            25: 'Human Immunodeficiency Virus Infection',\n",
    "            26:'Non MDC'}"
   ]
  },
  {
   "cell_type": "code",
   "execution_count": 60,
   "metadata": {},
   "outputs": [],
   "source": [
    "MDC_DRG_crosswalk=[(0,1,13),(1,20,103),(2,113,125),(3,129,159),(4,163,208),\n",
    "                   (5,215,316),(6,326,395),(7,405,446),(8,453,566),(9,573,607),(10,614,645),\n",
    "                  (11,652,700),(12,707,730),(13,734,761),(14,765,782),(15,789,795),(16,799,816),\n",
    "                  (17,820,849),(18,853,872),(19,876,887),(20,894,897),(21,901,923),(22,927,935),\n",
    "                  (23,939,951),(24,955,965),(25,969,977),(26,981,999)]\n"
   ]
  },
  {
   "cell_type": "code",
   "execution_count": 61,
   "metadata": {},
   "outputs": [],
   "source": [
    "#Build a column with the CMS\n",
    "for t in MDC_DRG_crosswalk:\n",
    "    diag[str(t[0])]=diag['DRG_num'].apply(lambda x: t[0] if x >= t[1] and x<=t[2] else 0)\n",
    "\n",
    "diag['MDC']=0\n",
    "for t in MDC_DRG_crosswalk:\n",
    "    diag['MDC']+=diag[str(t[0])]\n",
    "    diag.drop(columns=[str(t[0])], inplace=True)\n",
    "\n",
    "#diag.head()"
   ]
  },
  {
   "cell_type": "code",
   "execution_count": 64,
   "metadata": {},
   "outputs": [],
   "source": [
    "#Check that every CMS has some DRG\n",
    "diag.MDC.value_counts()\n",
    "\n",
    "#create the filtered dictionnary\n",
    "CMS_dic=dict()\n",
    "\n",
    "for k, v in CMS_dic_non_filtered.items():\n",
    "    if k in list(diag.MDC.value_counts().index):\n",
    "        CMS_dic[k]=v"
   ]
  },
  {
   "cell_type": "code",
   "execution_count": 65,
   "metadata": {},
   "outputs": [],
   "source": [
    "cms2drg=dict()\n",
    "for m in diag['MDC'].value_counts().index:\n",
    "    #select only data from this MDC then\n",
    "    cms2drg[m]=dict(zip(diag[diag['MDC']==m].DRG_text,diag[diag['MDC']==m].DRG_num))\n",
    "    \n"
   ]
  },
  {
   "cell_type": "markdown",
   "metadata": {},
   "source": [
    "**save all the lists and dictionnaries**"
   ]
  },
  {
   "cell_type": "code",
   "execution_count": 66,
   "metadata": {},
   "outputs": [],
   "source": [
    "dill.dump(CMS_dic, open('prepared_data/CMS_dic.pkd', 'wb'))     "
   ]
  },
  {
   "cell_type": "code",
   "execution_count": 67,
   "metadata": {},
   "outputs": [],
   "source": [
    "dill.dump(cms2drg,open('prepared_data/CMS2DRG_dic.pkd', 'wb'))   \n"
   ]
  },
  {
   "cell_type": "code",
   "execution_count": 68,
   "metadata": {},
   "outputs": [],
   "source": [
    "list_DRG=list(diag['DRG'].value_counts().index)\n",
    "dill.dump(list_DRG,open('prepared_data/list_DRG.pkd', 'wb'))   \n"
   ]
  },
  {
   "cell_type": "code",
   "execution_count": 69,
   "metadata": {},
   "outputs": [],
   "source": [
    "#crosswalk between CMS and (filtered) DRG. Dictionnary of dictionnaries\n",
    "\n",
    "\n",
    "dic_num_to_DRG=dict(zip([int(l[:3]) for l in list_DRG],list_DRG))\n",
    "dill.dump(dic_num_to_DRG,open('prepared_data/dic_num_to_DRG.pkd', 'wb'))   \n",
    "\n",
    "#sorted(dic_num_to_DRG.keys())"
   ]
  }
 ],
 "metadata": {
  "kernelspec": {
   "display_name": "Python 3",
   "language": "python",
   "name": "python3"
  },
  "language_info": {
   "codemirror_mode": {
    "name": "ipython",
    "version": 3
   },
   "file_extension": ".py",
   "mimetype": "text/x-python",
   "name": "python",
   "nbconvert_exporter": "python",
   "pygments_lexer": "ipython3",
   "version": "3.8.3"
  }
 },
 "nbformat": 4,
 "nbformat_minor": 4
}
