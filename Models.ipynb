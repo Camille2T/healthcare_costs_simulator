{
 "cells": [
  {
   "cell_type": "code",
   "execution_count": null,
   "metadata": {},
   "outputs": [],
   "source": [
    "A faire: \n",
    "- filtrer ne prendre les DRG qu'avec au moins 10 observations, il faut filtrer également la première liste    \n",
    "- préparer les dictionnaires? "
   ]
  },
  {
   "cell_type": "code",
   "execution_count": 1,
   "metadata": {},
   "outputs": [],
   "source": [
    "import pandas as pd\n",
    "import numpy as np"
   ]
  },
  {
   "cell_type": "code",
   "execution_count": 30,
   "metadata": {},
   "outputs": [],
   "source": [
    "from sklearn.preprocessing import OneHotEncoder,PolynomialFeatures, MaxAbsScaler\n",
    "from sklearn.pipeline import Pipeline\n",
    "from sklearn.linear_model import LinearRegression\n",
    "from sklearn.model_selection import train_test_split\n",
    "from sklearn.ensemble import RandomForestRegressor\n",
    "from sklearn.linear_model import Ridge\n",
    "from sklearn.model_selection import GridSearchCV\n",
    "from sklearn.compose import ColumnTransformer\n",
    "from sklearn import preprocessing\n",
    "import dill\n",
    "import math\n",
    "from sklearn import base"
   ]
  },
  {
   "cell_type": "code",
   "execution_count": 52,
   "metadata": {},
   "outputs": [],
   "source": [
    "from sklearn.base import BaseEstimator, RegressorMixin\n"
   ]
  },
  {
   "cell_type": "code",
   "execution_count": null,
   "metadata": {},
   "outputs": [],
   "source": [
    "from sklearn.utils import shuffle"
   ]
  },
  {
   "cell_type": "code",
   "execution_count": null,
   "metadata": {},
   "outputs": [],
   "source": [
    "from timeit import default_timer as timer\n"
   ]
  },
  {
   "cell_type": "code",
   "execution_count": 3,
   "metadata": {},
   "outputs": [],
   "source": [
    "inpatients=pd.read_csv('prepared_data/Inpatient.csv')"
   ]
  },
  {
   "cell_type": "code",
   "execution_count": 4,
   "metadata": {},
   "outputs": [],
   "source": [
    "local=pd.read_csv('prepared_data/Output_local_basis.csv')"
   ]
  },
  {
   "cell_type": "code",
   "execution_count": 5,
   "metadata": {},
   "outputs": [],
   "source": [
    "hospitals=pd.read_csv('prepared_data/hospitals.csv')"
   ]
  },
  {
   "cell_type": "code",
   "execution_count": 11,
   "metadata": {},
   "outputs": [],
   "source": [
    "temp=local.merge(hospitals, left_on='zipcode2017', right_on='zipcode')"
   ]
  },
  {
   "cell_type": "code",
   "execution_count": 18,
   "metadata": {},
   "outputs": [],
   "source": [
    "full_inner=inpatients.merge(temp, left_on='prov_id', right_on='Facility ID')"
   ]
  },
  {
   "cell_type": "code",
   "execution_count": 21,
   "metadata": {},
   "outputs": [],
   "source": [
    "categorical_columns = ['DRG','hrrnum','hosp_ownership','prov_id']\n",
    "numeric_columns=['average_AGI_c', 'average_wage_c','per_over_65','per_ba','per_h','Score','total_discharges' ]"
   ]
  },
  {
   "cell_type": "code",
   "execution_count": 82,
   "metadata": {},
   "outputs": [],
   "source": [
    "y = full_inner['average_covered_charges']\n",
    "X = full_inner.loc[:,categorical_columns+ numeric_columns]"
   ]
  },
  {
   "cell_type": "markdown",
   "metadata": {},
   "source": [
    "### Model 1: with hospital fixed effects\n"
   ]
  },
  {
   "cell_type": "code",
   "execution_count": 96,
   "metadata": {},
   "outputs": [],
   "source": [
    "#Split the data\n",
    "\n",
    "\n",
    "X, y = shuffle(X, y)\n",
    "\n",
    "X_train, X_test, y_train, y_test = train_test_split(X, y, test_size=0.15)"
   ]
  },
  {
   "cell_type": "code",
   "execution_count": 97,
   "metadata": {},
   "outputs": [],
   "source": [
    "categorical_columns_0 = ['DRG', 'prov_id']"
   ]
  },
  {
   "cell_type": "code",
   "execution_count": null,
   "metadata": {},
   "outputs": [],
   "source": []
  },
  {
   "cell_type": "code",
   "execution_count": 99,
   "metadata": {},
   "outputs": [
    {
     "name": "stdout",
     "output_type": "stream",
     "text": [
      "1.0880236060002062\n",
      "R^2 score on train data: 0.7896896242371354\n",
      "R^2 score on test data: 0.7993248028903852\n",
      "average error rate on test set:  0.36108078552439055\n",
      "average error  on test set:  16263.713524567485\n"
     ]
    }
   ],
   "source": [
    "start = timer()\n",
    "features = ColumnTransformer([\n",
    "    ('categorical', OneHotEncoder(handle_unknown='ignore'), categorical_columns_1)])\n",
    "\n",
    "est_0 = Pipeline([\n",
    "    ('features', features),\n",
    "    ('estimator', LinearRegression())])\n",
    "\n",
    "est_0.fit(X_train[categorical_columns_0], y_train, estimator__sample_weight=X_train['total_discharges'])\n",
    "end = timer()\n",
    "\n",
    "print(end-start)\n",
    "print(f'R^2 score on train data: {est_0.score(X_train[categorical_columns_0], y_train)}')\n",
    "print(f'R^2 score on test data: {est_0.score(X_test[categorical_columns_0], y_test)}')\n",
    "\n",
    "y_pred=est_0.predict(X_test[categorical_columns_0])\n",
    "print('average error rate on test set: ', abs((y_pred-y_test)/y_test).mean())\n",
    "print('average error  on test set: ', abs((y_pred-y_test)).mean())"
   ]
  },
  {
   "cell_type": "code",
   "execution_count": 103,
   "metadata": {},
   "outputs": [],
   "source": [
    "class ResidualEstimator(BaseEstimator, RegressorMixin):\n",
    "\n",
    "    def __init__(self,n_estimators=100,min_samples_leaf=1000,max_features='auto'):\n",
    "        self.n_estimators=n_estimators\n",
    "        self.min_samples_leaf=min_samples_leaf\n",
    "        self.max_features=max_features\n",
    "\n",
    "    def fit(self, X, y):\n",
    "        est_1=LinearRegression().fit(X, y)\n",
    "        res = y-est_1.predict(X)\n",
    "        est_2=RandomForestRegressor(min_samples_leaf=self.min_samples_leaf,\n",
    "                                    max_features=self.max_features,\n",
    "                                    n_estimators=self.n_estimators).fit(X, res)\n",
    "        self.estimator_1_=est_1\n",
    "        self.estimator_2_=est_2\n",
    "        return self\n",
    "\n",
    "    def predict(self, X):\n",
    "        return self.estimator_1_.predict(X)+self.estimator_2_.predict(X)\n"
   ]
  },
  {
   "cell_type": "code",
   "execution_count": 104,
   "metadata": {},
   "outputs": [],
   "source": [
    "categorical_columns_1 = ['DRG','hrrnum','hosp_ownership', 'prov_id']\n",
    "numeric_columns_1=['average_AGI_c', 'average_wage_c','per_over_65','per_ba','per_h','total_discharges']"
   ]
  },
  {
   "cell_type": "code",
   "execution_count": 105,
   "metadata": {},
   "outputs": [
    {
     "data": {
      "text/plain": [
       "Index(['DRG', 'hrrnum', 'hosp_ownership', 'prov_id', 'average_AGI_c',\n",
       "       'average_wage_c', 'per_over_65', 'per_ba', 'per_h', 'Score',\n",
       "       'total_discharges'],\n",
       "      dtype='object')"
      ]
     },
     "execution_count": 105,
     "metadata": {},
     "output_type": "execute_result"
    }
   ],
   "source": [
    "X_train.columns"
   ]
  },
  {
   "cell_type": "code",
   "execution_count": 106,
   "metadata": {},
   "outputs": [
    {
     "name": "stdout",
     "output_type": "stream",
     "text": [
      "307.6619012350002\n",
      "R^2 score on train data: 0.8025028902086997\n",
      "R^2 score on test data: 0.8069089433466456\n",
      "average error rate on test set:  0.3036911261571947\n",
      "average error  on test set:  15206.334566853897\n"
     ]
    }
   ],
   "source": [
    "start = timer()\n",
    "features = ColumnTransformer([\n",
    "    ('categorical', OneHotEncoder(handle_unknown='ignore'), categorical_columns_1),\n",
    "('numeric', 'passthrough', numeric_columns_1)])\n",
    "\n",
    "est_1 = Pipeline([\n",
    "    ('features', features),\n",
    "    ('estimator', ResidualEstimator(min_samples_leaf=200,n_estimators=100,max_features=\"auto\"))])\n",
    "\n",
    "est_1.fit(X_train[categorical_columns_1+numeric_columns_1], y_train\n",
    "         # , estimator__sample_weight=X_train['total_discharges']\n",
    "         )\n",
    "end = timer()\n",
    "\n",
    "print(end-start)\n",
    "print(f'R^2 score on train data: {est_1.score(X_train[categorical_columns_1+numeric_columns_1], y_train)}')\n",
    "print(f'R^2 score on test data: {est_1.score(X_test[categorical_columns_1+numeric_columns_1], y_test)}')\n",
    "\n",
    "y_pred=est_1.predict(X_test[categorical_columns_1+numeric_columns_1])\n",
    "print('average error rate on test set: ', abs((y_pred-y_test)/y_test).mean())\n",
    "print('average error  on test set: ', abs((y_pred-y_test)).mean())"
   ]
  },
  {
   "cell_type": "markdown",
   "metadata": {},
   "source": [
    "Results with model 1 and 100, 100 as parameters\n",
    "\n",
    "438.5626369839997\n",
    "R^2 score on train data: 0.8151548136977186\n",
    "R^2 score on test data: 0.8187969428344577\n",
    "average error rate on test set:  0.2917842504502843\n",
    "average error  on test set:  14557.084383963018"
   ]
  },
  {
   "cell_type": "code",
   "execution_count": 107,
   "metadata": {},
   "outputs": [],
   "source": [
    "dill.dump(est_1,open('prepared_data/est_1.pkd', 'wb'))  "
   ]
  },
  {
   "cell_type": "markdown",
   "metadata": {},
   "source": [
    "### Model 2: without hospital fixed effects but with score\n"
   ]
  },
  {
   "cell_type": "code",
   "execution_count": 108,
   "metadata": {},
   "outputs": [],
   "source": [
    "full_inner_w_spending=full_inner[full_inner.Footnote.isna()]"
   ]
  },
  {
   "cell_type": "code",
   "execution_count": 109,
   "metadata": {},
   "outputs": [],
   "source": [
    "y_2 = full_inner_w_spending['average_covered_charges']\n",
    "X_2 = full_inner_w_spending.loc[:,categorical_columns+ numeric_columns]"
   ]
  },
  {
   "cell_type": "code",
   "execution_count": 110,
   "metadata": {},
   "outputs": [],
   "source": [
    "X_2, y_2 = shuffle(X_2, y_2)\n",
    "X_train_2, X_test_2, y_train_2, y_test_2 = train_test_split(X_2, y_2, test_size=0.15)"
   ]
  },
  {
   "cell_type": "code",
   "execution_count": 111,
   "metadata": {},
   "outputs": [],
   "source": [
    "categorical_columns_2 = ['DRG','hrrnum','hosp_ownership']\n",
    "numeric_columns_2=[ 'average_wage_c','per_over_65','Score','average_AGI_c','per_ba','per_h']"
   ]
  },
  {
   "cell_type": "code",
   "execution_count": 115,
   "metadata": {},
   "outputs": [
    {
     "name": "stdout",
     "output_type": "stream",
     "text": [
      "244.5862197009992\n",
      "R^2 score on train data: 0.7778251967345248\n",
      "R^2 score on test data: 0.7854592549646853\n",
      "average error rate on test set:  0.3358527444501266\n",
      "average error  on test set:  16882.18693922944\n"
     ]
    }
   ],
   "source": [
    "start = timer()\n",
    "features = ColumnTransformer([\n",
    "    ('categorical', OneHotEncoder(handle_unknown='ignore'), categorical_columns_2),\n",
    "('numeric', 'passthrough', numeric_columns_2)])\n",
    "\n",
    "est_2 = Pipeline([\n",
    "    ('features', features),\n",
    "    ('estimator', ResidualEstimator(min_samples_leaf=150,n_estimators=100,max_features=\"auto\"))])\n",
    "\n",
    "est_2.fit(X_train_2[categorical_columns_2+numeric_columns_2], y_train_2\n",
    "         # , estimator__sample_weight=X_train['total_discharges']\n",
    "         )\n",
    "end = timer()\n",
    "\n",
    "print(end-start)\n",
    "print(f'R^2 score on train data: {est_2.score(X_train_2[categorical_columns_2+numeric_columns_2], y_train_2)}')\n",
    "print(f'R^2 score on test data: {est_2.score(X_test_2[categorical_columns_2+numeric_columns_2], y_test_2)}')\n",
    "\n",
    "y_pred_2=est_2.predict(X_test_2[categorical_columns_2+numeric_columns_2])\n",
    "print('average error rate on test set: ', abs((y_pred_2-y_test_2)/y_test_2).mean())\n",
    "print('average error  on test set: ', abs((y_pred_2-y_test_2)).mean())"
   ]
  },
  {
   "cell_type": "code",
   "execution_count": 116,
   "metadata": {},
   "outputs": [],
   "source": [
    "dill.dump(est_2,open('prepared_data/est_2.pkd', 'wb'))  "
   ]
  },
  {
   "cell_type": "markdown",
   "metadata": {},
   "source": [
    "### Model 3: without hospital fixed effects and without score\n"
   ]
  },
  {
   "cell_type": "code",
   "execution_count": 117,
   "metadata": {},
   "outputs": [],
   "source": [
    "categorical_columns_3 = ['DRG','hrrnum','hosp_ownership']\n",
    "numeric_columns_3=[ 'average_wage_c','per_over_65','average_AGI_c','per_ba','per_h']"
   ]
  },
  {
   "cell_type": "code",
   "execution_count": 118,
   "metadata": {},
   "outputs": [
    {
     "name": "stdout",
     "output_type": "stream",
     "text": [
      "566.6292813309992\n",
      "R^2 score on train data: 0.7680246767879524\n",
      "R^2 score on test data: 0.7755138654174181\n",
      "average error rate on test set:  0.3531908481102657\n",
      "average error  on test set:  17168.51622624461\n"
     ]
    }
   ],
   "source": [
    "start = timer()\n",
    "features = ColumnTransformer([\n",
    "    ('categorical', OneHotEncoder(handle_unknown='ignore'), categorical_columns_3),\n",
    "('numeric', 'passthrough', numeric_columns_3)])\n",
    "\n",
    "est_3 = Pipeline([\n",
    "    ('features', features),\n",
    "    ('estimator', ResidualEstimator(min_samples_leaf=100,n_estimators=200,max_features=\"auto\"))])\n",
    "\n",
    "est_3.fit(X_train[categorical_columns_3+numeric_columns_3], y_train\n",
    "         # , estimator__sample_weight=X_train['total_discharges']\n",
    "         )\n",
    "end = timer()\n",
    "\n",
    "print(end-start)\n",
    "print(f'R^2 score on train data: {est_3.score(X_train[categorical_columns_3+numeric_columns_3], y_train)}')\n",
    "print(f'R^2 score on test data: {est_3.score(X_test[categorical_columns_3+numeric_columns_3], y_test)}')\n",
    "\n",
    "y_pred=est_3.predict(X_test[categorical_columns_3+numeric_columns_3])\n",
    "print('average error rate on test set: ', abs((y_pred-y_test)/y_test).mean())\n",
    "print('average error  on test set: ', abs((y_pred-y_test)).mean())"
   ]
  },
  {
   "cell_type": "code",
   "execution_count": 119,
   "metadata": {},
   "outputs": [],
   "source": [
    "dill.dump(est_3,open('prepared_data/est_3.pkd', 'wb'))  "
   ]
  },
  {
   "cell_type": "markdown",
   "metadata": {},
   "source": [
    "### Model 4: combination of models 1 and 2"
   ]
  },
  {
   "cell_type": "code",
   "execution_count": 120,
   "metadata": {},
   "outputs": [],
   "source": [
    "X_comb_test=np.concatenate((np.reshape(est_1.predict(X_test_2[categorical_columns_1 + numeric_columns_1]), (-1,1)),\n",
    "                            np.reshape(est_2.predict(X_test_2[categorical_columns_2 + numeric_columns_2]), (-1,1))), axis=1)\n",
    "X_comb_train=np.concatenate((np.reshape(est_1.predict(X_train_2[categorical_columns_1 + numeric_columns_1]), (-1,1)),\n",
    "                             np.reshape(est_2.predict(X_train_2[categorical_columns_2 + numeric_columns_2]), (-1,1))), axis=1)\n"
   ]
  },
  {
   "cell_type": "code",
   "execution_count": 123,
   "metadata": {},
   "outputs": [
    {
     "name": "stdout",
     "output_type": "stream",
     "text": [
      "average error rate on the training set:  0.2118386435463313\n",
      "average error on the training set:  12709.234605909845\n",
      "R^2 score using selected columns and transformers: 0.878684312330007\n",
      "average error rate on the test set:  0.2104155487998252\n",
      "average error  on the test set:  12838.28532852345\n"
     ]
    }
   ],
   "source": [
    "est_4 = RandomForestRegressor(max_depth=6, random_state=0)\n",
    "est_4.fit(X_comb_train, y_train_2)\n",
    "\n",
    "print('average error rate on the training set: ',abs((est_4.predict(X_comb_train)-y_train_2)/y_train_2).mean())\n",
    "print('average error on the training set: ',abs((est_4.predict(X_comb_train)-y_train_2)).mean())\n",
    "\n",
    "print(f'R^2 score using selected columns and transformers: {est_4.score(X_comb_test, y_test_2)}')\n",
    "\n",
    "print('average error rate on the test set: ',abs((est_4.predict(X_comb_test)-y_test_2)/y_test_2).mean())\n",
    "print('average error  on the test set: ',abs((est_4.predict(X_comb_test)-y_test_2)).mean())\n"
   ]
  },
  {
   "cell_type": "code",
   "execution_count": 124,
   "metadata": {},
   "outputs": [],
   "source": [
    "dill.dump(est_4,open('prepared_data/est_4.pkd', 'wb'))  "
   ]
  },
  {
   "cell_type": "code",
   "execution_count": 126,
   "metadata": {},
   "outputs": [
    {
     "name": "stdout",
     "output_type": "stream",
     "text": [
      "Models.ipynb\n",
      "Visualizations.ipynb\n",
      "prepared_data\n",
      "raw_inputs\n"
     ]
    }
   ],
   "source": [
    "%%bash\n",
    "ls"
   ]
  },
  {
   "cell_type": "code",
   "execution_count": null,
   "metadata": {},
   "outputs": [],
   "source": [
    "%%bash\n",
    "git add Models.ipynb prepared_data/est_1.pkd prepared_data/est_2.pkd prepared_data/est_3.pkd prepared_data/est_4.pkd"
   ]
  }
 ],
 "metadata": {
  "kernelspec": {
   "display_name": "Python 3",
   "language": "python",
   "name": "python3"
  },
  "language_info": {
   "codemirror_mode": {
    "name": "ipython",
    "version": 3
   },
   "file_extension": ".py",
   "mimetype": "text/x-python",
   "name": "python",
   "nbconvert_exporter": "python",
   "pygments_lexer": "ipython3",
   "version": "3.8.3"
  }
 },
 "nbformat": 4,
 "nbformat_minor": 4
}
