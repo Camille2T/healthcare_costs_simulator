{
 "cells": [
  {
   "cell_type": "code",
   "execution_count": 1,
   "metadata": {},
   "outputs": [],
   "source": [
    "import pandas as pd\n",
    "import numpy as np"
   ]
  },
  {
   "cell_type": "code",
   "execution_count": 2,
   "metadata": {},
   "outputs": [],
   "source": [
    "from sklearn.preprocessing import OneHotEncoder,PolynomialFeatures, MaxAbsScaler\n",
    "from sklearn.pipeline import Pipeline\n",
    "from sklearn.linear_model import LinearRegression\n",
    "from sklearn.model_selection import train_test_split\n",
    "from sklearn.ensemble import RandomForestRegressor\n",
    "from sklearn.linear_model import Ridge\n",
    "from sklearn.model_selection import GridSearchCV\n",
    "from sklearn.compose import ColumnTransformer\n",
    "from sklearn import preprocessing\n",
    "import dill\n",
    "import math\n",
    "from sklearn import base"
   ]
  },
  {
   "cell_type": "code",
   "execution_count": 3,
   "metadata": {},
   "outputs": [],
   "source": [
    "from sklearn.base import BaseEstimator, RegressorMixin\n"
   ]
  },
  {
   "cell_type": "code",
   "execution_count": 4,
   "metadata": {},
   "outputs": [],
   "source": [
    "from sklearn.utils import shuffle"
   ]
  },
  {
   "cell_type": "code",
   "execution_count": 5,
   "metadata": {},
   "outputs": [],
   "source": [
    "from timeit import default_timer as timer\n"
   ]
  },
  {
   "cell_type": "code",
   "execution_count": 6,
   "metadata": {},
   "outputs": [],
   "source": [
    "inpatients=pd.read_csv('prepared_data/Inpatient.csv')"
   ]
  },
  {
   "cell_type": "code",
   "execution_count": 7,
   "metadata": {},
   "outputs": [],
   "source": [
    "local=pd.read_csv('prepared_data/Output_local_basis.csv')"
   ]
  },
  {
   "cell_type": "code",
   "execution_count": 8,
   "metadata": {},
   "outputs": [],
   "source": [
    "hospitals=pd.read_csv('prepared_data/hospitals.csv')"
   ]
  },
  {
   "cell_type": "code",
   "execution_count": 9,
   "metadata": {},
   "outputs": [],
   "source": [
    "temp=local.merge(hospitals, left_on='zipcode2017', right_on='zipcode')"
   ]
  },
  {
   "cell_type": "code",
   "execution_count": 10,
   "metadata": {},
   "outputs": [],
   "source": [
    "full_inner=inpatients.merge(temp, left_on='prov_id', right_on='Facility ID')"
   ]
  },
  {
   "cell_type": "code",
   "execution_count": 11,
   "metadata": {},
   "outputs": [],
   "source": [
    "categorical_columns = ['DRG','hrrnum','hosp_ownership','prov_id']\n",
    "numeric_columns=['average_AGI_c', 'average_wage_c','per_over_65','per_ba','per_h','Score' ]"
   ]
  },
  {
   "cell_type": "code",
   "execution_count": 12,
   "metadata": {},
   "outputs": [],
   "source": [
    "y = full_inner['average_covered_charges']\n",
    "X = full_inner.loc[:,categorical_columns+ numeric_columns]"
   ]
  },
  {
   "cell_type": "markdown",
   "metadata": {},
   "source": [
    "### Model 1: with hospital fixed effects\n"
   ]
  },
  {
   "cell_type": "code",
   "execution_count": 13,
   "metadata": {},
   "outputs": [],
   "source": [
    "#Split the data\n",
    "\n",
    "\n",
    "X, y = shuffle(X, y)\n",
    "\n",
    "X_train, X_test, y_train, y_test = train_test_split(X, y, test_size=0.15)"
   ]
  },
  {
   "cell_type": "code",
   "execution_count": 14,
   "metadata": {},
   "outputs": [],
   "source": [
    "categorical_columns_0 = ['DRG', 'prov_id']"
   ]
  },
  {
   "cell_type": "code",
   "execution_count": null,
   "metadata": {},
   "outputs": [],
   "source": []
  },
  {
   "cell_type": "code",
   "execution_count": 154,
   "metadata": {},
   "outputs": [
    {
     "name": "stdout",
     "output_type": "stream",
     "text": [
      "0.5605525619976106\n",
      "R^2 score on train data: 0.7981749042587953\n",
      "R^2 score on test data: 0.7897874718265723\n",
      "average error rate on test set:  0.33582241814272457\n",
      "average error  on test set:  16058.940547323824\n"
     ]
    }
   ],
   "source": [
    "start = timer()\n",
    "features = ColumnTransformer([\n",
    "    ('categorical', OneHotEncoder(handle_unknown='ignore'), categorical_columns_0)])\n",
    "\n",
    "est_0 = Pipeline([\n",
    "    ('features', features),\n",
    "    ('estimator', LinearRegression())])\n",
    "\n",
    "est_0.fit(X_train[categorical_columns_0], y_train)\n",
    "end = timer()\n",
    "\n",
    "print(end-start)\n",
    "print(f'R^2 score on train data: {est_0.score(X_train[categorical_columns_0], y_train)}')\n",
    "print(f'R^2 score on test data: {est_0.score(X_test[categorical_columns_0], y_test)}')\n",
    "\n",
    "y_pred=est_0.predict(X_test[categorical_columns_0])\n",
    "print('average error rate on test set: ', abs((y_pred-y_test)/y_test).mean())\n",
    "print('average error  on test set: ', abs((y_pred-y_test)).mean())"
   ]
  },
  {
   "cell_type": "code",
   "execution_count": 15,
   "metadata": {},
   "outputs": [],
   "source": [
    "class ResidualEstimator(BaseEstimator, RegressorMixin):\n",
    "\n",
    "    def __init__(self,n_estimators=100,min_samples_leaf=1000,max_features='auto'):\n",
    "        self.n_estimators=n_estimators\n",
    "        self.min_samples_leaf=min_samples_leaf\n",
    "        self.max_features=max_features\n",
    "\n",
    "    def fit(self, X, y):\n",
    "        est_1=LinearRegression().fit(X, y)\n",
    "        res = y-est_1.predict(X)\n",
    "        est_2=RandomForestRegressor(min_samples_leaf=self.min_samples_leaf,\n",
    "                                    max_features=self.max_features,\n",
    "                                    n_estimators=self.n_estimators).fit(X, res)\n",
    "        self.estimator_1_=est_1\n",
    "        self.estimator_2_=est_2\n",
    "        return self\n",
    "\n",
    "    def predict(self, X):\n",
    "        return self.estimator_1_.predict(X)+self.estimator_2_.predict(X)\n"
   ]
  },
  {
   "cell_type": "code",
   "execution_count": 16,
   "metadata": {},
   "outputs": [],
   "source": [
    "categorical_columns_1 = ['DRG','hrrnum','hosp_ownership', 'prov_id']\n",
    "numeric_columns_1=['average_AGI_c', 'average_wage_c','per_over_65','per_ba','per_h']"
   ]
  },
  {
   "cell_type": "code",
   "execution_count": 17,
   "metadata": {},
   "outputs": [
    {
     "data": {
      "text/plain": [
       "Index(['DRG', 'hrrnum', 'hosp_ownership', 'prov_id', 'average_AGI_c',\n",
       "       'average_wage_c', 'per_over_65', 'per_ba', 'per_h', 'Score'],\n",
       "      dtype='object')"
      ]
     },
     "execution_count": 17,
     "metadata": {},
     "output_type": "execute_result"
    }
   ],
   "source": [
    "X_train.columns"
   ]
  },
  {
   "cell_type": "code",
   "execution_count": 18,
   "metadata": {},
   "outputs": [
    {
     "name": "stdout",
     "output_type": "stream",
     "text": [
      "311.67021627500003\n",
      "R^2 score on train data: 0.8013936494337388\n",
      "R^2 score on test data: 0.8062174151707805\n",
      "average error rate on test set:  0.29635704019889314\n",
      "average error  on test set:  15317.97822130314\n"
     ]
    }
   ],
   "source": [
    "start = timer()\n",
    "features = ColumnTransformer([\n",
    "    ('categorical', OneHotEncoder(handle_unknown='ignore'), categorical_columns_1),\n",
    "('numeric', 'passthrough', numeric_columns_1)])\n",
    "\n",
    "est_1 = Pipeline([\n",
    "    ('features', features),\n",
    "    ('estimator', ResidualEstimator(min_samples_leaf=200,n_estimators=100,max_features=\"auto\"))])\n",
    "\n",
    "est_1.fit(X_train[categorical_columns_1+numeric_columns_1], y_train\n",
    "         # , estimator__sample_weight=X_train['total_discharges']\n",
    "         )\n",
    "end = timer()\n",
    "\n",
    "print(end-start)\n",
    "print(f'R^2 score on train data: {est_1.score(X_train[categorical_columns_1+numeric_columns_1], y_train)}')\n",
    "print(f'R^2 score on test data: {est_1.score(X_test[categorical_columns_1+numeric_columns_1], y_test)}')\n",
    "\n",
    "y_pred=est_1.predict(X_test[categorical_columns_1+numeric_columns_1])\n",
    "print('average error rate on test set: ', abs((y_pred-y_test)/y_test).mean())\n",
    "print('average error  on test set: ', abs((y_pred-y_test)).mean())"
   ]
  },
  {
   "cell_type": "code",
   "execution_count": 162,
   "metadata": {},
   "outputs": [
    {
     "name": "stdout",
     "output_type": "stream",
     "text": [
      "R^2 score on whole data: 0.8043417887554274\n"
     ]
    }
   ],
   "source": [
    "#Fit the model on the whole dataset\n",
    "est_1.fit(X[categorical_columns_1+numeric_columns_1], y)\n",
    "print(f'R^2 score on whole data: {est_1.score(X[categorical_columns_1+numeric_columns_1], y)}')"
   ]
  },
  {
   "cell_type": "code",
   "execution_count": 163,
   "metadata": {},
   "outputs": [],
   "source": [
    "#dill.dump(est_1,open('prepared_data/est_1.pkd', 'wb'))  "
   ]
  },
  {
   "cell_type": "markdown",
   "metadata": {},
   "source": [
    "### Model 2: without hospital fixed effects but with score\n"
   ]
  },
  {
   "cell_type": "code",
   "execution_count": 19,
   "metadata": {},
   "outputs": [],
   "source": [
    "full_inner_w_spending=full_inner[full_inner.Footnote.isna()]"
   ]
  },
  {
   "cell_type": "code",
   "execution_count": 20,
   "metadata": {},
   "outputs": [],
   "source": [
    "y_2 = full_inner_w_spending['average_covered_charges']\n",
    "X_2 = full_inner_w_spending.loc[:,categorical_columns+ numeric_columns]"
   ]
  },
  {
   "cell_type": "code",
   "execution_count": 21,
   "metadata": {},
   "outputs": [],
   "source": [
    "X_2, y_2 = shuffle(X_2, y_2)\n",
    "X_train_2, X_test_2, y_train_2, y_test_2 = train_test_split(X_2, y_2, test_size=0.15)"
   ]
  },
  {
   "cell_type": "code",
   "execution_count": 22,
   "metadata": {},
   "outputs": [],
   "source": [
    "categorical_columns_2 = ['DRG','hrrnum','hosp_ownership']\n",
    "numeric_columns_2=[ 'average_wage_c','per_over_65','Score','average_AGI_c','per_ba','per_h']"
   ]
  },
  {
   "cell_type": "code",
   "execution_count": 23,
   "metadata": {},
   "outputs": [
    {
     "name": "stdout",
     "output_type": "stream",
     "text": [
      "264.528245568\n",
      "R^2 score on train data: 0.7793898860661477\n",
      "R^2 score on test data: 0.7777234989339465\n",
      "average error rate on test set:  0.3369869226458439\n",
      "average error  on test set:  16961.374077198478\n"
     ]
    }
   ],
   "source": [
    "start = timer()\n",
    "features = ColumnTransformer([\n",
    "    ('categorical', OneHotEncoder(handle_unknown='ignore'), categorical_columns_2),\n",
    "('numeric', 'passthrough', numeric_columns_2)])\n",
    "\n",
    "est_2 = Pipeline([\n",
    "    ('features', features),\n",
    "    ('estimator', ResidualEstimator(min_samples_leaf=150,n_estimators=100,max_features=\"auto\"))])\n",
    "\n",
    "est_2.fit(X_train_2[categorical_columns_2+numeric_columns_2], y_train_2\n",
    "         # , estimator__sample_weight=X_train['total_discharges']\n",
    "         )\n",
    "end = timer()\n",
    "\n",
    "print(end-start)\n",
    "print(f'R^2 score on train data: {est_2.score(X_train_2[categorical_columns_2+numeric_columns_2], y_train_2)}')\n",
    "print(f'R^2 score on test data: {est_2.score(X_test_2[categorical_columns_2+numeric_columns_2], y_test_2)}')\n",
    "\n",
    "y_pred_2=est_2.predict(X_test_2[categorical_columns_2+numeric_columns_2])\n",
    "print('average error rate on test set: ', abs((y_pred_2-y_test_2)/y_test_2).mean())\n",
    "print('average error  on test set: ', abs((y_pred_2-y_test_2)).mean())"
   ]
  },
  {
   "cell_type": "code",
   "execution_count": 169,
   "metadata": {},
   "outputs": [
    {
     "data": {
      "text/plain": [
       "Pipeline(steps=[('features',\n",
       "                 ColumnTransformer(transformers=[('categorical',\n",
       "                                                  OneHotEncoder(handle_unknown='ignore'),\n",
       "                                                  ['DRG', 'hrrnum',\n",
       "                                                   'hosp_ownership']),\n",
       "                                                 ('numeric', 'passthrough',\n",
       "                                                  ['average_wage_c',\n",
       "                                                   'per_over_65', 'Score',\n",
       "                                                   'average_AGI_c', 'per_ba',\n",
       "                                                   'per_h'])])),\n",
       "                ('estimator', ResidualEstimator(min_samples_leaf=150))])"
      ]
     },
     "execution_count": 169,
     "metadata": {},
     "output_type": "execute_result"
    }
   ],
   "source": [
    "est_2.fit(X_2[categorical_columns_2+numeric_columns_2], y_2)"
   ]
  },
  {
   "cell_type": "code",
   "execution_count": 170,
   "metadata": {},
   "outputs": [],
   "source": [
    "#dill.dump(est_2,open('prepared_data/est_2.pkd', 'wb'))  "
   ]
  },
  {
   "cell_type": "markdown",
   "metadata": {},
   "source": [
    "### Model 3: without hospital fixed effects and without score\n"
   ]
  },
  {
   "cell_type": "code",
   "execution_count": 24,
   "metadata": {},
   "outputs": [],
   "source": [
    "categorical_columns_3 = ['DRG','hrrnum','hosp_ownership']\n",
    "numeric_columns_3=[ 'average_wage_c','per_over_65','average_AGI_c','per_ba','per_h']"
   ]
  },
  {
   "cell_type": "code",
   "execution_count": 25,
   "metadata": {},
   "outputs": [],
   "source": [
    "features = ColumnTransformer([\n",
    "    ('categorical', OneHotEncoder(handle_unknown='ignore'), categorical_columns_3),\n",
    "('numeric', 'passthrough', numeric_columns_3)])\n",
    "\n",
    "est_3 = Pipeline([\n",
    "    ('features', features),\n",
    "    ('estimator', ResidualEstimator(min_samples_leaf=100,n_estimators=200,max_features=\"auto\"))])"
   ]
  },
  {
   "cell_type": "code",
   "execution_count": 26,
   "metadata": {},
   "outputs": [
    {
     "name": "stdout",
     "output_type": "stream",
     "text": [
      "640.1274309670002\n",
      "R^2 score on train data: 0.7686562791482419\n",
      "R^2 score on test data: 0.7755013871373022\n",
      "average error rate on test set:  0.35497168699725357\n",
      "average error  on test set:  17328.46852907645\n"
     ]
    }
   ],
   "source": [
    "start = timer()\n",
    "\n",
    "est_3.fit(X_train[categorical_columns_3+numeric_columns_3], y_train\n",
    "         # , estimator__sample_weight=X_train['total_discharges']\n",
    "         )\n",
    "end = timer()\n",
    "\n",
    "print(end-start)\n",
    "print(f'R^2 score on train data: {est_3.score(X_train[categorical_columns_3+numeric_columns_3], y_train)}')\n",
    "print(f'R^2 score on test data: {est_3.score(X_test[categorical_columns_3+numeric_columns_3], y_test)}')\n",
    "\n",
    "y_pred=est_3.predict(X_test[categorical_columns_3+numeric_columns_3])\n",
    "print('average error rate on test set: ', abs((y_pred-y_test)/y_test).mean())\n",
    "print('average error  on test set: ', abs((y_pred-y_test)).mean())"
   ]
  },
  {
   "cell_type": "code",
   "execution_count": 188,
   "metadata": {},
   "outputs": [
    {
     "data": {
      "text/plain": [
       "Pipeline(steps=[('features',\n",
       "                 ColumnTransformer(transformers=[('categorical',\n",
       "                                                  OneHotEncoder(handle_unknown='ignore'),\n",
       "                                                  ['DRG', 'hrrnum',\n",
       "                                                   'hosp_ownership']),\n",
       "                                                 ('numeric', 'passthrough',\n",
       "                                                  ['average_wage_c',\n",
       "                                                   'per_over_65',\n",
       "                                                   'average_AGI_c', 'per_ba',\n",
       "                                                   'per_h'])])),\n",
       "                ('estimator',\n",
       "                 ResidualEstimator(min_samples_leaf=100, n_estimators=200))])"
      ]
     },
     "execution_count": 188,
     "metadata": {},
     "output_type": "execute_result"
    }
   ],
   "source": [
    "est_3.fit(X[categorical_columns_3+numeric_columns_3], y)"
   ]
  },
  {
   "cell_type": "code",
   "execution_count": 189,
   "metadata": {},
   "outputs": [],
   "source": [
    "#dill.dump(est_3,open('prepared_data/est_3.pkd', 'wb'))  "
   ]
  },
  {
   "cell_type": "markdown",
   "metadata": {},
   "source": [
    "### Model 4: combination of models 1 and 2"
   ]
  },
  {
   "cell_type": "code",
   "execution_count": 27,
   "metadata": {},
   "outputs": [],
   "source": [
    "X_comb_test=np.concatenate((np.reshape(est_1.predict(X_test_2[categorical_columns_1 + numeric_columns_1]), (-1,1)),\n",
    "                            np.reshape(est_2.predict(X_test_2[categorical_columns_2 + numeric_columns_2]), (-1,1))), axis=1)\n",
    "X_comb_train=np.concatenate((np.reshape(est_1.predict(X_train_2[categorical_columns_1 + numeric_columns_1]), (-1,1)),\n",
    "                             np.reshape(est_2.predict(X_train_2[categorical_columns_2 + numeric_columns_2]), (-1,1))), axis=1)\n"
   ]
  },
  {
   "cell_type": "code",
   "execution_count": 191,
   "metadata": {},
   "outputs": [
    {
     "name": "stdout",
     "output_type": "stream",
     "text": [
      "average error rate on the training set:  0.212563418032397\n",
      "average error on the training set:  12678.137187007032\n",
      "R^2 score using selected columns and transformers: 0.8748432393262726\n",
      "average error rate on the test set:  0.21287581962549526\n",
      "average error  on the test set:  12737.332542758293\n"
     ]
    }
   ],
   "source": [
    "est_4 = RandomForestRegressor(max_depth=6, random_state=0)\n",
    "est_4.fit(X_comb_train, y_train_2)\n",
    "\n",
    "print('average error rate on the training set: ',abs((est_4.predict(X_comb_train)-y_train_2)/y_train_2).mean())\n",
    "print('average error on the training set: ',abs((est_4.predict(X_comb_train)-y_train_2)).mean())\n",
    "\n",
    "print(f'R^2 score using selected columns and transformers: {est_4.score(X_comb_test, y_test_2)}')\n",
    "\n",
    "print('average error rate on the test set: ',abs((est_4.predict(X_comb_test)-y_test_2)/y_test_2).mean())\n",
    "print('average error  on the test set: ',abs((est_4.predict(X_comb_test)-y_test_2)).mean())\n"
   ]
  },
  {
   "cell_type": "code",
   "execution_count": null,
   "metadata": {},
   "outputs": [],
   "source": []
  },
  {
   "cell_type": "code",
   "execution_count": 192,
   "metadata": {},
   "outputs": [],
   "source": [
    "dill.dump(est_4,open('prepared_data/est_4.pkd', 'wb'))  "
   ]
  },
  {
   "cell_type": "code",
   "execution_count": 126,
   "metadata": {},
   "outputs": [
    {
     "name": "stdout",
     "output_type": "stream",
     "text": [
      "Models.ipynb\n",
      "Visualizations.ipynb\n",
      "prepared_data\n",
      "raw_inputs\n"
     ]
    }
   ],
   "source": [
    "%%bash\n",
    "ls"
   ]
  },
  {
   "cell_type": "code",
   "execution_count": 133,
   "metadata": {},
   "outputs": [
    {
     "name": "stdout",
     "output_type": "stream",
     "text": [
      "[master 4020101] add the app backbone, including the html pages, the app.py, the css file, and Dockerfile but no data\n",
      " 14 files changed, 1001 insertions(+)\n",
      " create mode 100644 Dockerfile\n",
      " create mode 100644 app/.DS_Store\n",
      " create mode 100644 app/app.py\n",
      " create mode 100644 app/conda-requirements.txt\n",
      " create mode 100644 app/requirements.txt\n",
      " create mode 100644 app/static/.DS_Store\n",
      " create mode 100644 app/static/style.css\n",
      " create mode 100644 app/templates/.DS_Store\n",
      " create mode 100644 app/templates/Model.html\n",
      " create mode 100644 app/templates/about2.html\n",
      " create mode 100644 app/templates/index.html\n",
      " create mode 100644 app/templates/index_2.html\n",
      " create mode 100644 app/templates/index_3.html\n",
      " create mode 100644 app/templates/results.html\n"
     ]
    }
   ],
   "source": [
    "%%bash\n",
    "git commit -m 'add the app backbone, including the html pages, the app.py, the css file, and Dockerfile but no data'"
   ]
  },
  {
   "cell_type": "markdown",
   "metadata": {},
   "source": [
    "## Save the list of variables for the app and the dataset used"
   ]
  },
  {
   "cell_type": "code",
   "execution_count": 128,
   "metadata": {},
   "outputs": [],
   "source": [
    "dill.dump((categorical_columns,numeric_columns,\n",
    "            categorical_columns_1,numeric_columns_1,\n",
    "           categorical_columns_2,numeric_columns_2,\n",
    "           categorical_columns_3,numeric_columns_3), open('prepared_data/cat_num_col.pkd', 'wb'))  \n"
   ]
  },
  {
   "cell_type": "markdown",
   "metadata": {},
   "source": [
    "**Prepare the dataset for the app**"
   ]
  },
  {
   "cell_type": "code",
   "execution_count": 28,
   "metadata": {},
   "outputs": [],
   "source": [
    "temp=local.merge(hospitals, left_on='zipcode2017', right_on='zipcode')"
   ]
  },
  {
   "cell_type": "code",
   "execution_count": 29,
   "metadata": {},
   "outputs": [],
   "source": [
    "#Let's incorporate the data from inpatient, just the information present or not\n",
    "\n",
    "inpatient_list_hosp=inpatients[['prov_id','prov_zip']].drop_duplicates()\n",
    "inpatient_list_hosp['Inpatients_avail']=1\n",
    "inpatient_list_hosp=inpatient_list_hosp[['prov_id','Inpatients_avail']]"
   ]
  },
  {
   "cell_type": "code",
   "execution_count": 30,
   "metadata": {},
   "outputs": [],
   "source": [
    "temp_2=inpatient_list_hosp.merge(temp, how='right',left_on='prov_id',right_on='Facility ID')"
   ]
  },
  {
   "cell_type": "code",
   "execution_count": 31,
   "metadata": {},
   "outputs": [],
   "source": [
    "temp_2['Score_avail']=temp_2.Score.apply(lambda x : 1 if x != 'Not Available' else 0)"
   ]
  },
  {
   "cell_type": "code",
   "execution_count": 32,
   "metadata": {},
   "outputs": [],
   "source": [
    "temp_2['Score']=temp_2.Score.apply(lambda x : float(x) if x != 'Not Available' else None)"
   ]
  },
  {
   "cell_type": "code",
   "execution_count": 33,
   "metadata": {},
   "outputs": [],
   "source": [
    "temp_2['Inpatients_avail']=temp_2['Inpatients_avail'].fillna(value=0)"
   ]
  },
  {
   "cell_type": "code",
   "execution_count": 34,
   "metadata": {},
   "outputs": [],
   "source": [
    "temp_2['hosp_category']=0"
   ]
  },
  {
   "cell_type": "code",
   "execution_count": 35,
   "metadata": {},
   "outputs": [],
   "source": [
    "temp_2.loc[(temp_2.Inpatients_avail==1)&(temp_2.Score_avail==0),'hosp_category']=1\n",
    "temp_2.loc[(temp_2.Inpatients_avail==1)&(temp_2.Score_avail==1),'hosp_category']=4\n",
    "temp_2.loc[(temp_2.Inpatients_avail==0)&(temp_2.Score_avail==0),'hosp_category']=3\n",
    "temp_2.loc[(temp_2.Inpatients_avail==0)&(temp_2.Score_avail==1),'hosp_category']=2"
   ]
  },
  {
   "cell_type": "code",
   "execution_count": 36,
   "metadata": {},
   "outputs": [
    {
     "data": {
      "text/plain": [
       "4    2985\n",
       "3      85\n",
       "1      59\n",
       "2      39\n",
       "Name: hosp_category, dtype: int64"
      ]
     },
     "execution_count": 36,
     "metadata": {},
     "output_type": "execute_result"
    }
   ],
   "source": [
    "temp_2.hosp_category.value_counts()"
   ]
  },
  {
   "cell_type": "code",
   "execution_count": 318,
   "metadata": {},
   "outputs": [],
   "source": [
    "temp_2.rename(columns={'City':'countyname',\n",
    "                    'Facility ID' : 'Provider ID'},\n",
    "           inplace=True)\n",
    "\n"
   ]
  },
  {
   "cell_type": "code",
   "execution_count": 320,
   "metadata": {},
   "outputs": [
    {
     "data": {
      "text/html": [
       "<div>\n",
       "<style scoped>\n",
       "    .dataframe tbody tr th:only-of-type {\n",
       "        vertical-align: middle;\n",
       "    }\n",
       "\n",
       "    .dataframe tbody tr th {\n",
       "        vertical-align: top;\n",
       "    }\n",
       "\n",
       "    .dataframe thead th {\n",
       "        text-align: right;\n",
       "    }\n",
       "</style>\n",
       "<table border=\"1\" class=\"dataframe\">\n",
       "  <thead>\n",
       "    <tr style=\"text-align: right;\">\n",
       "      <th></th>\n",
       "      <th>prov_id</th>\n",
       "      <th>Inpatients_avail</th>\n",
       "      <th>zipcode2017</th>\n",
       "      <th>hrrnum</th>\n",
       "      <th>county</th>\n",
       "      <th>Latitude</th>\n",
       "      <th>Longitude</th>\n",
       "      <th>average_AGI_c</th>\n",
       "      <th>average_wage_c</th>\n",
       "      <th>COUNTY_ID</th>\n",
       "      <th>per_over_65</th>\n",
       "      <th>per_ba</th>\n",
       "      <th>per_h</th>\n",
       "      <th>Provider ID</th>\n",
       "      <th>Score</th>\n",
       "      <th>Footnote</th>\n",
       "      <th>zipcode</th>\n",
       "      <th>hosp_rating_fn</th>\n",
       "      <th>Score_avail</th>\n",
       "      <th>hosp_category</th>\n",
       "    </tr>\n",
       "  </thead>\n",
       "  <tbody>\n",
       "    <tr>\n",
       "      <th>count</th>\n",
       "      <td>3168.000000</td>\n",
       "      <td>3168.000000</td>\n",
       "      <td>3168.000000</td>\n",
       "      <td>3168.000000</td>\n",
       "      <td>3168.000000</td>\n",
       "      <td>3168.000000</td>\n",
       "      <td>3168.000000</td>\n",
       "      <td>3168.000000</td>\n",
       "      <td>3168.000000</td>\n",
       "      <td>3168.000000</td>\n",
       "      <td>3168.000000</td>\n",
       "      <td>3168.000000</td>\n",
       "      <td>3168.000000</td>\n",
       "      <td>3168.000000</td>\n",
       "      <td>3024.000000</td>\n",
       "      <td>144.000000</td>\n",
       "      <td>3168.000000</td>\n",
       "      <td>330.000000</td>\n",
       "      <td>3168.000000</td>\n",
       "      <td>3168.000000</td>\n",
       "    </tr>\n",
       "    <tr>\n",
       "      <th>mean</th>\n",
       "      <td>262218.210859</td>\n",
       "      <td>0.960859</td>\n",
       "      <td>52093.619003</td>\n",
       "      <td>249.690657</td>\n",
       "      <td>28417.768308</td>\n",
       "      <td>37.312330</td>\n",
       "      <td>-91.799018</td>\n",
       "      <td>66.638548</td>\n",
       "      <td>55.641617</td>\n",
       "      <td>28417.768308</td>\n",
       "      <td>0.161957</td>\n",
       "      <td>0.131522</td>\n",
       "      <td>0.154186</td>\n",
       "      <td>262218.210859</td>\n",
       "      <td>0.986121</td>\n",
       "      <td>6.041667</td>\n",
       "      <td>52093.619003</td>\n",
       "      <td>16.054545</td>\n",
       "      <td>0.954545</td>\n",
       "      <td>3.892677</td>\n",
       "    </tr>\n",
       "    <tr>\n",
       "      <th>std</th>\n",
       "      <td>161909.590674</td>\n",
       "      <td>0.193962</td>\n",
       "      <td>27818.339780</td>\n",
       "      <td>126.757860</td>\n",
       "      <td>15989.995363</td>\n",
       "      <td>5.094979</td>\n",
       "      <td>15.090129</td>\n",
       "      <td>23.910746</td>\n",
       "      <td>16.767326</td>\n",
       "      <td>15989.995363</td>\n",
       "      <td>0.040010</td>\n",
       "      <td>0.137957</td>\n",
       "      <td>0.164017</td>\n",
       "      <td>161909.590674</td>\n",
       "      <td>0.080031</td>\n",
       "      <td>5.936582</td>\n",
       "      <td>27818.339780</td>\n",
       "      <td>2.205973</td>\n",
       "      <td>0.208332</td>\n",
       "      <td>0.481915</td>\n",
       "    </tr>\n",
       "    <tr>\n",
       "      <th>min</th>\n",
       "      <td>10001.000000</td>\n",
       "      <td>0.000000</td>\n",
       "      <td>1040.000000</td>\n",
       "      <td>1.000000</td>\n",
       "      <td>1001.000000</td>\n",
       "      <td>19.526845</td>\n",
       "      <td>-161.880060</td>\n",
       "      <td>4.811600</td>\n",
       "      <td>27.336667</td>\n",
       "      <td>1001.000000</td>\n",
       "      <td>0.047665</td>\n",
       "      <td>0.000831</td>\n",
       "      <td>0.006673</td>\n",
       "      <td>10001.000000</td>\n",
       "      <td>0.480000</td>\n",
       "      <td>1.000000</td>\n",
       "      <td>1040.000000</td>\n",
       "      <td>5.000000</td>\n",
       "      <td>0.000000</td>\n",
       "      <td>1.000000</td>\n",
       "    </tr>\n",
       "    <tr>\n",
       "      <th>25%</th>\n",
       "      <td>110114.500000</td>\n",
       "      <td>1.000000</td>\n",
       "      <td>30119.250000</td>\n",
       "      <td>144.000000</td>\n",
       "      <td>13154.500000</td>\n",
       "      <td>33.680992</td>\n",
       "      <td>-97.508440</td>\n",
       "      <td>51.639582</td>\n",
       "      <td>44.518386</td>\n",
       "      <td>13154.500000</td>\n",
       "      <td>0.134672</td>\n",
       "      <td>0.028352</td>\n",
       "      <td>0.038820</td>\n",
       "      <td>110114.500000</td>\n",
       "      <td>0.940000</td>\n",
       "      <td>1.000000</td>\n",
       "      <td>30119.250000</td>\n",
       "      <td>16.000000</td>\n",
       "      <td>1.000000</td>\n",
       "      <td>4.000000</td>\n",
       "    </tr>\n",
       "    <tr>\n",
       "      <th>50%</th>\n",
       "      <td>250084.500000</td>\n",
       "      <td>1.000000</td>\n",
       "      <td>48840.500000</td>\n",
       "      <td>268.000000</td>\n",
       "      <td>28100.000000</td>\n",
       "      <td>37.766329</td>\n",
       "      <td>-87.875455</td>\n",
       "      <td>61.173231</td>\n",
       "      <td>51.938428</td>\n",
       "      <td>28100.000000</td>\n",
       "      <td>0.157918</td>\n",
       "      <td>0.085894</td>\n",
       "      <td>0.087132</td>\n",
       "      <td>250084.500000</td>\n",
       "      <td>0.990000</td>\n",
       "      <td>5.000000</td>\n",
       "      <td>48840.500000</td>\n",
       "      <td>16.000000</td>\n",
       "      <td>1.000000</td>\n",
       "      <td>4.000000</td>\n",
       "    </tr>\n",
       "    <tr>\n",
       "      <th>75%</th>\n",
       "      <td>390120.000000</td>\n",
       "      <td>1.000000</td>\n",
       "      <td>76241.000000</td>\n",
       "      <td>357.000000</td>\n",
       "      <td>42056.500000</td>\n",
       "      <td>41.070054</td>\n",
       "      <td>-81.175125</td>\n",
       "      <td>76.795411</td>\n",
       "      <td>62.346322</td>\n",
       "      <td>42056.500000</td>\n",
       "      <td>0.182523</td>\n",
       "      <td>0.191344</td>\n",
       "      <td>0.223079</td>\n",
       "      <td>390120.000000</td>\n",
       "      <td>1.030000</td>\n",
       "      <td>5.000000</td>\n",
       "      <td>76241.000000</td>\n",
       "      <td>16.000000</td>\n",
       "      <td>1.000000</td>\n",
       "      <td>4.000000</td>\n",
       "    </tr>\n",
       "    <tr>\n",
       "      <th>max</th>\n",
       "      <td>670130.000000</td>\n",
       "      <td>1.000000</td>\n",
       "      <td>99801.000000</td>\n",
       "      <td>457.000000</td>\n",
       "      <td>56041.000000</td>\n",
       "      <td>64.835070</td>\n",
       "      <td>-68.002160</td>\n",
       "      <td>264.815267</td>\n",
       "      <td>146.194817</td>\n",
       "      <td>56041.000000</td>\n",
       "      <td>0.569440</td>\n",
       "      <td>0.854172</td>\n",
       "      <td>0.963230</td>\n",
       "      <td>670130.000000</td>\n",
       "      <td>1.530000</td>\n",
       "      <td>19.000000</td>\n",
       "      <td>99801.000000</td>\n",
       "      <td>23.000000</td>\n",
       "      <td>1.000000</td>\n",
       "      <td>4.000000</td>\n",
       "    </tr>\n",
       "  </tbody>\n",
       "</table>\n",
       "</div>"
      ],
      "text/plain": [
       "             prov_id  Inpatients_avail   zipcode2017       hrrnum  \\\n",
       "count    3168.000000       3168.000000   3168.000000  3168.000000   \n",
       "mean   262218.210859          0.960859  52093.619003   249.690657   \n",
       "std    161909.590674          0.193962  27818.339780   126.757860   \n",
       "min     10001.000000          0.000000   1040.000000     1.000000   \n",
       "25%    110114.500000          1.000000  30119.250000   144.000000   \n",
       "50%    250084.500000          1.000000  48840.500000   268.000000   \n",
       "75%    390120.000000          1.000000  76241.000000   357.000000   \n",
       "max    670130.000000          1.000000  99801.000000   457.000000   \n",
       "\n",
       "             county     Latitude    Longitude  average_AGI_c  average_wage_c  \\\n",
       "count   3168.000000  3168.000000  3168.000000    3168.000000     3168.000000   \n",
       "mean   28417.768308    37.312330   -91.799018      66.638548       55.641617   \n",
       "std    15989.995363     5.094979    15.090129      23.910746       16.767326   \n",
       "min     1001.000000    19.526845  -161.880060       4.811600       27.336667   \n",
       "25%    13154.500000    33.680992   -97.508440      51.639582       44.518386   \n",
       "50%    28100.000000    37.766329   -87.875455      61.173231       51.938428   \n",
       "75%    42056.500000    41.070054   -81.175125      76.795411       62.346322   \n",
       "max    56041.000000    64.835070   -68.002160     264.815267      146.194817   \n",
       "\n",
       "          COUNTY_ID  per_over_65       per_ba        per_h    Provider ID  \\\n",
       "count   3168.000000  3168.000000  3168.000000  3168.000000    3168.000000   \n",
       "mean   28417.768308     0.161957     0.131522     0.154186  262218.210859   \n",
       "std    15989.995363     0.040010     0.137957     0.164017  161909.590674   \n",
       "min     1001.000000     0.047665     0.000831     0.006673   10001.000000   \n",
       "25%    13154.500000     0.134672     0.028352     0.038820  110114.500000   \n",
       "50%    28100.000000     0.157918     0.085894     0.087132  250084.500000   \n",
       "75%    42056.500000     0.182523     0.191344     0.223079  390120.000000   \n",
       "max    56041.000000     0.569440     0.854172     0.963230  670130.000000   \n",
       "\n",
       "             Score    Footnote       zipcode  hosp_rating_fn  Score_avail  \\\n",
       "count  3024.000000  144.000000   3168.000000      330.000000  3168.000000   \n",
       "mean      0.986121    6.041667  52093.619003       16.054545     0.954545   \n",
       "std       0.080031    5.936582  27818.339780        2.205973     0.208332   \n",
       "min       0.480000    1.000000   1040.000000        5.000000     0.000000   \n",
       "25%       0.940000    1.000000  30119.250000       16.000000     1.000000   \n",
       "50%       0.990000    5.000000  48840.500000       16.000000     1.000000   \n",
       "75%       1.030000    5.000000  76241.000000       16.000000     1.000000   \n",
       "max       1.530000   19.000000  99801.000000       23.000000     1.000000   \n",
       "\n",
       "       hosp_category  \n",
       "count    3168.000000  \n",
       "mean        3.892677  \n",
       "std         0.481915  \n",
       "min         1.000000  \n",
       "25%         4.000000  \n",
       "50%         4.000000  \n",
       "75%         4.000000  \n",
       "max         4.000000  "
      ]
     },
     "execution_count": 320,
     "metadata": {},
     "output_type": "execute_result"
    }
   ],
   "source": [
    "temp_2['prov_id']=temp_2['Provider ID']\n",
    "temp_2.describe()"
   ]
  },
  {
   "cell_type": "code",
   "execution_count": 321,
   "metadata": {},
   "outputs": [
    {
     "name": "stdout",
     "output_type": "stream",
     "text": [
      "<class 'pandas.core.frame.DataFrame'>\n",
      "Int64Index: 3168 entries, 0 to 3167\n",
      "Data columns (total 18 columns):\n",
      " #   Column          Non-Null Count  Dtype  \n",
      "---  ------          --------------  -----  \n",
      " 0   hosp_name       3168 non-null   object \n",
      " 1   zipcode         3168 non-null   int64  \n",
      " 2   state           3168 non-null   object \n",
      " 3   Latitude        3168 non-null   float64\n",
      " 4   Longitude       3168 non-null   float64\n",
      " 5   Provider ID     3168 non-null   int64  \n",
      " 6   countyname      3168 non-null   object \n",
      " 7   hosp_rating     3168 non-null   object \n",
      " 8   average_AGI_c   3168 non-null   float64\n",
      " 9   average_wage_c  3168 non-null   float64\n",
      " 10  per_over_65     3168 non-null   float64\n",
      " 11  per_ba          3168 non-null   float64\n",
      " 12  per_h           3168 non-null   float64\n",
      " 13  Score           3024 non-null   float64\n",
      " 14  hrrnum          3168 non-null   int64  \n",
      " 15  hosp_ownership  3168 non-null   object \n",
      " 16  prov_id         3168 non-null   int64  \n",
      " 17  hosp_category   3168 non-null   int64  \n",
      "dtypes: float64(8), int64(5), object(5)\n",
      "memory usage: 470.2+ KB\n"
     ]
    }
   ],
   "source": [
    "#['Provider ID', 'DRG', 'prov_id', 'total_discharges', 'countyname']\n",
    "\n",
    "X_full=temp_2[['hosp_name','zipcode','state','Latitude','Longitude','Provider ID','countyname','hosp_rating' ]\n",
    "                                      +numeric_columns +['hrrnum', 'hosp_ownership', 'prov_id','hosp_category']]\n",
    "X_full.info()"
   ]
  },
  {
   "cell_type": "code",
   "execution_count": 322,
   "metadata": {},
   "outputs": [],
   "source": [
    "dill.dump(X_full, open('prepared_data/X_full.pkd', 'wb'))  "
   ]
  },
  {
   "cell_type": "code",
   "execution_count": 323,
   "metadata": {},
   "outputs": [
    {
     "name": "stderr",
     "output_type": "stream",
     "text": [
      "<ipython-input-323-8a92de76533e>:1: SettingWithCopyWarning: \n",
      "A value is trying to be set on a copy of a slice from a DataFrame.\n",
      "Try using .loc[row_indexer,col_indexer] = value instead\n",
      "\n",
      "See the caveats in the documentation: https://pandas.pydata.org/pandas-docs/stable/user_guide/indexing.html#returning-a-view-versus-a-copy\n",
      "  X_full['price']=0\n"
     ]
    }
   ],
   "source": [
    "X_full['price']=0"
   ]
  },
  {
   "cell_type": "code",
   "execution_count": 324,
   "metadata": {},
   "outputs": [
    {
     "name": "stdout",
     "output_type": "stream",
     "text": [
      "<class 'pandas.core.frame.DataFrame'>\n",
      "Int64Index: 3168 entries, 0 to 3167\n",
      "Data columns (total 19 columns):\n",
      " #   Column          Non-Null Count  Dtype  \n",
      "---  ------          --------------  -----  \n",
      " 0   hosp_name       3168 non-null   object \n",
      " 1   zipcode         3168 non-null   int64  \n",
      " 2   state           3168 non-null   object \n",
      " 3   Latitude        3168 non-null   float64\n",
      " 4   Longitude       3168 non-null   float64\n",
      " 5   Provider ID     3168 non-null   int64  \n",
      " 6   countyname      3168 non-null   object \n",
      " 7   hosp_rating     3168 non-null   object \n",
      " 8   average_AGI_c   3168 non-null   float64\n",
      " 9   average_wage_c  3168 non-null   float64\n",
      " 10  per_over_65     3168 non-null   float64\n",
      " 11  per_ba          3168 non-null   float64\n",
      " 12  per_h           3168 non-null   float64\n",
      " 13  Score           3024 non-null   float64\n",
      " 14  hrrnum          3168 non-null   int64  \n",
      " 15  hosp_ownership  3168 non-null   object \n",
      " 16  prov_id         3168 non-null   int64  \n",
      " 17  hosp_category   3168 non-null   int64  \n",
      " 18  price           3168 non-null   int64  \n",
      "dtypes: float64(8), int64(6), object(5)\n",
      "memory usage: 495.0+ KB\n"
     ]
    }
   ],
   "source": [
    "X_full.info()"
   ]
  },
  {
   "cell_type": "code",
   "execution_count": 325,
   "metadata": {},
   "outputs": [
    {
     "data": {
      "text/plain": [
       "['DRG', 'hrrnum', 'hosp_ownership', 'prov_id']"
      ]
     },
     "execution_count": 325,
     "metadata": {},
     "output_type": "execute_result"
    }
   ],
   "source": [
    "categorical_columns_1"
   ]
  },
  {
   "cell_type": "code",
   "execution_count": 326,
   "metadata": {},
   "outputs": [
    {
     "name": "stderr",
     "output_type": "stream",
     "text": [
      "/Users/camilledethe/opt/anaconda3/envs/cap_env/lib/python3.8/site-packages/pandas/core/indexing.py:845: SettingWithCopyWarning: \n",
      "A value is trying to be set on a copy of a slice from a DataFrame.\n",
      "Try using .loc[row_indexer,col_indexer] = value instead\n",
      "\n",
      "See the caveats in the documentation: https://pandas.pydata.org/pandas-docs/stable/user_guide/indexing.html#returning-a-view-versus-a-copy\n",
      "  self.obj[key] = _infer_fill_value(value)\n",
      "/Users/camilledethe/opt/anaconda3/envs/cap_env/lib/python3.8/site-packages/pandas/core/indexing.py:966: SettingWithCopyWarning: \n",
      "A value is trying to be set on a copy of a slice from a DataFrame.\n",
      "Try using .loc[row_indexer,col_indexer] = value instead\n",
      "\n",
      "See the caveats in the documentation: https://pandas.pydata.org/pandas-docs/stable/user_guide/indexing.html#returning-a-view-versus-a-copy\n",
      "  self.obj[item] = s\n"
     ]
    }
   ],
   "source": [
    "X_full.loc[:,'DRG']='023 - CRANIOTOMY W MAJOR DEVICE IMPLANT OR ACUTE CNS PDX W MCC OR CHEMOTHE'"
   ]
  },
  {
   "cell_type": "code",
   "execution_count": 327,
   "metadata": {},
   "outputs": [
    {
     "data": {
      "text/plain": [
       "count    3168.000000\n",
       "mean        3.892677\n",
       "std         0.481915\n",
       "min         1.000000\n",
       "25%         4.000000\n",
       "50%         4.000000\n",
       "75%         4.000000\n",
       "max         4.000000\n",
       "Name: hosp_category, dtype: float64"
      ]
     },
     "execution_count": 327,
     "metadata": {},
     "output_type": "execute_result"
    }
   ],
   "source": [
    "X_full.hosp_category.describe()"
   ]
  },
  {
   "cell_type": "code",
   "execution_count": 339,
   "metadata": {},
   "outputs": [
    {
     "data": {
      "text/plain": [
       "array([196009.61933385, 177318.98540027, 170700.01327134, 427576.42994604,\n",
       "       152150.47238619, 144305.00672189, 158260.07911253, 150585.41661411,\n",
       "       155764.46154518, 164200.76954573, 147072.2044009 , 152292.06846962,\n",
       "       154963.54565179, 149887.26716402, 173224.1880926 , 157142.6205372 ,\n",
       "       146118.3703418 , 158403.89268349, 162436.73450087, 142114.39665409,\n",
       "       147529.40190455, 148553.5745423 , 146509.84925857, 152995.85866158,\n",
       "       160372.96136325, 155604.96379066, 166133.54583631, 161445.33366381,\n",
       "       159927.29242297, 161748.37050682, 158698.18174595, 162775.00875258,\n",
       "       163844.50716089, 161280.83371833, 162993.52680591, 147920.02645941,\n",
       "       161624.19538449, 169190.71569187, 157465.34411397, 149690.36095143,\n",
       "       154994.90645389, 162558.78903012, 160539.45790511, 152847.54048688,\n",
       "       172491.44370084, 163804.55090402, 153373.08753666, 157680.08120402,\n",
       "       151117.11319253, 196974.50717297, 160393.70038602, 183997.78513604,\n",
       "       170129.95307975, 172582.49772339, 136686.85073461, 173564.49701313,\n",
       "       170358.39334404, 184184.94128291, 240119.20793363])"
      ]
     },
     "execution_count": 339,
     "metadata": {},
     "output_type": "execute_result"
    }
   ],
   "source": [
    "est_1.predict(X_full.loc[X_full.hosp_category==1,categorical_columns_1+ numeric_columns_1])\n",
    "                                                                  "
   ]
  },
  {
   "cell_type": "code",
   "execution_count": 344,
   "metadata": {},
   "outputs": [
    {
     "name": "stderr",
     "output_type": "stream",
     "text": [
      "/Users/camilledethe/opt/anaconda3/envs/cap_env/lib/python3.8/site-packages/pandas/core/indexing.py:966: SettingWithCopyWarning: \n",
      "A value is trying to be set on a copy of a slice from a DataFrame.\n",
      "Try using .loc[row_indexer,col_indexer] = value instead\n",
      "\n",
      "See the caveats in the documentation: https://pandas.pydata.org/pandas-docs/stable/user_guide/indexing.html#returning-a-view-versus-a-copy\n",
      "  self.obj[item] = s\n",
      "/Users/camilledethe/opt/anaconda3/envs/cap_env/lib/python3.8/site-packages/pandas/core/indexing.py:966: SettingWithCopyWarning: \n",
      "A value is trying to be set on a copy of a slice from a DataFrame.\n",
      "Try using .loc[row_indexer,col_indexer] = value instead\n",
      "\n",
      "See the caveats in the documentation: https://pandas.pydata.org/pandas-docs/stable/user_guide/indexing.html#returning-a-view-versus-a-copy\n",
      "  self.obj[item] = s\n",
      "/Users/camilledethe/opt/anaconda3/envs/cap_env/lib/python3.8/site-packages/pandas/core/indexing.py:966: SettingWithCopyWarning: \n",
      "A value is trying to be set on a copy of a slice from a DataFrame.\n",
      "Try using .loc[row_indexer,col_indexer] = value instead\n",
      "\n",
      "See the caveats in the documentation: https://pandas.pydata.org/pandas-docs/stable/user_guide/indexing.html#returning-a-view-versus-a-copy\n",
      "  self.obj[item] = s\n",
      "/Users/camilledethe/opt/anaconda3/envs/cap_env/lib/python3.8/site-packages/pandas/core/indexing.py:966: SettingWithCopyWarning: \n",
      "A value is trying to be set on a copy of a slice from a DataFrame.\n",
      "Try using .loc[row_indexer,col_indexer] = value instead\n",
      "\n",
      "See the caveats in the documentation: https://pandas.pydata.org/pandas-docs/stable/user_guide/indexing.html#returning-a-view-versus-a-copy\n",
      "  self.obj[item] = s\n"
     ]
    }
   ],
   "source": [
    "X_full.loc[X_full.hosp_category==1,'price']=est_1.predict(X_full.loc[X_full.hosp_category==1,categorical_columns_1+ numeric_columns_1])\n",
    "X_full.loc[X_full.hosp_category==2,'price']=est_2.predict(X_full.loc[X_full.hosp_category==2,categorical_columns_2+ numeric_columns_2])\n",
    "X_full.loc[X_full.hosp_category==3,'price']=est_3.predict(X_full.loc[X_full.hosp_category==3,categorical_columns_3+ numeric_columns_3])\n",
    "\n",
    "X_1_2=np.concatenate((np.reshape(est_1.predict(X_full.loc[X_full.hosp_category==4,categorical_columns_1+ numeric_columns_1]), (-1,1)),\n",
    "                            np.reshape(est_2.predict(X_full.loc[X_full.hosp_category==4,categorical_columns_2+ numeric_columns_2]), (-1,1))), axis=1)\n",
    "\n",
    "\n",
    "X_full.loc[X_full.hosp_category==4,'price']=est_4.predict(X_1_2)\n"
   ]
  },
  {
   "cell_type": "code",
   "execution_count": 346,
   "metadata": {},
   "outputs": [
    {
     "data": {
      "text/html": [
       "<div>\n",
       "<style scoped>\n",
       "    .dataframe tbody tr th:only-of-type {\n",
       "        vertical-align: middle;\n",
       "    }\n",
       "\n",
       "    .dataframe tbody tr th {\n",
       "        vertical-align: top;\n",
       "    }\n",
       "\n",
       "    .dataframe thead th {\n",
       "        text-align: right;\n",
       "    }\n",
       "</style>\n",
       "<table border=\"1\" class=\"dataframe\">\n",
       "  <thead>\n",
       "    <tr style=\"text-align: right;\">\n",
       "      <th></th>\n",
       "      <th>zipcode</th>\n",
       "      <th>Latitude</th>\n",
       "      <th>Longitude</th>\n",
       "      <th>Provider ID</th>\n",
       "      <th>average_AGI_c</th>\n",
       "      <th>average_wage_c</th>\n",
       "      <th>per_over_65</th>\n",
       "      <th>per_ba</th>\n",
       "      <th>per_h</th>\n",
       "      <th>Score</th>\n",
       "      <th>hrrnum</th>\n",
       "      <th>prov_id</th>\n",
       "      <th>hosp_category</th>\n",
       "      <th>price</th>\n",
       "    </tr>\n",
       "  </thead>\n",
       "  <tbody>\n",
       "    <tr>\n",
       "      <th>count</th>\n",
       "      <td>3168.000000</td>\n",
       "      <td>3168.000000</td>\n",
       "      <td>3168.000000</td>\n",
       "      <td>3168.000000</td>\n",
       "      <td>3168.000000</td>\n",
       "      <td>3168.000000</td>\n",
       "      <td>3168.000000</td>\n",
       "      <td>3168.000000</td>\n",
       "      <td>3168.000000</td>\n",
       "      <td>3024.000000</td>\n",
       "      <td>3168.000000</td>\n",
       "      <td>3168.000000</td>\n",
       "      <td>3168.000000</td>\n",
       "      <td>3168.000000</td>\n",
       "    </tr>\n",
       "    <tr>\n",
       "      <th>mean</th>\n",
       "      <td>52093.619003</td>\n",
       "      <td>37.312330</td>\n",
       "      <td>-91.799018</td>\n",
       "      <td>262218.210859</td>\n",
       "      <td>66.638548</td>\n",
       "      <td>55.641617</td>\n",
       "      <td>0.161957</td>\n",
       "      <td>0.131522</td>\n",
       "      <td>0.154186</td>\n",
       "      <td>0.986121</td>\n",
       "      <td>249.690657</td>\n",
       "      <td>262218.210859</td>\n",
       "      <td>3.892677</td>\n",
       "      <td>191025.761971</td>\n",
       "    </tr>\n",
       "    <tr>\n",
       "      <th>std</th>\n",
       "      <td>27818.339780</td>\n",
       "      <td>5.094979</td>\n",
       "      <td>15.090129</td>\n",
       "      <td>161909.590674</td>\n",
       "      <td>23.910746</td>\n",
       "      <td>16.767326</td>\n",
       "      <td>0.040010</td>\n",
       "      <td>0.137957</td>\n",
       "      <td>0.164017</td>\n",
       "      <td>0.080031</td>\n",
       "      <td>126.757860</td>\n",
       "      <td>161909.590674</td>\n",
       "      <td>0.481915</td>\n",
       "      <td>36302.914636</td>\n",
       "    </tr>\n",
       "    <tr>\n",
       "      <th>min</th>\n",
       "      <td>1040.000000</td>\n",
       "      <td>19.526845</td>\n",
       "      <td>-161.880060</td>\n",
       "      <td>10001.000000</td>\n",
       "      <td>4.811600</td>\n",
       "      <td>27.336667</td>\n",
       "      <td>0.047665</td>\n",
       "      <td>0.000831</td>\n",
       "      <td>0.006673</td>\n",
       "      <td>0.480000</td>\n",
       "      <td>1.000000</td>\n",
       "      <td>10001.000000</td>\n",
       "      <td>1.000000</td>\n",
       "      <td>101870.242366</td>\n",
       "    </tr>\n",
       "    <tr>\n",
       "      <th>25%</th>\n",
       "      <td>30119.250000</td>\n",
       "      <td>33.680992</td>\n",
       "      <td>-97.508440</td>\n",
       "      <td>110114.500000</td>\n",
       "      <td>51.639582</td>\n",
       "      <td>44.518386</td>\n",
       "      <td>0.134672</td>\n",
       "      <td>0.028352</td>\n",
       "      <td>0.038820</td>\n",
       "      <td>0.940000</td>\n",
       "      <td>144.000000</td>\n",
       "      <td>110114.500000</td>\n",
       "      <td>4.000000</td>\n",
       "      <td>172464.562058</td>\n",
       "    </tr>\n",
       "    <tr>\n",
       "      <th>50%</th>\n",
       "      <td>48840.500000</td>\n",
       "      <td>37.766329</td>\n",
       "      <td>-87.875455</td>\n",
       "      <td>250084.500000</td>\n",
       "      <td>61.173231</td>\n",
       "      <td>51.938428</td>\n",
       "      <td>0.157918</td>\n",
       "      <td>0.085894</td>\n",
       "      <td>0.087132</td>\n",
       "      <td>0.990000</td>\n",
       "      <td>268.000000</td>\n",
       "      <td>250084.500000</td>\n",
       "      <td>4.000000</td>\n",
       "      <td>180206.832967</td>\n",
       "    </tr>\n",
       "    <tr>\n",
       "      <th>75%</th>\n",
       "      <td>76241.000000</td>\n",
       "      <td>41.070054</td>\n",
       "      <td>-81.175125</td>\n",
       "      <td>390120.000000</td>\n",
       "      <td>76.795411</td>\n",
       "      <td>62.346322</td>\n",
       "      <td>0.182523</td>\n",
       "      <td>0.191344</td>\n",
       "      <td>0.223079</td>\n",
       "      <td>1.030000</td>\n",
       "      <td>357.000000</td>\n",
       "      <td>390120.000000</td>\n",
       "      <td>4.000000</td>\n",
       "      <td>205068.743273</td>\n",
       "    </tr>\n",
       "    <tr>\n",
       "      <th>max</th>\n",
       "      <td>99801.000000</td>\n",
       "      <td>64.835070</td>\n",
       "      <td>-68.002160</td>\n",
       "      <td>670130.000000</td>\n",
       "      <td>264.815267</td>\n",
       "      <td>146.194817</td>\n",
       "      <td>0.569440</td>\n",
       "      <td>0.854172</td>\n",
       "      <td>0.963230</td>\n",
       "      <td>1.530000</td>\n",
       "      <td>457.000000</td>\n",
       "      <td>670130.000000</td>\n",
       "      <td>4.000000</td>\n",
       "      <td>529609.756725</td>\n",
       "    </tr>\n",
       "  </tbody>\n",
       "</table>\n",
       "</div>"
      ],
      "text/plain": [
       "            zipcode     Latitude    Longitude    Provider ID  average_AGI_c  \\\n",
       "count   3168.000000  3168.000000  3168.000000    3168.000000    3168.000000   \n",
       "mean   52093.619003    37.312330   -91.799018  262218.210859      66.638548   \n",
       "std    27818.339780     5.094979    15.090129  161909.590674      23.910746   \n",
       "min     1040.000000    19.526845  -161.880060   10001.000000       4.811600   \n",
       "25%    30119.250000    33.680992   -97.508440  110114.500000      51.639582   \n",
       "50%    48840.500000    37.766329   -87.875455  250084.500000      61.173231   \n",
       "75%    76241.000000    41.070054   -81.175125  390120.000000      76.795411   \n",
       "max    99801.000000    64.835070   -68.002160  670130.000000     264.815267   \n",
       "\n",
       "       average_wage_c  per_over_65       per_ba        per_h        Score  \\\n",
       "count     3168.000000  3168.000000  3168.000000  3168.000000  3024.000000   \n",
       "mean        55.641617     0.161957     0.131522     0.154186     0.986121   \n",
       "std         16.767326     0.040010     0.137957     0.164017     0.080031   \n",
       "min         27.336667     0.047665     0.000831     0.006673     0.480000   \n",
       "25%         44.518386     0.134672     0.028352     0.038820     0.940000   \n",
       "50%         51.938428     0.157918     0.085894     0.087132     0.990000   \n",
       "75%         62.346322     0.182523     0.191344     0.223079     1.030000   \n",
       "max        146.194817     0.569440     0.854172     0.963230     1.530000   \n",
       "\n",
       "            hrrnum        prov_id  hosp_category          price  \n",
       "count  3168.000000    3168.000000    3168.000000    3168.000000  \n",
       "mean    249.690657  262218.210859       3.892677  191025.761971  \n",
       "std     126.757860  161909.590674       0.481915   36302.914636  \n",
       "min       1.000000   10001.000000       1.000000  101870.242366  \n",
       "25%     144.000000  110114.500000       4.000000  172464.562058  \n",
       "50%     268.000000  250084.500000       4.000000  180206.832967  \n",
       "75%     357.000000  390120.000000       4.000000  205068.743273  \n",
       "max     457.000000  670130.000000       4.000000  529609.756725  "
      ]
     },
     "execution_count": 346,
     "metadata": {},
     "output_type": "execute_result"
    }
   ],
   "source": [
    "X_full.describe()"
   ]
  },
  {
   "cell_type": "code",
   "execution_count": null,
   "metadata": {},
   "outputs": [],
   "source": [
    "X_full['price'].describe()"
   ]
  },
  {
   "cell_type": "code",
   "execution_count": 284,
   "metadata": {},
   "outputs": [
    {
     "data": {
      "text/plain": [
       "'023 - CRANIOTOMY W MAJOR DEVICE IMPLANT OR ACUTE CNS PDX W MCC OR CHEMOTHE'"
      ]
     },
     "execution_count": 284,
     "metadata": {},
     "output_type": "execute_result"
    }
   ],
   "source": [
    "inpatients.iloc[0,0]"
   ]
  },
  {
   "cell_type": "code",
   "execution_count": null,
   "metadata": {},
   "outputs": [],
   "source": []
  }
 ],
 "metadata": {
  "kernelspec": {
   "display_name": "Python 3",
   "language": "python",
   "name": "python3"
  },
  "language_info": {
   "codemirror_mode": {
    "name": "ipython",
    "version": 3
   },
   "file_extension": ".py",
   "mimetype": "text/x-python",
   "name": "python",
   "nbconvert_exporter": "python",
   "pygments_lexer": "ipython3",
   "version": "3.8.3"
  }
 },
 "nbformat": 4,
 "nbformat_minor": 4
}
