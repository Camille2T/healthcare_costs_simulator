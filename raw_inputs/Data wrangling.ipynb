{
 "cells": [
  {
   "cell_type": "markdown",
   "metadata": {},
   "source": [
    "This notebook is dedicated to data preparation both for *model preparation* (see the XX notebook) and for *predictions* performed in my app.   \n",
    "It outputs 5 differents things:\n",
    "\n",
    "- one local dataset: \"prepared_data/Output_local_basis.csv\"\n",
    "- a hospital data set\n",
    "- several datasets for models\n",
    "- some dictionnaries used in my app"
   ]
  },
  {
   "cell_type": "markdown",
   "metadata": {},
   "source": [
    "# 1. Data gathering"
   ]
  },
  {
   "cell_type": "markdown",
   "metadata": {},
   "source": [
    "## 1.1 Data from the CMS website"
   ]
  },
  {
   "cell_type": "code",
   "execution_count": 1,
   "metadata": {},
   "outputs": [],
   "source": [
    "import pandas as pd\n",
    "import os\n",
    "import numpy as np"
   ]
  },
  {
   "cell_type": "markdown",
   "metadata": {},
   "source": [
    "### 1.1.1 The inpatient provider utilization and payment data\n",
    "\n",
    "The main dataset: **\"Medicare Provider Utilization and Payment Data: Inpatient\"** for year 2017, which is the most recent year available:   \n",
    "https://www.cms.gov/Research-Statistics-Data-and-Systems/Statistics-Trends-and-Reports/Medicare-Provider-Charge-Data/Inpatient"
   ]
  },
  {
   "cell_type": "code",
   "execution_count": 29,
   "metadata": {},
   "outputs": [
    {
     "name": "stdout",
     "output_type": "stream",
     "text": [
      "Archive:  Inpatient_Data_2017_CSV.zip\n"
     ]
    }
   ],
   "source": [
    "%%bash\n",
    "wget https://www.cms.gov/Research-Statistics-Data-and-Systems/Statistics-Trends-and-Reports/Medicare-Provider-Charge-Data/Downloads/Inpatient_Data_2017_CSV.zip -nc -q \n",
    "unzip -u Inpatient_Data_2017_CSV.zip"
   ]
  },
  {
   "cell_type": "code",
   "execution_count": null,
   "metadata": {},
   "outputs": [],
   "source": [
    "%%bash\n",
    "git add MEDICARE_PROVIDER_CHARGE_INPATIENT_DRGALL_FY2017.CSV\n",
    "git commit"
   ]
  },
  {
   "cell_type": "code",
   "execution_count": 30,
   "metadata": {},
   "outputs": [],
   "source": [
    "%%bash\n",
    "rm Inpatient_Data_2017_CSV.zip"
   ]
  },
  {
   "cell_type": "markdown",
   "metadata": {},
   "source": [
    "### 1.1.2 The last *hospital compare* flat files package \n",
    "\n",
    "\n",
    "The hospital compare dataset (choice: most recent data)\n",
    "https://data.medicare.gov/data/archives/hospital-compare\n",
    "\n",
    "Pick up two important files:  \n",
    "- the **general information file** (with hospital ownership, average ratings...) \n",
    "- the **Medicare Hospital Spending per Patient - Hospital.csv** file which gives an assessment of the spending per patient in a price-standardized and risk-adjusted way. https://www.medicare.gov/hospitalcompare/Data/Medicare-Spending-Beneficiary.html\n"
   ]
  },
  {
   "cell_type": "code",
   "execution_count": 36,
   "metadata": {},
   "outputs": [],
   "source": [
    "%%bash\n",
    "wget http://medicare.gov/download/HospitalCompare/2020/July/HOSArchive_Revised_Flatfiles_20200731.zip -nc -q \n"
   ]
  },
  {
   "cell_type": "code",
   "execution_count": 37,
   "metadata": {},
   "outputs": [],
   "source": [
    "if not os.path.exists('hospital_compare_data'):\n",
    "    os.makedirs('hospital_compare_data')"
   ]
  },
  {
   "cell_type": "code",
   "execution_count": 38,
   "metadata": {},
   "outputs": [],
   "source": [
    "%%bash\n",
    "cp HOSArchive_Revised_Flatfiles_20200731.zip hospital_compare_data \n",
    "rm HOSArchive_Revised_Flatfiles_20200731.zip"
   ]
  },
  {
   "cell_type": "code",
   "execution_count": 39,
   "metadata": {},
   "outputs": [
    {
     "name": "stdout",
     "output_type": "stream",
     "text": [
      "Archive:  HOSArchive_Revised_Flatfiles_20200731.zip\n",
      "  inflating: ASC_CCN_pr19q1_19q4.csv  \n",
      "  inflating: ASC_Facility.csv        \n",
      "  inflating: ASC_National.csv        \n",
      "  inflating: ASC_NATIONAL_pr19q1_19q4.csv  \n",
      "  inflating: ASC_State.csv           \n",
      "  inflating: ASC_STATE_pr19q1_19q4.csv  \n",
      "  inflating: CJR PY4 Quality Reporting_July 2020_Production File.csv  \n",
      "  inflating: CMS_PSI_6_decimal_file.csv  \n",
      "  inflating: Complications and Deaths - Hospital.csv  \n",
      "  inflating: Complications and Deaths - National.csv  \n",
      "  inflating: Complications and Deaths - State.csv  \n",
      "  inflating: Footnote Crosswalk.csv  \n",
      "  inflating: footnotes_deliver_19q1_19q4.csv  \n",
      "  inflating: FY2018_Distribution_of_Net_Change_in_Base_Op_DRG_Payment_Amt_2019-11-22.csv  \n",
      "  inflating: FY2018_Net_Change_in_Base_Op_DRG_Payment_Amt_2019-11-22.csv  \n",
      "  inflating: FY2018_Percent_Change_in_Medicare_Payments_2019-11-22.csv  \n",
      "  inflating: FY2018_Value_Based_Incentive_Payment_Amount_2019-11-22.csv  \n",
      "  inflating: HCAHPS - Hospital.csv   \n",
      "  inflating: HCAHPS - National.csv   \n",
      "  inflating: HCAHPS - State.csv      \n",
      "  inflating: Healthcare Associated Infections - Hospital.csv  \n",
      "  inflating: Healthcare Associated Infections - National.csv  \n",
      "  inflating: Healthcare Associated Infections - State.csv  \n",
      "  inflating: HOPD_CCN_pr19q1_19q4.csv  \n",
      "  inflating: HOPD_NATIONAL_pr19q1_19q4.csv  \n",
      "  inflating: HOPD_STATE_pr19q1_19q4.csv  \n",
      "  inflating: Hospital General Information.csv  \n",
      "  inflating: Hospital.pdf            \n",
      "  inflating: HOSPITAL_ANNUAL_QUALITYMEASURE_PCH_EBRT_HOSPITAL.csv  \n",
      "  inflating: HOSPITAL_ANNUAL_QUALITYMEASURE_PCH_OCM_Hospital.csv  \n",
      "  inflating: HOSPITAL_ANNUAL_QUALITYMEASURE_PCH_OUTCOMES_HOSPITAL.csv  \n",
      "  inflating: HOSPITAL_ANNUAL_QUALITYMEASURE_PCH_OUTCOMES_NATIONAL.csv  \n",
      "  inflating: HOSPITAL_QUARTERLY_HAC_DOMAIN_HOSPITAL.csv  \n",
      "  inflating: HOSPITAL_QUARTERLY_MSPB_6_DECIMALS.csv  \n",
      "  inflating: HOSPITAL_QUARTERLY_QUALITYMEASURE_PCH_HAI_HOSPITAL.csv  \n",
      "  inflating: HOSPITAL_QUARTERLY_QUALITYMEASURE_PCH_HCAHPS_HOSPITAL.csv  \n",
      "  inflating: HOSPITAL_QUARTERLY_QUALITYMEASURE_PCH_HCAHPS_NATIONAL.csv  \n",
      "  inflating: HOSPITAL_QUARTERLY_QUALITYMEASURE_PCH_HCAHPS_STATE.csv  \n",
      "  inflating: HOSPITAL_QUARTERLY_QUALITYMEASURE_RRP_HOSPITAL.csv  \n",
      "  inflating: hvbp_clinical_outcomes_12_09_2019.csv  \n",
      "  inflating: hvbp_efficiency_12_09_2019.csv  \n",
      "  inflating: hvbp_hcahps_12_09_2019.csv  \n",
      "  inflating: hvbp_safety_12_09_2019.csv  \n",
      "  inflating: hvbp_tps_12_09_2019.csv  \n",
      "  inflating: IPFQR_QualityMeasures_Facility.csv  \n",
      "  inflating: IPFQR_QualityMeasures_National.csv  \n",
      "  inflating: IPFQR_QualityMeasures_State.csv  \n",
      "  inflating: Measure_Dates.csv       \n",
      "  inflating: Medicare Hospital Spending by Claim.csv  \n",
      "  inflating: Medicare Hospital Spending Per Patient - Hospital.csv  \n",
      "  inflating: Medicare Hospital Spending Per Patient - National.csv  \n",
      "  inflating: Medicare Hospital Spending Per Patient - State.csv  \n",
      "  inflating: Outpatient Imaging Efficiency - Hospital.csv  \n",
      "  inflating: Outpatient Imaging Efficiency - National.csv  \n",
      "  inflating: Outpatient Imaging Efficiency - State.csv  \n",
      "  inflating: Payment - National.csv  \n",
      "  inflating: Payment - State.csv     \n",
      "  inflating: Payment and Value of Care - Hospital.csv  \n",
      "  inflating: Structural Measures - Hospital.csv  \n",
      "  inflating: Timely and Effective Care - Hospital.csv  \n",
      "  inflating: Timely and Effective Care - National.csv  \n",
      "  inflating: Timely and Effective Care - State.csv  \n",
      "  inflating: Unplanned Hospital Visits - Hospital.csv  \n",
      "  inflating: Unplanned Hospital Visits - National.csv  \n",
      "  inflating: Unplanned Hospital Visits - State.csv  \n",
      "  inflating: Value of Care - National.csv  \n",
      "  inflating: VA_IPF.csv              \n",
      "  inflating: VA_PSI.csv              \n",
      "  inflating: VA_TE.csv               \n",
      "  inflating: Veterans_Health_Administration_Measure_Dates.csv  \n",
      "  inflating: Veterans_Health_Administration_Provider_Level_Data.csv  \n",
      "ASC_CCN_pr19q1_19q4.csv\n",
      "ASC_Facility.csv\n",
      "ASC_NATIONAL_pr19q1_19q4.csv\n",
      "ASC_National.csv\n",
      "ASC_STATE_pr19q1_19q4.csv\n",
      "ASC_State.csv\n",
      "CJR PY4 Quality Reporting_July 2020_Production File.csv\n",
      "CMS_PSI_6_decimal_file.csv\n",
      "Complications and Deaths - Hospital.csv\n",
      "Complications and Deaths - National.csv\n",
      "Complications and Deaths - State.csv\n",
      "FY2018_Distribution_of_Net_Change_in_Base_Op_DRG_Payment_Amt_2019-11-22.csv\n",
      "FY2018_Net_Change_in_Base_Op_DRG_Payment_Amt_2019-11-22.csv\n",
      "FY2018_Percent_Change_in_Medicare_Payments_2019-11-22.csv\n",
      "FY2018_Value_Based_Incentive_Payment_Amount_2019-11-22.csv\n",
      "Footnote Crosswalk.csv\n",
      "HCAHPS - Hospital.csv\n",
      "HCAHPS - National.csv\n",
      "HCAHPS - State.csv\n",
      "HOPD_CCN_pr19q1_19q4.csv\n",
      "HOPD_NATIONAL_pr19q1_19q4.csv\n",
      "HOPD_STATE_pr19q1_19q4.csv\n",
      "HOSArchive_Revised_Flatfiles_20200731.zip\n",
      "HOSPITAL_ANNUAL_QUALITYMEASURE_PCH_EBRT_HOSPITAL.csv\n",
      "HOSPITAL_ANNUAL_QUALITYMEASURE_PCH_OCM_Hospital.csv\n",
      "HOSPITAL_ANNUAL_QUALITYMEASURE_PCH_OUTCOMES_HOSPITAL.csv\n",
      "HOSPITAL_ANNUAL_QUALITYMEASURE_PCH_OUTCOMES_NATIONAL.csv\n",
      "HOSPITAL_QUARTERLY_HAC_DOMAIN_HOSPITAL.csv\n",
      "HOSPITAL_QUARTERLY_MSPB_6_DECIMALS.csv\n",
      "HOSPITAL_QUARTERLY_QUALITYMEASURE_PCH_HAI_HOSPITAL.csv\n",
      "HOSPITAL_QUARTERLY_QUALITYMEASURE_PCH_HCAHPS_HOSPITAL.csv\n",
      "HOSPITAL_QUARTERLY_QUALITYMEASURE_PCH_HCAHPS_NATIONAL.csv\n",
      "HOSPITAL_QUARTERLY_QUALITYMEASURE_PCH_HCAHPS_STATE.csv\n",
      "HOSPITAL_QUARTERLY_QUALITYMEASURE_RRP_HOSPITAL.csv\n",
      "Healthcare Associated Infections - Hospital.csv\n",
      "Healthcare Associated Infections - National.csv\n",
      "Healthcare Associated Infections - State.csv\n",
      "Hospital General Information.csv\n",
      "Hospital.pdf\n",
      "IPFQR_QualityMeasures_Facility.csv\n",
      "IPFQR_QualityMeasures_National.csv\n",
      "IPFQR_QualityMeasures_State.csv\n",
      "Measure_Dates.csv\n",
      "Medicare Hospital Spending Per Patient - Hospital.csv\n",
      "Medicare Hospital Spending Per Patient - National.csv\n",
      "Medicare Hospital Spending Per Patient - State.csv\n",
      "Medicare Hospital Spending by Claim.csv\n",
      "Outpatient Imaging Efficiency - Hospital.csv\n",
      "Outpatient Imaging Efficiency - National.csv\n",
      "Outpatient Imaging Efficiency - State.csv\n",
      "Payment - National.csv\n",
      "Payment - State.csv\n",
      "Payment and Value of Care - Hospital.csv\n",
      "Structural Measures - Hospital.csv\n",
      "Timely and Effective Care - Hospital.csv\n",
      "Timely and Effective Care - National.csv\n",
      "Timely and Effective Care - State.csv\n",
      "Unplanned Hospital Visits - Hospital.csv\n",
      "Unplanned Hospital Visits - National.csv\n",
      "Unplanned Hospital Visits - State.csv\n",
      "VA_IPF.csv\n",
      "VA_PSI.csv\n",
      "VA_TE.csv\n",
      "Value of Care - National.csv\n",
      "Veterans_Health_Administration_Measure_Dates.csv\n",
      "Veterans_Health_Administration_Provider_Level_Data.csv\n",
      "footnotes_deliver_19q1_19q4.csv\n",
      "hvbp_clinical_outcomes_12_09_2019.csv\n",
      "hvbp_efficiency_12_09_2019.csv\n",
      "hvbp_hcahps_12_09_2019.csv\n",
      "hvbp_safety_12_09_2019.csv\n",
      "hvbp_tps_12_09_2019.csv\n"
     ]
    }
   ],
   "source": [
    "%%bash\n",
    "cd hospital_compare_data\n",
    "unzip HOSArchive_Revised_Flatfiles_20200731.zip \n",
    "ls"
   ]
  },
  {
   "cell_type": "code",
   "execution_count": 40,
   "metadata": {},
   "outputs": [],
   "source": [
    "%%bash\n",
    "cd hospital_compare_data\n",
    "mv 'Hospital General Information.csv' Hospital_General_Information.csv\n",
    "mv 'Medicare Hospital Spending per Patient - Hospital.csv' Medicare_Hospital_spending_per_patient_Hospital.csv"
   ]
  },
  {
   "cell_type": "code",
   "execution_count": 41,
   "metadata": {},
   "outputs": [
    {
     "name": "stdout",
     "output_type": "stream",
     "text": [
      "Data wrangling.ipynb\n",
      "Hospital_General_Information.csv\n",
      "MEDICARE_PROVIDER_CHARGE_INPATIENT_DRGALL_FY2017.CSV\n",
      "Medicare_Hospital_spending_per_patient_Hospital.csv\n",
      "hospital_compare_data\n"
     ]
    }
   ],
   "source": [
    "%%bash\n",
    "cp hospital_compare_data/Hospital_General_Information.csv .\n",
    "cp hospital_compare_data/Medicare_Hospital_spending_per_patient_Hospital.csv .\n",
    "\n",
    "ls\n"
   ]
  },
  {
   "cell_type": "code",
   "execution_count": 42,
   "metadata": {},
   "outputs": [
    {
     "name": "stdout",
     "output_type": "stream",
     "text": [
      "Data wrangling.ipynb\n",
      "Hospital_General_Information.csv\n",
      "MEDICARE_PROVIDER_CHARGE_INPATIENT_DRGALL_FY2017.CSV\n",
      "Medicare_Hospital_spending_per_patient_Hospital.csv\n"
     ]
    }
   ],
   "source": [
    "%%bash\n",
    "rm -r hospital_compare_data\n",
    "ls"
   ]
  },
  {
   "cell_type": "code",
   "execution_count": 43,
   "metadata": {},
   "outputs": [
    {
     "name": "stdout",
     "output_type": "stream",
     "text": [
      "[master 7f34862] Add two additionnal files from CMS: Hospital_General_Information.csv and Medicare_Hospital_spending_per_patient_Hospital.csv\n",
      " 2 files changed, 10034 insertions(+)\n",
      " create mode 100644 raw_inputs/Hospital_General_Information.csv\n",
      " create mode 100644 raw_inputs/Medicare_Hospital_spending_per_patient_Hospital.csv\n"
     ]
    }
   ],
   "source": [
    "%%bash\n",
    "git add Hospital_General_Information.csv Medicare_Hospital_spending_per_patient_Hospital.csv\n",
    "git commit"
   ]
  },
  {
   "cell_type": "markdown",
   "metadata": {},
   "source": [
    "## 1.2 \"Local\" Data"
   ]
  },
  {
   "cell_type": "markdown",
   "metadata": {},
   "source": [
    "Download:\n",
    "\n",
    "- a zipcode - HRR (hospital referral region) crosswalk table from the Dartmouth Atlas\n",
    "https://atlasdata.dartmouth.edu/downloads/geography/ZipHsaHrr17.xls    \n",
    "- a crosswalk between zipcodes and counties https://www.huduser.gov/portal/datasets/usps_crosswalk.html (done manually)  \n",
    "- IRS revenue data at county level: https://www.irs.gov/pub/irs-soi/17incyallnoagi.csv\n",
    "- census data: cc-est2017-alldata.csv from ("
   ]
  },
  {
   "cell_type": "code",
   "execution_count": 46,
   "metadata": {},
   "outputs": [],
   "source": [
    "%%bash\n",
    "wget https://atlasdata.dartmouth.edu/downloads/geography/ZipHsaHrr17.xls  -q -nc"
   ]
  },
  {
   "cell_type": "code",
   "execution_count": 44,
   "metadata": {},
   "outputs": [],
   "source": [
    "#move from download\n",
    "os.rename(\"/Users/camilledethe/downloads/ZIP_COUNTY_122017.xlsx\", \"ZIP_COUNTY_122017.xlsx\")\n"
   ]
  },
  {
   "cell_type": "code",
   "execution_count": 47,
   "metadata": {},
   "outputs": [],
   "source": [
    "%%bash\n",
    "wget https://www.irs.gov/pub/irs-soi/17incyallnoagi.csv  -q -nc"
   ]
  },
  {
   "cell_type": "code",
   "execution_count": 49,
   "metadata": {},
   "outputs": [],
   "source": [
    "os.rename(\"/Users/camilledethe/downloads/us-zip-code-latitude-and-longitude.csv\", \"us-zip-code-latitude-and-longitude.csv\")"
   ]
  },
  {
   "cell_type": "code",
   "execution_count": 82,
   "metadata": {},
   "outputs": [],
   "source": [
    "#move from download\n",
    "os.rename(\"/Users/camilledethe/downloads/cc-est2017-alldata.csv\", \"cc-est2017-alldata.csv\")"
   ]
  },
  {
   "cell_type": "code",
   "execution_count": 118,
   "metadata": {},
   "outputs": [],
   "source": [
    "%%bash \n",
    "git add 17incyallnoagi.csv \"Data wrangling.ipynb\" ZIP_COUNTY_122017.xlsx ZipHsaHrr17.xls cc-est2017-alldata.csv us-zip-code-latitude-and-longitude.csv"
   ]
  },
  {
   "cell_type": "code",
   "execution_count": 119,
   "metadata": {},
   "outputs": [
    {
     "name": "stdout",
     "output_type": "stream",
     "text": [
      "[master 0fae6a4] add all raw files for the \"local\" data set (including IRS, census, crosswalks files)\n",
      " 6 files changed, 644392 insertions(+)\n",
      " create mode 100644 raw_inputs/17incyallnoagi.csv\n",
      " create mode 100644 raw_inputs/Data wrangling.ipynb\n",
      " create mode 100644 raw_inputs/ZIP_COUNTY_122017.xlsx\n",
      " create mode 100644 raw_inputs/ZipHsaHrr17.xls\n",
      " create mode 100644 raw_inputs/cc-est2017-alldata.csv\n",
      " create mode 100644 raw_inputs/us-zip-code-latitude-and-longitude.csv\n"
     ]
    }
   ],
   "source": [
    "%%bash \n",
    "git commit"
   ]
  },
  {
   "cell_type": "markdown",
   "metadata": {},
   "source": [
    "\n",
    "# 2. Data preparation\n"
   ]
  },
  {
   "cell_type": "markdown",
   "metadata": {},
   "source": [
    "## 2.1 Preparation of the \"local\" dataset\n",
    "\n",
    "It's important not to destroy any information. So need "
   ]
  },
  {
   "cell_type": "markdown",
   "metadata": {},
   "source": [
    "### 2.1.1 Preparation of the basic structures: zipcode, longitude, latitude, county, HRR\n",
    "\n",
    "missing zipcode 01040, 97471,85209\n",
    "zip_coun = 39455 unique zipcode"
   ]
  },
  {
   "cell_type": "code",
   "execution_count": 215,
   "metadata": {},
   "outputs": [
    {
     "data": {
      "text/plain": [
       "231"
      ]
     },
     "execution_count": 215,
     "metadata": {},
     "output_type": "execute_result"
    }
   ],
   "source": [
    "len(missing_zipcode)"
   ]
  },
  {
   "cell_type": "code",
   "execution_count": 195,
   "metadata": {},
   "outputs": [],
   "source": [
    "zip_coun=pd.read_excel('ZIP_COUNTY_122017.xlsx',usecols=[0,1],skiprows=0,dtype={'zip':str,'county':str})"
   ]
  },
  {
   "cell_type": "code",
   "execution_count": 196,
   "metadata": {},
   "outputs": [],
   "source": [
    "#Pb for a couple of zipcodes we have several counties, select just the first one\n",
    "zip_coun=zip_coun.groupby('zip').county.agg(['first']).reset_index()"
   ]
  },
  {
   "cell_type": "code",
   "execution_count": 197,
   "metadata": {},
   "outputs": [],
   "source": [
    "zip_coun.rename(columns={'first':'county'}, inplace=True)"
   ]
  },
  {
   "cell_type": "code",
   "execution_count": 200,
   "metadata": {},
   "outputs": [
    {
     "data": {
      "text/plain": [
       "(39455, 2)"
      ]
     },
     "execution_count": 200,
     "metadata": {},
     "output_type": "execute_result"
    }
   ],
   "source": [
    "zip_coun.shape"
   ]
  },
  {
   "cell_type": "code",
   "execution_count": 224,
   "metadata": {},
   "outputs": [
    {
     "data": {
      "text/html": [
       "<div>\n",
       "<style scoped>\n",
       "    .dataframe tbody tr th:only-of-type {\n",
       "        vertical-align: middle;\n",
       "    }\n",
       "\n",
       "    .dataframe tbody tr th {\n",
       "        vertical-align: top;\n",
       "    }\n",
       "\n",
       "    .dataframe thead th {\n",
       "        text-align: right;\n",
       "    }\n",
       "</style>\n",
       "<table border=\"1\" class=\"dataframe\">\n",
       "  <thead>\n",
       "    <tr style=\"text-align: right;\">\n",
       "      <th></th>\n",
       "      <th>zip</th>\n",
       "      <th>county</th>\n",
       "    </tr>\n",
       "  </thead>\n",
       "  <tbody>\n",
       "    <tr>\n",
       "      <th>204</th>\n",
       "      <td>01040</td>\n",
       "      <td>25013</td>\n",
       "    </tr>\n",
       "    <tr>\n",
       "      <th>212</th>\n",
       "      <td>01060</td>\n",
       "      <td>25015</td>\n",
       "    </tr>\n",
       "    <tr>\n",
       "      <th>218</th>\n",
       "      <td>01069</td>\n",
       "      <td>25015</td>\n",
       "    </tr>\n",
       "    <tr>\n",
       "      <th>232</th>\n",
       "      <td>01085</td>\n",
       "      <td>25013</td>\n",
       "    </tr>\n",
       "    <tr>\n",
       "      <th>245</th>\n",
       "      <td>01104</td>\n",
       "      <td>25013</td>\n",
       "    </tr>\n",
       "    <tr>\n",
       "      <th>...</th>\n",
       "      <td>...</td>\n",
       "      <td>...</td>\n",
       "    </tr>\n",
       "    <tr>\n",
       "      <th>34387</th>\n",
       "      <td>85209</td>\n",
       "      <td>04013</td>\n",
       "    </tr>\n",
       "    <tr>\n",
       "      <th>34639</th>\n",
       "      <td>85755</td>\n",
       "      <td>04019</td>\n",
       "    </tr>\n",
       "    <tr>\n",
       "      <th>34740</th>\n",
       "      <td>86409</td>\n",
       "      <td>04015</td>\n",
       "    </tr>\n",
       "    <tr>\n",
       "      <th>36251</th>\n",
       "      <td>92395</td>\n",
       "      <td>06071</td>\n",
       "    </tr>\n",
       "    <tr>\n",
       "      <th>38320</th>\n",
       "      <td>97471</td>\n",
       "      <td>41019</td>\n",
       "    </tr>\n",
       "  </tbody>\n",
       "</table>\n",
       "<p>211 rows × 2 columns</p>\n",
       "</div>"
      ],
      "text/plain": [
       "         zip county\n",
       "204    01040  25013\n",
       "212    01060  25015\n",
       "218    01069  25015\n",
       "232    01085  25013\n",
       "245    01104  25013\n",
       "...      ...    ...\n",
       "34387  85209  04013\n",
       "34639  85755  04019\n",
       "34740  86409  04015\n",
       "36251  92395  06071\n",
       "38320  97471  41019\n",
       "\n",
       "[211 rows x 2 columns]"
      ]
     },
     "execution_count": 224,
     "metadata": {},
     "output_type": "execute_result"
    }
   ],
   "source": [
    "zip_coun[zip_coun.zip.isin(missing_zipcode)]"
   ]
  },
  {
   "cell_type": "code",
   "execution_count": 198,
   "metadata": {},
   "outputs": [],
   "source": [
    "long_lat=pd.read_csv('us-zip-code-latitude-and-longitude.csv',sep=';', dtype={'Zip':str}, \n",
    "                     usecols=['Zip','City','State','Latitude','Longitude'])"
   ]
  },
  {
   "cell_type": "code",
   "execution_count": 211,
   "metadata": {},
   "outputs": [
    {
     "name": "stdout",
     "output_type": "stream",
     "text": [
      "<class 'pandas.core.frame.DataFrame'>\n",
      "RangeIndex: 43191 entries, 0 to 43190\n",
      "Data columns (total 5 columns):\n",
      " #   Column     Non-Null Count  Dtype  \n",
      "---  ------     --------------  -----  \n",
      " 0   Zip        43191 non-null  object \n",
      " 1   City       43191 non-null  object \n",
      " 2   State      43191 non-null  object \n",
      " 3   Latitude   43191 non-null  float64\n",
      " 4   Longitude  43191 non-null  float64\n",
      "dtypes: float64(2), object(3)\n",
      "memory usage: 1.6+ MB\n"
     ]
    }
   ],
   "source": [
    "long_lat.info()"
   ]
  },
  {
   "cell_type": "code",
   "execution_count": null,
   "metadata": {},
   "outputs": [],
   "source": []
  },
  {
   "cell_type": "code",
   "execution_count": 225,
   "metadata": {},
   "outputs": [],
   "source": [
    "local_1=zip_coun.merge(long_lat, left_on='zip',right_on='Zip')"
   ]
  },
  {
   "cell_type": "code",
   "execution_count": 226,
   "metadata": {},
   "outputs": [
    {
     "data": {
      "text/html": [
       "<div>\n",
       "<style scoped>\n",
       "    .dataframe tbody tr th:only-of-type {\n",
       "        vertical-align: middle;\n",
       "    }\n",
       "\n",
       "    .dataframe tbody tr th {\n",
       "        vertical-align: top;\n",
       "    }\n",
       "\n",
       "    .dataframe thead th {\n",
       "        text-align: right;\n",
       "    }\n",
       "</style>\n",
       "<table border=\"1\" class=\"dataframe\">\n",
       "  <thead>\n",
       "    <tr style=\"text-align: right;\">\n",
       "      <th></th>\n",
       "      <th>zip</th>\n",
       "      <th>county</th>\n",
       "      <th>Zip</th>\n",
       "      <th>City</th>\n",
       "      <th>State</th>\n",
       "      <th>Latitude</th>\n",
       "      <th>Longitude</th>\n",
       "    </tr>\n",
       "  </thead>\n",
       "  <tbody>\n",
       "    <tr>\n",
       "      <th>203</th>\n",
       "      <td>01040</td>\n",
       "      <td>25013</td>\n",
       "      <td>01040</td>\n",
       "      <td>Holyoke</td>\n",
       "      <td>MA</td>\n",
       "      <td>42.201891</td>\n",
       "      <td>-72.62420</td>\n",
       "    </tr>\n",
       "    <tr>\n",
       "      <th>211</th>\n",
       "      <td>01060</td>\n",
       "      <td>25015</td>\n",
       "      <td>01060</td>\n",
       "      <td>Northampton</td>\n",
       "      <td>MA</td>\n",
       "      <td>42.324539</td>\n",
       "      <td>-72.63561</td>\n",
       "    </tr>\n",
       "    <tr>\n",
       "      <th>217</th>\n",
       "      <td>01069</td>\n",
       "      <td>25015</td>\n",
       "      <td>01069</td>\n",
       "      <td>Palmer</td>\n",
       "      <td>MA</td>\n",
       "      <td>42.176401</td>\n",
       "      <td>-72.32646</td>\n",
       "    </tr>\n",
       "    <tr>\n",
       "      <th>231</th>\n",
       "      <td>01085</td>\n",
       "      <td>25013</td>\n",
       "      <td>01085</td>\n",
       "      <td>Westfield</td>\n",
       "      <td>MA</td>\n",
       "      <td>42.133642</td>\n",
       "      <td>-72.75029</td>\n",
       "    </tr>\n",
       "    <tr>\n",
       "      <th>244</th>\n",
       "      <td>01104</td>\n",
       "      <td>25013</td>\n",
       "      <td>01104</td>\n",
       "      <td>Springfield</td>\n",
       "      <td>MA</td>\n",
       "      <td>42.130343</td>\n",
       "      <td>-72.57338</td>\n",
       "    </tr>\n",
       "    <tr>\n",
       "      <th>...</th>\n",
       "      <td>...</td>\n",
       "      <td>...</td>\n",
       "      <td>...</td>\n",
       "      <td>...</td>\n",
       "      <td>...</td>\n",
       "      <td>...</td>\n",
       "      <td>...</td>\n",
       "    </tr>\n",
       "    <tr>\n",
       "      <th>3028</th>\n",
       "      <td>08861</td>\n",
       "      <td>34023</td>\n",
       "      <td>08861</td>\n",
       "      <td>Perth Amboy</td>\n",
       "      <td>NJ</td>\n",
       "      <td>40.520105</td>\n",
       "      <td>-74.27708</td>\n",
       "    </tr>\n",
       "    <tr>\n",
       "      <th>3031</th>\n",
       "      <td>08865</td>\n",
       "      <td>34041</td>\n",
       "      <td>08865</td>\n",
       "      <td>Phillipsburg</td>\n",
       "      <td>NJ</td>\n",
       "      <td>40.689123</td>\n",
       "      <td>-75.17243</td>\n",
       "    </tr>\n",
       "    <tr>\n",
       "      <th>3039</th>\n",
       "      <td>08876</td>\n",
       "      <td>34035</td>\n",
       "      <td>08876</td>\n",
       "      <td>Somerville</td>\n",
       "      <td>NJ</td>\n",
       "      <td>40.545853</td>\n",
       "      <td>-74.63592</td>\n",
       "    </tr>\n",
       "    <tr>\n",
       "      <th>3050</th>\n",
       "      <td>08901</td>\n",
       "      <td>34023</td>\n",
       "      <td>08901</td>\n",
       "      <td>New Brunswick</td>\n",
       "      <td>NJ</td>\n",
       "      <td>40.488304</td>\n",
       "      <td>-74.44775</td>\n",
       "    </tr>\n",
       "    <tr>\n",
       "      <th>22060</th>\n",
       "      <td>55092</td>\n",
       "      <td>27025</td>\n",
       "      <td>55092</td>\n",
       "      <td>Wyoming</td>\n",
       "      <td>MN</td>\n",
       "      <td>45.329115</td>\n",
       "      <td>-93.06834</td>\n",
       "    </tr>\n",
       "  </tbody>\n",
       "</table>\n",
       "<p>189 rows × 7 columns</p>\n",
       "</div>"
      ],
      "text/plain": [
       "         zip county    Zip           City State   Latitude  Longitude\n",
       "203    01040  25013  01040        Holyoke    MA  42.201891  -72.62420\n",
       "211    01060  25015  01060    Northampton    MA  42.324539  -72.63561\n",
       "217    01069  25015  01069         Palmer    MA  42.176401  -72.32646\n",
       "231    01085  25013  01085      Westfield    MA  42.133642  -72.75029\n",
       "244    01104  25013  01104    Springfield    MA  42.130343  -72.57338\n",
       "...      ...    ...    ...            ...   ...        ...        ...\n",
       "3028   08861  34023  08861    Perth Amboy    NJ  40.520105  -74.27708\n",
       "3031   08865  34041  08865   Phillipsburg    NJ  40.689123  -75.17243\n",
       "3039   08876  34035  08876     Somerville    NJ  40.545853  -74.63592\n",
       "3050   08901  34023  08901  New Brunswick    NJ  40.488304  -74.44775\n",
       "22060  55092  27025  55092        Wyoming    MN  45.329115  -93.06834\n",
       "\n",
       "[189 rows x 7 columns]"
      ]
     },
     "execution_count": 226,
     "metadata": {},
     "output_type": "execute_result"
    }
   ],
   "source": [
    "local_1[local_1.zip.isin(missing_zipcode)]"
   ]
  },
  {
   "cell_type": "code",
   "execution_count": 227,
   "metadata": {},
   "outputs": [],
   "source": [
    "zip_hrr=pd.read_excel('ZipHsaHrr17.xls',dtype={'zipcode2017':str,'county':str})\n"
   ]
  },
  {
   "cell_type": "code",
   "execution_count": 238,
   "metadata": {},
   "outputs": [
    {
     "data": {
      "text/html": [
       "<div>\n",
       "<style scoped>\n",
       "    .dataframe tbody tr th:only-of-type {\n",
       "        vertical-align: middle;\n",
       "    }\n",
       "\n",
       "    .dataframe tbody tr th {\n",
       "        vertical-align: top;\n",
       "    }\n",
       "\n",
       "    .dataframe thead th {\n",
       "        text-align: right;\n",
       "    }\n",
       "</style>\n",
       "<table border=\"1\" class=\"dataframe\">\n",
       "  <thead>\n",
       "    <tr style=\"text-align: right;\">\n",
       "      <th></th>\n",
       "      <th>zipcode2017</th>\n",
       "      <th>hsanum</th>\n",
       "      <th>hsacity</th>\n",
       "      <th>hsastate</th>\n",
       "      <th>hrrnum</th>\n",
       "      <th>hrrcity</th>\n",
       "      <th>hrrstate</th>\n",
       "      <th>zip_pad</th>\n",
       "    </tr>\n",
       "  </thead>\n",
       "  <tbody>\n",
       "    <tr>\n",
       "      <th>0</th>\n",
       "      <td>00501</td>\n",
       "      <td>33095</td>\n",
       "      <td>Patchogue</td>\n",
       "      <td>NY</td>\n",
       "      <td>301</td>\n",
       "      <td>East Long Island</td>\n",
       "      <td>NY</td>\n",
       "      <td>00501</td>\n",
       "    </tr>\n",
       "    <tr>\n",
       "      <th>1</th>\n",
       "      <td>00544</td>\n",
       "      <td>33095</td>\n",
       "      <td>Patchogue</td>\n",
       "      <td>NY</td>\n",
       "      <td>301</td>\n",
       "      <td>East Long Island</td>\n",
       "      <td>NY</td>\n",
       "      <td>00544</td>\n",
       "    </tr>\n",
       "    <tr>\n",
       "      <th>2</th>\n",
       "      <td>01001</td>\n",
       "      <td>22058</td>\n",
       "      <td>Springfield</td>\n",
       "      <td>MA</td>\n",
       "      <td>230</td>\n",
       "      <td>Springfield</td>\n",
       "      <td>MA</td>\n",
       "      <td>01001</td>\n",
       "    </tr>\n",
       "    <tr>\n",
       "      <th>3</th>\n",
       "      <td>01002</td>\n",
       "      <td>22046</td>\n",
       "      <td>Northampton</td>\n",
       "      <td>MA</td>\n",
       "      <td>230</td>\n",
       "      <td>Springfield</td>\n",
       "      <td>MA</td>\n",
       "      <td>01002</td>\n",
       "    </tr>\n",
       "    <tr>\n",
       "      <th>4</th>\n",
       "      <td>01003</td>\n",
       "      <td>22046</td>\n",
       "      <td>Northampton</td>\n",
       "      <td>MA</td>\n",
       "      <td>230</td>\n",
       "      <td>Springfield</td>\n",
       "      <td>MA</td>\n",
       "      <td>01003</td>\n",
       "    </tr>\n",
       "    <tr>\n",
       "      <th>...</th>\n",
       "      <td>...</td>\n",
       "      <td>...</td>\n",
       "      <td>...</td>\n",
       "      <td>...</td>\n",
       "      <td>...</td>\n",
       "      <td>...</td>\n",
       "      <td>...</td>\n",
       "      <td>...</td>\n",
       "    </tr>\n",
       "    <tr>\n",
       "      <th>40868</th>\n",
       "      <td>99926</td>\n",
       "      <td>2006</td>\n",
       "      <td>Ketchikan</td>\n",
       "      <td>AK</td>\n",
       "      <td>10</td>\n",
       "      <td>Anchorage</td>\n",
       "      <td>AK</td>\n",
       "      <td>99926</td>\n",
       "    </tr>\n",
       "    <tr>\n",
       "      <th>40869</th>\n",
       "      <td>99927</td>\n",
       "      <td>2006</td>\n",
       "      <td>Ketchikan</td>\n",
       "      <td>AK</td>\n",
       "      <td>10</td>\n",
       "      <td>Anchorage</td>\n",
       "      <td>AK</td>\n",
       "      <td>99927</td>\n",
       "    </tr>\n",
       "    <tr>\n",
       "      <th>40870</th>\n",
       "      <td>99928</td>\n",
       "      <td>2006</td>\n",
       "      <td>Ketchikan</td>\n",
       "      <td>AK</td>\n",
       "      <td>10</td>\n",
       "      <td>Anchorage</td>\n",
       "      <td>AK</td>\n",
       "      <td>99928</td>\n",
       "    </tr>\n",
       "    <tr>\n",
       "      <th>40871</th>\n",
       "      <td>99929</td>\n",
       "      <td>2015</td>\n",
       "      <td>Wrangell</td>\n",
       "      <td>AK</td>\n",
       "      <td>10</td>\n",
       "      <td>Anchorage</td>\n",
       "      <td>AK</td>\n",
       "      <td>99929</td>\n",
       "    </tr>\n",
       "    <tr>\n",
       "      <th>40872</th>\n",
       "      <td>99950</td>\n",
       "      <td>2006</td>\n",
       "      <td>Ketchikan</td>\n",
       "      <td>AK</td>\n",
       "      <td>10</td>\n",
       "      <td>Anchorage</td>\n",
       "      <td>AK</td>\n",
       "      <td>99950</td>\n",
       "    </tr>\n",
       "  </tbody>\n",
       "</table>\n",
       "<p>40873 rows × 8 columns</p>\n",
       "</div>"
      ],
      "text/plain": [
       "      zipcode2017  hsanum      hsacity hsastate  hrrnum           hrrcity  \\\n",
       "0           00501   33095    Patchogue       NY     301  East Long Island   \n",
       "1           00544   33095    Patchogue       NY     301  East Long Island   \n",
       "2           01001   22058  Springfield       MA     230       Springfield   \n",
       "3           01002   22046  Northampton       MA     230       Springfield   \n",
       "4           01003   22046  Northampton       MA     230       Springfield   \n",
       "...           ...     ...          ...      ...     ...               ...   \n",
       "40868       99926    2006    Ketchikan       AK      10         Anchorage   \n",
       "40869       99927    2006    Ketchikan       AK      10         Anchorage   \n",
       "40870       99928    2006    Ketchikan       AK      10         Anchorage   \n",
       "40871       99929    2015     Wrangell       AK      10         Anchorage   \n",
       "40872       99950    2006    Ketchikan       AK      10         Anchorage   \n",
       "\n",
       "      hrrstate zip_pad  \n",
       "0           NY   00501  \n",
       "1           NY   00544  \n",
       "2           MA   01001  \n",
       "3           MA   01002  \n",
       "4           MA   01003  \n",
       "...        ...     ...  \n",
       "40868       AK   99926  \n",
       "40869       AK   99927  \n",
       "40870       AK   99928  \n",
       "40871       AK   99929  \n",
       "40872       AK   99950  \n",
       "\n",
       "[40873 rows x 8 columns]"
      ]
     },
     "execution_count": 238,
     "metadata": {},
     "output_type": "execute_result"
    }
   ],
   "source": [
    "zip_hrr['zipcode2017']=zip_hrr['zipcode2017'].apply(lambda x : x.zfill(5))\n",
    "zip_hrr"
   ]
  },
  {
   "cell_type": "code",
   "execution_count": null,
   "metadata": {},
   "outputs": [],
   "source": []
  },
  {
   "cell_type": "code",
   "execution_count": null,
   "metadata": {},
   "outputs": [],
   "source": []
  },
  {
   "cell_type": "code",
   "execution_count": 239,
   "metadata": {},
   "outputs": [],
   "source": [
    "local_2=zip_hrr.merge(local_1,left_on='zipcode2017',right_on='zip')"
   ]
  },
  {
   "cell_type": "code",
   "execution_count": 240,
   "metadata": {},
   "outputs": [
    {
     "data": {
      "text/html": [
       "<div>\n",
       "<style scoped>\n",
       "    .dataframe tbody tr th:only-of-type {\n",
       "        vertical-align: middle;\n",
       "    }\n",
       "\n",
       "    .dataframe tbody tr th {\n",
       "        vertical-align: top;\n",
       "    }\n",
       "\n",
       "    .dataframe thead th {\n",
       "        text-align: right;\n",
       "    }\n",
       "</style>\n",
       "<table border=\"1\" class=\"dataframe\">\n",
       "  <thead>\n",
       "    <tr style=\"text-align: right;\">\n",
       "      <th></th>\n",
       "      <th>zipcode2017</th>\n",
       "      <th>hsanum</th>\n",
       "      <th>hsacity</th>\n",
       "      <th>hsastate</th>\n",
       "      <th>hrrnum</th>\n",
       "      <th>hrrcity</th>\n",
       "      <th>hrrstate</th>\n",
       "      <th>zip_pad</th>\n",
       "      <th>zip</th>\n",
       "      <th>county</th>\n",
       "      <th>Zip</th>\n",
       "      <th>City</th>\n",
       "      <th>State</th>\n",
       "      <th>Latitude</th>\n",
       "      <th>Longitude</th>\n",
       "    </tr>\n",
       "  </thead>\n",
       "  <tbody>\n",
       "    <tr>\n",
       "      <th>31</th>\n",
       "      <td>01040</td>\n",
       "      <td>22023</td>\n",
       "      <td>Holyoke</td>\n",
       "      <td>MA</td>\n",
       "      <td>230</td>\n",
       "      <td>Springfield</td>\n",
       "      <td>MA</td>\n",
       "      <td>01040</td>\n",
       "      <td>01040</td>\n",
       "      <td>25013</td>\n",
       "      <td>01040</td>\n",
       "      <td>Holyoke</td>\n",
       "      <td>MA</td>\n",
       "      <td>42.201891</td>\n",
       "      <td>-72.62420</td>\n",
       "    </tr>\n",
       "    <tr>\n",
       "      <th>39</th>\n",
       "      <td>01060</td>\n",
       "      <td>22046</td>\n",
       "      <td>Northampton</td>\n",
       "      <td>MA</td>\n",
       "      <td>230</td>\n",
       "      <td>Springfield</td>\n",
       "      <td>MA</td>\n",
       "      <td>01060</td>\n",
       "      <td>01060</td>\n",
       "      <td>25015</td>\n",
       "      <td>01060</td>\n",
       "      <td>Northampton</td>\n",
       "      <td>MA</td>\n",
       "      <td>42.324539</td>\n",
       "      <td>-72.63561</td>\n",
       "    </tr>\n",
       "    <tr>\n",
       "      <th>45</th>\n",
       "      <td>01069</td>\n",
       "      <td>22049</td>\n",
       "      <td>Palmer</td>\n",
       "      <td>MA</td>\n",
       "      <td>230</td>\n",
       "      <td>Springfield</td>\n",
       "      <td>MA</td>\n",
       "      <td>01069</td>\n",
       "      <td>01069</td>\n",
       "      <td>25015</td>\n",
       "      <td>01069</td>\n",
       "      <td>Palmer</td>\n",
       "      <td>MA</td>\n",
       "      <td>42.176401</td>\n",
       "      <td>-72.32646</td>\n",
       "    </tr>\n",
       "    <tr>\n",
       "      <th>59</th>\n",
       "      <td>01085</td>\n",
       "      <td>22066</td>\n",
       "      <td>Westfield</td>\n",
       "      <td>MA</td>\n",
       "      <td>230</td>\n",
       "      <td>Springfield</td>\n",
       "      <td>MA</td>\n",
       "      <td>01085</td>\n",
       "      <td>01085</td>\n",
       "      <td>25013</td>\n",
       "      <td>01085</td>\n",
       "      <td>Westfield</td>\n",
       "      <td>MA</td>\n",
       "      <td>42.133642</td>\n",
       "      <td>-72.75029</td>\n",
       "    </tr>\n",
       "    <tr>\n",
       "      <th>72</th>\n",
       "      <td>01104</td>\n",
       "      <td>22058</td>\n",
       "      <td>Springfield</td>\n",
       "      <td>MA</td>\n",
       "      <td>230</td>\n",
       "      <td>Springfield</td>\n",
       "      <td>MA</td>\n",
       "      <td>01104</td>\n",
       "      <td>01104</td>\n",
       "      <td>25013</td>\n",
       "      <td>01104</td>\n",
       "      <td>Springfield</td>\n",
       "      <td>MA</td>\n",
       "      <td>42.130343</td>\n",
       "      <td>-72.57338</td>\n",
       "    </tr>\n",
       "    <tr>\n",
       "      <th>...</th>\n",
       "      <td>...</td>\n",
       "      <td>...</td>\n",
       "      <td>...</td>\n",
       "      <td>...</td>\n",
       "      <td>...</td>\n",
       "      <td>...</td>\n",
       "      <td>...</td>\n",
       "      <td>...</td>\n",
       "      <td>...</td>\n",
       "      <td>...</td>\n",
       "      <td>...</td>\n",
       "      <td>...</td>\n",
       "      <td>...</td>\n",
       "      <td>...</td>\n",
       "      <td>...</td>\n",
       "    </tr>\n",
       "    <tr>\n",
       "      <th>2829</th>\n",
       "      <td>08822</td>\n",
       "      <td>31014</td>\n",
       "      <td>Flemington</td>\n",
       "      <td>NJ</td>\n",
       "      <td>356</td>\n",
       "      <td>Philadelphia</td>\n",
       "      <td>PA</td>\n",
       "      <td>08822</td>\n",
       "      <td>08822</td>\n",
       "      <td>34019</td>\n",
       "      <td>08822</td>\n",
       "      <td>Flemington</td>\n",
       "      <td>NJ</td>\n",
       "      <td>40.515645</td>\n",
       "      <td>-74.85319</td>\n",
       "    </tr>\n",
       "    <tr>\n",
       "      <th>2856</th>\n",
       "      <td>08861</td>\n",
       "      <td>31042</td>\n",
       "      <td>Perth Amboy</td>\n",
       "      <td>NJ</td>\n",
       "      <td>288</td>\n",
       "      <td>New Brunswick</td>\n",
       "      <td>NJ</td>\n",
       "      <td>08861</td>\n",
       "      <td>08861</td>\n",
       "      <td>34023</td>\n",
       "      <td>08861</td>\n",
       "      <td>Perth Amboy</td>\n",
       "      <td>NJ</td>\n",
       "      <td>40.520105</td>\n",
       "      <td>-74.27708</td>\n",
       "    </tr>\n",
       "    <tr>\n",
       "      <th>2859</th>\n",
       "      <td>08865</td>\n",
       "      <td>31043</td>\n",
       "      <td>Phillipsburg</td>\n",
       "      <td>NJ</td>\n",
       "      <td>346</td>\n",
       "      <td>Allentown</td>\n",
       "      <td>PA</td>\n",
       "      <td>08865</td>\n",
       "      <td>08865</td>\n",
       "      <td>34041</td>\n",
       "      <td>08865</td>\n",
       "      <td>Phillipsburg</td>\n",
       "      <td>NJ</td>\n",
       "      <td>40.689123</td>\n",
       "      <td>-75.17243</td>\n",
       "    </tr>\n",
       "    <tr>\n",
       "      <th>2867</th>\n",
       "      <td>08876</td>\n",
       "      <td>31056</td>\n",
       "      <td>Somerville</td>\n",
       "      <td>NJ</td>\n",
       "      <td>288</td>\n",
       "      <td>New Brunswick</td>\n",
       "      <td>NJ</td>\n",
       "      <td>08876</td>\n",
       "      <td>08876</td>\n",
       "      <td>34035</td>\n",
       "      <td>08876</td>\n",
       "      <td>Somerville</td>\n",
       "      <td>NJ</td>\n",
       "      <td>40.545853</td>\n",
       "      <td>-74.63592</td>\n",
       "    </tr>\n",
       "    <tr>\n",
       "      <th>2878</th>\n",
       "      <td>08901</td>\n",
       "      <td>31034</td>\n",
       "      <td>New Brunswick</td>\n",
       "      <td>NJ</td>\n",
       "      <td>288</td>\n",
       "      <td>New Brunswick</td>\n",
       "      <td>NJ</td>\n",
       "      <td>08901</td>\n",
       "      <td>08901</td>\n",
       "      <td>34023</td>\n",
       "      <td>08901</td>\n",
       "      <td>New Brunswick</td>\n",
       "      <td>NJ</td>\n",
       "      <td>40.488304</td>\n",
       "      <td>-74.44775</td>\n",
       "    </tr>\n",
       "  </tbody>\n",
       "</table>\n",
       "<p>188 rows × 15 columns</p>\n",
       "</div>"
      ],
      "text/plain": [
       "     zipcode2017  hsanum        hsacity hsastate  hrrnum        hrrcity  \\\n",
       "31         01040   22023        Holyoke       MA     230    Springfield   \n",
       "39         01060   22046    Northampton       MA     230    Springfield   \n",
       "45         01069   22049         Palmer       MA     230    Springfield   \n",
       "59         01085   22066      Westfield       MA     230    Springfield   \n",
       "72         01104   22058    Springfield       MA     230    Springfield   \n",
       "...          ...     ...            ...      ...     ...            ...   \n",
       "2829       08822   31014     Flemington       NJ     356   Philadelphia   \n",
       "2856       08861   31042    Perth Amboy       NJ     288  New Brunswick   \n",
       "2859       08865   31043   Phillipsburg       NJ     346      Allentown   \n",
       "2867       08876   31056     Somerville       NJ     288  New Brunswick   \n",
       "2878       08901   31034  New Brunswick       NJ     288  New Brunswick   \n",
       "\n",
       "     hrrstate zip_pad    zip county    Zip           City State   Latitude  \\\n",
       "31         MA   01040  01040  25013  01040        Holyoke    MA  42.201891   \n",
       "39         MA   01060  01060  25015  01060    Northampton    MA  42.324539   \n",
       "45         MA   01069  01069  25015  01069         Palmer    MA  42.176401   \n",
       "59         MA   01085  01085  25013  01085      Westfield    MA  42.133642   \n",
       "72         MA   01104  01104  25013  01104    Springfield    MA  42.130343   \n",
       "...       ...     ...    ...    ...    ...            ...   ...        ...   \n",
       "2829       PA   08822  08822  34019  08822     Flemington    NJ  40.515645   \n",
       "2856       NJ   08861  08861  34023  08861    Perth Amboy    NJ  40.520105   \n",
       "2859       PA   08865  08865  34041  08865   Phillipsburg    NJ  40.689123   \n",
       "2867       NJ   08876  08876  34035  08876     Somerville    NJ  40.545853   \n",
       "2878       NJ   08901  08901  34023  08901  New Brunswick    NJ  40.488304   \n",
       "\n",
       "      Longitude  \n",
       "31    -72.62420  \n",
       "39    -72.63561  \n",
       "45    -72.32646  \n",
       "59    -72.75029  \n",
       "72    -72.57338  \n",
       "...         ...  \n",
       "2829  -74.85319  \n",
       "2856  -74.27708  \n",
       "2859  -75.17243  \n",
       "2867  -74.63592  \n",
       "2878  -74.44775  \n",
       "\n",
       "[188 rows x 15 columns]"
      ]
     },
     "execution_count": 240,
     "metadata": {},
     "output_type": "execute_result"
    }
   ],
   "source": [
    "local_2[local_2.zipcode2017.isin(missing_zipcode)]"
   ]
  },
  {
   "cell_type": "code",
   "execution_count": 241,
   "metadata": {},
   "outputs": [],
   "source": [
    "local_2=local_2[['zipcode2017','hrrnum', 'county','City','State','Latitude','Longitude']]"
   ]
  },
  {
   "cell_type": "markdown",
   "metadata": {},
   "source": [
    "### 2.1.2 Adjunction of IRS data at county level"
   ]
  },
  {
   "cell_type": "code",
   "execution_count": 242,
   "metadata": {},
   "outputs": [],
   "source": [
    "df2=pd.read_csv('17incyallnoagi.csv', usecols=['STATEFIPS','COUNTYFIPS','N00200','A00200','A00100','N1','N2'],dtype={'STATEFIPS':str,'COUNTYFIPS':str ,'CBSACODE':str})\n",
    "\n"
   ]
  },
  {
   "cell_type": "code",
   "execution_count": 243,
   "metadata": {},
   "outputs": [],
   "source": [
    "\n",
    "df2['COUNTY_FULL_FIPS']=df2['STATEFIPS']+df2['COUNTYFIPS']\n",
    "\n",
    "irs_2=df2.groupby('COUNTY_FULL_FIPS').sum().reset_index()\n",
    "\n",
    "irs_2['average_AGI_c']=irs_2.A00100/irs_2.N1\n",
    "irs_2['average_wage_c']=irs_2.A00200  /irs_2.N00200\n",
    "\n",
    "irs_2=irs_2[['COUNTY_FULL_FIPS','average_AGI_c','average_wage_c']]"
   ]
  },
  {
   "cell_type": "code",
   "execution_count": 244,
   "metadata": {},
   "outputs": [],
   "source": [
    "local_3=local_2.merge(irs_2, left_on='county',right_on='COUNTY_FULL_FIPS')"
   ]
  },
  {
   "cell_type": "code",
   "execution_count": 245,
   "metadata": {},
   "outputs": [],
   "source": [
    "local_3.drop(columns=['COUNTY_FULL_FIPS'],inplace=True)"
   ]
  },
  {
   "cell_type": "markdown",
   "metadata": {},
   "source": [
    "### 2.1.3 Adjunction of Census data at county level"
   ]
  },
  {
   "cell_type": "code",
   "execution_count": 246,
   "metadata": {},
   "outputs": [],
   "source": [
    "dfc=pd.read_csv('cc-est2017-alldata.csv',encoding='latin-1', \n",
    "            usecols=['STATE','COUNTY','YEAR','AGEGRP','TOT_POP', 'BA_MALE', 'BA_FEMALE',  'H_MALE','H_FEMALE'],\n",
    "            dtype= {'STATE':str,'COUNTY':str}   )\n"
   ]
  },
  {
   "cell_type": "code",
   "execution_count": 247,
   "metadata": {},
   "outputs": [],
   "source": [
    "#Select only the lines for 2017\n",
    "dfc=dfc[dfc['YEAR']==10]"
   ]
  },
  {
   "cell_type": "code",
   "execution_count": 248,
   "metadata": {},
   "outputs": [],
   "source": [
    "#recreate the county\n",
    "dfc['COUNTY_ID']=dfc['STATE']+dfc['COUNTY']\n"
   ]
  },
  {
   "cell_type": "code",
   "execution_count": 249,
   "metadata": {},
   "outputs": [],
   "source": [
    "dfc['BA']=dfc['BA_MALE']+dfc['BA_FEMALE']\n",
    "dfc['H']=dfc['H_MALE']+dfc['H_FEMALE']\n"
   ]
  },
  {
   "cell_type": "code",
   "execution_count": 250,
   "metadata": {},
   "outputs": [],
   "source": [
    "\n",
    "\n",
    "\n",
    "dfc['over_65']=0\n",
    "dfc.loc[dfc['AGEGRP']>13,'over_65']=dfc['TOT_POP']\n",
    "\n",
    "# build the proportion of people above 65 ie agegrp 14,15,16,17,18\n",
    "dfc=dfc.groupby('COUNTY_ID').agg(\n",
    "                pop_tot=pd.NamedAgg(column='TOT_POP', aggfunc='max'),\n",
    "                pop_ba=pd.NamedAgg(column='BA', aggfunc='max'),\n",
    "                pop_h=pd.NamedAgg(column='H', aggfunc='max'),\n",
    "                pop_over_65=pd.NamedAgg(column='over_65', aggfunc=np.sum ))\n",
    "   \n",
    "\n",
    "dfc=dfc.reset_index()\n",
    "\n",
    "dfc['per_over_65']=dfc.pop_over_65/dfc.pop_tot\n",
    "dfc['per_ba']=dfc.pop_ba/dfc.pop_tot\n",
    "dfc['per_h']=dfc.pop_h/dfc.pop_tot\n",
    "\n",
    "dfc=dfc[['COUNTY_ID','per_over_65','per_ba','per_h']]"
   ]
  },
  {
   "cell_type": "code",
   "execution_count": 251,
   "metadata": {},
   "outputs": [],
   "source": [
    "local = local_3.merge(dfc,left_on='county',right_on='COUNTY_ID' )"
   ]
  },
  {
   "cell_type": "code",
   "execution_count": 253,
   "metadata": {},
   "outputs": [
    {
     "data": {
      "text/html": [
       "<div>\n",
       "<style scoped>\n",
       "    .dataframe tbody tr th:only-of-type {\n",
       "        vertical-align: middle;\n",
       "    }\n",
       "\n",
       "    .dataframe tbody tr th {\n",
       "        vertical-align: top;\n",
       "    }\n",
       "\n",
       "    .dataframe thead th {\n",
       "        text-align: right;\n",
       "    }\n",
       "</style>\n",
       "<table border=\"1\" class=\"dataframe\">\n",
       "  <thead>\n",
       "    <tr style=\"text-align: right;\">\n",
       "      <th></th>\n",
       "      <th>zipcode2017</th>\n",
       "      <th>hrrnum</th>\n",
       "      <th>county</th>\n",
       "      <th>City</th>\n",
       "      <th>State</th>\n",
       "      <th>Latitude</th>\n",
       "      <th>Longitude</th>\n",
       "      <th>average_AGI_c</th>\n",
       "      <th>average_wage_c</th>\n",
       "      <th>COUNTY_ID</th>\n",
       "      <th>per_over_65</th>\n",
       "      <th>per_ba</th>\n",
       "      <th>per_h</th>\n",
       "    </tr>\n",
       "  </thead>\n",
       "  <tbody>\n",
       "    <tr>\n",
       "      <th>0</th>\n",
       "      <td>00501</td>\n",
       "      <td>301</td>\n",
       "      <td>36103</td>\n",
       "      <td>Holtsville</td>\n",
       "      <td>NY</td>\n",
       "      <td>40.922326</td>\n",
       "      <td>-72.637078</td>\n",
       "      <td>89.476674</td>\n",
       "      <td>73.885973</td>\n",
       "      <td>36103</td>\n",
       "      <td>0.163743</td>\n",
       "      <td>0.085894</td>\n",
       "      <td>0.195437</td>\n",
       "    </tr>\n",
       "    <tr>\n",
       "      <th>1</th>\n",
       "      <td>06390</td>\n",
       "      <td>111</td>\n",
       "      <td>36103</td>\n",
       "      <td>Fishers Island</td>\n",
       "      <td>NY</td>\n",
       "      <td>41.261936</td>\n",
       "      <td>-72.007080</td>\n",
       "      <td>89.476674</td>\n",
       "      <td>73.885973</td>\n",
       "      <td>36103</td>\n",
       "      <td>0.163743</td>\n",
       "      <td>0.085894</td>\n",
       "      <td>0.195437</td>\n",
       "    </tr>\n",
       "    <tr>\n",
       "      <th>2</th>\n",
       "      <td>11702</td>\n",
       "      <td>301</td>\n",
       "      <td>36103</td>\n",
       "      <td>Babylon</td>\n",
       "      <td>NY</td>\n",
       "      <td>40.687649</td>\n",
       "      <td>-73.325490</td>\n",
       "      <td>89.476674</td>\n",
       "      <td>73.885973</td>\n",
       "      <td>36103</td>\n",
       "      <td>0.163743</td>\n",
       "      <td>0.085894</td>\n",
       "      <td>0.195437</td>\n",
       "    </tr>\n",
       "    <tr>\n",
       "      <th>3</th>\n",
       "      <td>11703</td>\n",
       "      <td>301</td>\n",
       "      <td>36103</td>\n",
       "      <td>North Babylon</td>\n",
       "      <td>NY</td>\n",
       "      <td>40.733398</td>\n",
       "      <td>-73.322570</td>\n",
       "      <td>89.476674</td>\n",
       "      <td>73.885973</td>\n",
       "      <td>36103</td>\n",
       "      <td>0.163743</td>\n",
       "      <td>0.085894</td>\n",
       "      <td>0.195437</td>\n",
       "    </tr>\n",
       "    <tr>\n",
       "      <th>4</th>\n",
       "      <td>11704</td>\n",
       "      <td>301</td>\n",
       "      <td>36103</td>\n",
       "      <td>West Babylon</td>\n",
       "      <td>NY</td>\n",
       "      <td>40.719249</td>\n",
       "      <td>-73.358290</td>\n",
       "      <td>89.476674</td>\n",
       "      <td>73.885973</td>\n",
       "      <td>36103</td>\n",
       "      <td>0.163743</td>\n",
       "      <td>0.085894</td>\n",
       "      <td>0.195437</td>\n",
       "    </tr>\n",
       "  </tbody>\n",
       "</table>\n",
       "</div>"
      ],
      "text/plain": [
       "  zipcode2017  hrrnum county            City State   Latitude  Longitude  \\\n",
       "0       00501     301  36103      Holtsville    NY  40.922326 -72.637078   \n",
       "1       06390     111  36103  Fishers Island    NY  41.261936 -72.007080   \n",
       "2       11702     301  36103         Babylon    NY  40.687649 -73.325490   \n",
       "3       11703     301  36103   North Babylon    NY  40.733398 -73.322570   \n",
       "4       11704     301  36103    West Babylon    NY  40.719249 -73.358290   \n",
       "\n",
       "   average_AGI_c  average_wage_c COUNTY_ID  per_over_65    per_ba     per_h  \n",
       "0      89.476674       73.885973     36103     0.163743  0.085894  0.195437  \n",
       "1      89.476674       73.885973     36103     0.163743  0.085894  0.195437  \n",
       "2      89.476674       73.885973     36103     0.163743  0.085894  0.195437  \n",
       "3      89.476674       73.885973     36103     0.163743  0.085894  0.195437  \n",
       "4      89.476674       73.885973     36103     0.163743  0.085894  0.195437  "
      ]
     },
     "execution_count": 253,
     "metadata": {},
     "output_type": "execute_result"
    }
   ],
   "source": [
    "local.head()"
   ]
  },
  {
   "cell_type": "code",
   "execution_count": 254,
   "metadata": {},
   "outputs": [
    {
     "data": {
      "text/html": [
       "<div>\n",
       "<style scoped>\n",
       "    .dataframe tbody tr th:only-of-type {\n",
       "        vertical-align: middle;\n",
       "    }\n",
       "\n",
       "    .dataframe tbody tr th {\n",
       "        vertical-align: top;\n",
       "    }\n",
       "\n",
       "    .dataframe thead th {\n",
       "        text-align: right;\n",
       "    }\n",
       "</style>\n",
       "<table border=\"1\" class=\"dataframe\">\n",
       "  <thead>\n",
       "    <tr style=\"text-align: right;\">\n",
       "      <th></th>\n",
       "      <th>zipcode2017</th>\n",
       "      <th>hrrnum</th>\n",
       "      <th>county</th>\n",
       "      <th>City</th>\n",
       "      <th>State</th>\n",
       "      <th>Latitude</th>\n",
       "      <th>Longitude</th>\n",
       "      <th>average_AGI_c</th>\n",
       "      <th>average_wage_c</th>\n",
       "      <th>COUNTY_ID</th>\n",
       "      <th>per_over_65</th>\n",
       "      <th>per_ba</th>\n",
       "      <th>per_h</th>\n",
       "    </tr>\n",
       "  </thead>\n",
       "  <tbody>\n",
       "    <tr>\n",
       "      <th>121</th>\n",
       "      <td>01040</td>\n",
       "      <td>230</td>\n",
       "      <td>25013</td>\n",
       "      <td>Holyoke</td>\n",
       "      <td>MA</td>\n",
       "      <td>42.201891</td>\n",
       "      <td>-72.624200</td>\n",
       "      <td>59.715230</td>\n",
       "      <td>49.727145</td>\n",
       "      <td>25013</td>\n",
       "      <td>0.164700</td>\n",
       "      <td>0.107965</td>\n",
       "      <td>0.252553</td>\n",
       "    </tr>\n",
       "    <tr>\n",
       "      <th>130</th>\n",
       "      <td>01085</td>\n",
       "      <td>230</td>\n",
       "      <td>25013</td>\n",
       "      <td>Westfield</td>\n",
       "      <td>MA</td>\n",
       "      <td>42.133642</td>\n",
       "      <td>-72.750290</td>\n",
       "      <td>59.715230</td>\n",
       "      <td>49.727145</td>\n",
       "      <td>25013</td>\n",
       "      <td>0.164700</td>\n",
       "      <td>0.107965</td>\n",
       "      <td>0.252553</td>\n",
       "    </tr>\n",
       "    <tr>\n",
       "      <th>137</th>\n",
       "      <td>01104</td>\n",
       "      <td>230</td>\n",
       "      <td>25013</td>\n",
       "      <td>Springfield</td>\n",
       "      <td>MA</td>\n",
       "      <td>42.130343</td>\n",
       "      <td>-72.573380</td>\n",
       "      <td>59.715230</td>\n",
       "      <td>49.727145</td>\n",
       "      <td>25013</td>\n",
       "      <td>0.164700</td>\n",
       "      <td>0.107965</td>\n",
       "      <td>0.252553</td>\n",
       "    </tr>\n",
       "    <tr>\n",
       "      <th>155</th>\n",
       "      <td>01199</td>\n",
       "      <td>230</td>\n",
       "      <td>25013</td>\n",
       "      <td>Springfield</td>\n",
       "      <td>MA</td>\n",
       "      <td>42.119943</td>\n",
       "      <td>-72.604983</td>\n",
       "      <td>59.715230</td>\n",
       "      <td>49.727145</td>\n",
       "      <td>25013</td>\n",
       "      <td>0.164700</td>\n",
       "      <td>0.107965</td>\n",
       "      <td>0.252553</td>\n",
       "    </tr>\n",
       "    <tr>\n",
       "      <th>171</th>\n",
       "      <td>01060</td>\n",
       "      <td>230</td>\n",
       "      <td>25015</td>\n",
       "      <td>Northampton</td>\n",
       "      <td>MA</td>\n",
       "      <td>42.324539</td>\n",
       "      <td>-72.635610</td>\n",
       "      <td>71.770153</td>\n",
       "      <td>59.584764</td>\n",
       "      <td>25015</td>\n",
       "      <td>0.165608</td>\n",
       "      <td>0.033658</td>\n",
       "      <td>0.056453</td>\n",
       "    </tr>\n",
       "    <tr>\n",
       "      <th>...</th>\n",
       "      <td>...</td>\n",
       "      <td>...</td>\n",
       "      <td>...</td>\n",
       "      <td>...</td>\n",
       "      <td>...</td>\n",
       "      <td>...</td>\n",
       "      <td>...</td>\n",
       "      <td>...</td>\n",
       "      <td>...</td>\n",
       "      <td>...</td>\n",
       "      <td>...</td>\n",
       "      <td>...</td>\n",
       "      <td>...</td>\n",
       "    </tr>\n",
       "    <tr>\n",
       "      <th>2923</th>\n",
       "      <td>08210</td>\n",
       "      <td>283</td>\n",
       "      <td>34009</td>\n",
       "      <td>Cape May Court House</td>\n",
       "      <td>NJ</td>\n",
       "      <td>39.081754</td>\n",
       "      <td>-74.836580</td>\n",
       "      <td>64.498280</td>\n",
       "      <td>48.672040</td>\n",
       "      <td>34009</td>\n",
       "      <td>0.256336</td>\n",
       "      <td>0.049630</td>\n",
       "      <td>0.078298</td>\n",
       "    </tr>\n",
       "    <tr>\n",
       "      <th>2964</th>\n",
       "      <td>08534</td>\n",
       "      <td>356</td>\n",
       "      <td>34021</td>\n",
       "      <td>Pennington</td>\n",
       "      <td>NJ</td>\n",
       "      <td>40.323150</td>\n",
       "      <td>-74.783640</td>\n",
       "      <td>97.825045</td>\n",
       "      <td>80.590870</td>\n",
       "      <td>34021</td>\n",
       "      <td>0.147694</td>\n",
       "      <td>0.213870</td>\n",
       "      <td>0.177895</td>\n",
       "    </tr>\n",
       "    <tr>\n",
       "      <th>2985</th>\n",
       "      <td>08629</td>\n",
       "      <td>356</td>\n",
       "      <td>34021</td>\n",
       "      <td>Trenton</td>\n",
       "      <td>NJ</td>\n",
       "      <td>40.219358</td>\n",
       "      <td>-74.733340</td>\n",
       "      <td>97.825045</td>\n",
       "      <td>80.590870</td>\n",
       "      <td>34021</td>\n",
       "      <td>0.147694</td>\n",
       "      <td>0.213870</td>\n",
       "      <td>0.177895</td>\n",
       "    </tr>\n",
       "    <tr>\n",
       "      <th>2986</th>\n",
       "      <td>08638</td>\n",
       "      <td>356</td>\n",
       "      <td>34021</td>\n",
       "      <td>Trenton</td>\n",
       "      <td>NJ</td>\n",
       "      <td>40.249908</td>\n",
       "      <td>-74.759530</td>\n",
       "      <td>97.825045</td>\n",
       "      <td>80.590870</td>\n",
       "      <td>34021</td>\n",
       "      <td>0.147694</td>\n",
       "      <td>0.213870</td>\n",
       "      <td>0.177895</td>\n",
       "    </tr>\n",
       "    <tr>\n",
       "      <th>2989</th>\n",
       "      <td>08690</td>\n",
       "      <td>356</td>\n",
       "      <td>34021</td>\n",
       "      <td>Trenton</td>\n",
       "      <td>NJ</td>\n",
       "      <td>40.225409</td>\n",
       "      <td>-74.659180</td>\n",
       "      <td>97.825045</td>\n",
       "      <td>80.590870</td>\n",
       "      <td>34021</td>\n",
       "      <td>0.147694</td>\n",
       "      <td>0.213870</td>\n",
       "      <td>0.177895</td>\n",
       "    </tr>\n",
       "  </tbody>\n",
       "</table>\n",
       "<p>188 rows × 13 columns</p>\n",
       "</div>"
      ],
      "text/plain": [
       "     zipcode2017  hrrnum county                  City State   Latitude  \\\n",
       "121        01040     230  25013               Holyoke    MA  42.201891   \n",
       "130        01085     230  25013             Westfield    MA  42.133642   \n",
       "137        01104     230  25013           Springfield    MA  42.130343   \n",
       "155        01199     230  25013           Springfield    MA  42.119943   \n",
       "171        01060     230  25015           Northampton    MA  42.324539   \n",
       "...          ...     ...    ...                   ...   ...        ...   \n",
       "2923       08210     283  34009  Cape May Court House    NJ  39.081754   \n",
       "2964       08534     356  34021            Pennington    NJ  40.323150   \n",
       "2985       08629     356  34021               Trenton    NJ  40.219358   \n",
       "2986       08638     356  34021               Trenton    NJ  40.249908   \n",
       "2989       08690     356  34021               Trenton    NJ  40.225409   \n",
       "\n",
       "      Longitude  average_AGI_c  average_wage_c COUNTY_ID  per_over_65  \\\n",
       "121  -72.624200      59.715230       49.727145     25013     0.164700   \n",
       "130  -72.750290      59.715230       49.727145     25013     0.164700   \n",
       "137  -72.573380      59.715230       49.727145     25013     0.164700   \n",
       "155  -72.604983      59.715230       49.727145     25013     0.164700   \n",
       "171  -72.635610      71.770153       59.584764     25015     0.165608   \n",
       "...         ...            ...             ...       ...          ...   \n",
       "2923 -74.836580      64.498280       48.672040     34009     0.256336   \n",
       "2964 -74.783640      97.825045       80.590870     34021     0.147694   \n",
       "2985 -74.733340      97.825045       80.590870     34021     0.147694   \n",
       "2986 -74.759530      97.825045       80.590870     34021     0.147694   \n",
       "2989 -74.659180      97.825045       80.590870     34021     0.147694   \n",
       "\n",
       "        per_ba     per_h  \n",
       "121   0.107965  0.252553  \n",
       "130   0.107965  0.252553  \n",
       "137   0.107965  0.252553  \n",
       "155   0.107965  0.252553  \n",
       "171   0.033658  0.056453  \n",
       "...        ...       ...  \n",
       "2923  0.049630  0.078298  \n",
       "2964  0.213870  0.177895  \n",
       "2985  0.213870  0.177895  \n",
       "2986  0.213870  0.177895  \n",
       "2989  0.213870  0.177895  \n",
       "\n",
       "[188 rows x 13 columns]"
      ]
     },
     "execution_count": 254,
     "metadata": {},
     "output_type": "execute_result"
    }
   ],
   "source": [
    "local[local.zipcode2017.isin(missing_zipcode)]"
   ]
  },
  {
   "cell_type": "code",
   "execution_count": 126,
   "metadata": {},
   "outputs": [],
   "source": [
    "\n",
    "if not os.path.exists('../prepared_data'):\n",
    "    os.makedirs('../prepared_data')"
   ]
  },
  {
   "cell_type": "code",
   "execution_count": 267,
   "metadata": {},
   "outputs": [],
   "source": [
    "local.to_csv(path_or_buf='../prepared_data/Output_local_basis.csv',index=False)"
   ]
  },
  {
   "cell_type": "code",
   "execution_count": 129,
   "metadata": {},
   "outputs": [],
   "source": [
    "%%bash\n",
    "git add ../prepared_data/Output_local_basis.csv"
   ]
  },
  {
   "cell_type": "code",
   "execution_count": 271,
   "metadata": {},
   "outputs": [
    {
     "name": "stdout",
     "output_type": "stream",
     "text": [
      "On branch master\n",
      "Changes not staged for commit:\n",
      "  (use \"git add <file>...\" to update what will be committed)\n",
      "  (use \"git restore <file>...\" to discard changes in working directory)\n",
      "\tmodified:   ../Visualizations.ipynb\n",
      "\tmodified:   Data wrangling.ipynb\n",
      "\n",
      "Untracked files:\n",
      "  (use \"git add <file>...\" to include in what will be committed)\n",
      "\t../.DS_Store\n",
      "\t../.ipynb_checkpoints/\n",
      "\t.DS_Store\n",
      "\t.ipynb_checkpoints/\n",
      "\t2019_Gaz_zcta_national.txt\n",
      "\n",
      "no changes added to commit (use \"git add\" and/or \"git commit -a\")\n"
     ]
    }
   ],
   "source": [
    "%%bash\n",
    "git a"
   ]
  },
  {
   "cell_type": "markdown",
   "metadata": {},
   "source": [
    "## 2.2 Preparation of the hospital dataset and the DRG dictionnaries\n",
    "\n"
   ]
  },
  {
   "cell_type": "markdown",
   "metadata": {},
   "source": [
    "**1. The inpatient dataset**\n",
    "\n",
    "- 196325 observations on 7 million discharges\n",
    "\n",
    "\n",
    "- 3182 providers ie hospitals (3181 avec filtration of DRG with less than 8 different hospitals)  \n",
    "301 have 5 observations or less,   \n",
    "552 have 10 or less observations\n",
    "\n",
    "\n",
    "- 563 DRG (440 after filtrations)   \n",
    "106 have 5 or less observations  \n",
    "149 have 10 or less observations  \n",
    "256 have 50 or less observations\n",
    "\n",
    "explain the selection effect: the fact that some observations are missing. Find some procedures. Most common procedures\n",
    "\n",
    "My idea plot the number of discharges on the y axis and the overall number of discharges per hospital\n",
    "\n",
    "Document all potential discrepancies\n"
   ]
  },
  {
   "cell_type": "code",
   "execution_count": null,
   "metadata": {},
   "outputs": [],
   "source": [
    "#bUild the number of discharges per hospital and in the y axis the % of DRG that are described"
   ]
  },
  {
   "cell_type": "code",
   "execution_count": 98,
   "metadata": {},
   "outputs": [],
   "source": [
    "inpatient=pd.read_csv('MEDICARE_PROVIDER_CHARGE_INPATIENT_DRGALL_FY2017.csv',\n",
    "                      dtype={'Provider Id':str,'Provider Zip Code':str },\n",
    "                     usecols=['DRG Definition', 'Provider Id','Provider State', 'Provider Zip Code',\n",
    "       'Total Discharges', 'Average Covered Charges', 'Average Total Payments',\n",
    "       'Average Medicare Payments'])\n",
    "\n",
    "inpatient.columns=['DRG', 'prov_id','Provider State','prov_zip',\n",
    "       'total_discharges', 'average_covered_charges', 'average_total_payments',\n",
    "       'average_medicare_payments']"
   ]
  },
  {
   "cell_type": "code",
   "execution_count": 53,
   "metadata": {},
   "outputs": [
    {
     "data": {
      "text/plain": [
       "0         5\n",
       "1         5\n",
       "2         5\n",
       "3         5\n",
       "4         5\n",
       "         ..\n",
       "196320    6\n",
       "196321    6\n",
       "196322    6\n",
       "196323    6\n",
       "196324    6\n",
       "Name: prov_id, Length: 196325, dtype: int64"
      ]
     },
     "execution_count": 53,
     "metadata": {},
     "output_type": "execute_result"
    }
   ],
   "source": [
    "inpatient.prov_id.apply(lambda x : len(x))"
   ]
  },
  {
   "cell_type": "code",
   "execution_count": 54,
   "metadata": {},
   "outputs": [],
   "source": [
    "#Treat the column prov_id\n",
    "#inpatient['prov_id']=inpatient['prov_id'].apply(lambda x : '0'+x if len(x)==5 else x)\n",
    "inpatient['prov_id']=inpatient['prov_id'].apply(lambda x : '0'+x if len(x)==5 else x)\n"
   ]
  },
  {
   "cell_type": "markdown",
   "metadata": {},
   "source": [
    "**2. The hospital dataset**\n",
    "\n",
    "Merge of the hospital general information and the average spending per medicare patient dataset.   \n",
    "Select only Acute Care Hospital.   \n",
    "Filter out the states outside the 50 states 'AS', 'GU','MP','PR','VI'\n"
   ]
  },
  {
   "cell_type": "code",
   "execution_count": 169,
   "metadata": {},
   "outputs": [],
   "source": [
    "hosp=pd.read_csv('Hospital_General_Information.csv' ,\n",
    "                dtype={'Facility ID':str,'ZIP Code' : str}\n",
    "                 ,\n",
    "                 usecols=['Facility ID','Facility Name','ZIP Code', 'State',\n",
    "                          'Hospital Type',  'Hospital Ownership','Emergency Services', \n",
    "                          'Hospital overall rating', 'Hospital overall rating footnote'] \n",
    "                )\n"
   ]
  },
  {
   "cell_type": "code",
   "execution_count": 170,
   "metadata": {},
   "outputs": [],
   "source": [
    "hosp=hosp[~hosp.State.isin(['AS', 'GU','MP','PR','VI'])]"
   ]
  },
  {
   "cell_type": "code",
   "execution_count": 171,
   "metadata": {},
   "outputs": [],
   "source": [
    "hosp.columns=['Facility ID','hosp_name','state','zipcode','hosp_type','hosp_ownership',\n",
    "       'hosp_emergency_services',\n",
    "       'hosp_rating', 'hosp_rating_fn']"
   ]
  },
  {
   "cell_type": "code",
   "execution_count": 172,
   "metadata": {},
   "outputs": [
    {
     "name": "stdout",
     "output_type": "stream",
     "text": [
      "<class 'pandas.core.frame.DataFrame'>\n",
      "RangeIndex: 4712 entries, 0 to 4711\n",
      "Data columns (total 3 columns):\n",
      " #   Column       Non-Null Count  Dtype  \n",
      "---  ------       --------------  -----  \n",
      " 0   Facility ID  4712 non-null   object \n",
      " 1   Score        4712 non-null   object \n",
      " 2   Footnote     1651 non-null   float64\n",
      "dtypes: float64(1), object(2)\n",
      "memory usage: 110.6+ KB\n"
     ]
    }
   ],
   "source": [
    "med_spending=pd.read_csv('Medicare_Hospital_spending_per_patient_Hospital.csv'\n",
    "                         , \n",
    "                         usecols=['Facility ID','Score','Footnote'], \n",
    "                         dtype={'Facility ID':str}\n",
    "                        )\n",
    "med_spending.info()"
   ]
  },
  {
   "cell_type": "code",
   "execution_count": 173,
   "metadata": {},
   "outputs": [],
   "source": [
    "hosp_full=med_spending.merge(hosp,how='inner', on = 'Facility ID')"
   ]
  },
  {
   "cell_type": "code",
   "execution_count": 176,
   "metadata": {},
   "outputs": [
    {
     "name": "stdout",
     "output_type": "stream",
     "text": [
      "<class 'pandas.core.frame.DataFrame'>\n",
      "Int64Index: 3205 entries, 0 to 4652\n",
      "Data columns (total 11 columns):\n",
      " #   Column                   Non-Null Count  Dtype  \n",
      "---  ------                   --------------  -----  \n",
      " 0   Facility ID              3205 non-null   object \n",
      " 1   Score                    3205 non-null   object \n",
      " 2   Footnote                 144 non-null    float64\n",
      " 3   hosp_name                3205 non-null   object \n",
      " 4   state                    3205 non-null   object \n",
      " 5   zipcode                  3205 non-null   object \n",
      " 6   hosp_type                3205 non-null   object \n",
      " 7   hosp_ownership           3205 non-null   object \n",
      " 8   hosp_emergency_services  3205 non-null   object \n",
      " 9   hosp_rating              3205 non-null   object \n",
      " 10  hosp_rating_fn           331 non-null    float64\n",
      "dtypes: float64(2), object(9)\n",
      "memory usage: 300.5+ KB\n"
     ]
    }
   ],
   "source": [
    "hosp_full.info()"
   ]
  },
  {
   "cell_type": "code",
   "execution_count": 177,
   "metadata": {},
   "outputs": [],
   "source": [
    "hosp_full=hosp_full[hosp_full.hosp_type=='Acute Care Hospitals']"
   ]
  },
  {
   "cell_type": "code",
   "execution_count": 178,
   "metadata": {},
   "outputs": [
    {
     "data": {
      "text/plain": [
       "(3205, 11)"
      ]
     },
     "execution_count": 178,
     "metadata": {},
     "output_type": "execute_result"
    }
   ],
   "source": [
    "hosp_full.shape"
   ]
  },
  {
   "cell_type": "markdown",
   "metadata": {},
   "source": [
    "From the 5320 initial hospitals in the hospital General Information dataset, only 4712 remain. The 'deleted hospitals' are only Psychatric Hospitals et Acute Care - Department of Defense.\n",
    "\n",
    "Then we select only the Acute Care Hospitals: only 3263 remain. "
   ]
  },
  {
   "cell_type": "markdown",
   "metadata": {},
   "source": [
    "Let's check the numbers by category for the model"
   ]
  },
  {
   "cell_type": "code",
   "execution_count": 91,
   "metadata": {},
   "outputs": [],
   "source": [
    "data_shema=hosp_full[['Facility ID','Footnote','prov_id']].drop_duplicates()\n",
    "data_shema[data_shema['prov_id'].isna() & data_shema.Footnote.notna()].shape[0]\n",
    "data_shema[data_shema['prov_id'].isna() & data_shema.Footnote.isna()].shape[0]\n",
    "data_shema[data_shema['prov_id'].notna() & data_shema.Footnote.notna()].shape[0]\n",
    "data_shema[data_shema['prov_id'].isna() & data_shema.Footnote.notna()].shape[0]"
   ]
  },
  {
   "cell_type": "markdown",
   "metadata": {},
   "source": [
    "Check that we have local information for every hospital in the full dataset. \n",
    "\n",
    "Almost 200 missing information comes from zipcode starting with a zero..."
   ]
  },
  {
   "cell_type": "code",
   "execution_count": 179,
   "metadata": {},
   "outputs": [],
   "source": [
    "local=pd.read_csv('../prepared_data/Output_local_basis.csv',dtype={'zipcode2017':str})"
   ]
  },
  {
   "cell_type": "code",
   "execution_count": 263,
   "metadata": {},
   "outputs": [],
   "source": [
    "full_local_hosp=local.merge(hosp_full,how='outer', left_on='zipcode2017',right_on='zipcode')"
   ]
  },
  {
   "cell_type": "code",
   "execution_count": 264,
   "metadata": {},
   "outputs": [],
   "source": [
    "missing_zipcode=full_local_hosp[full_local_hosp['Facility ID'].notna() & full_local_hosp.zipcode2017.isna()].sort_values(by=['zipcode']).zipcode"
   ]
  },
  {
   "cell_type": "markdown",
   "metadata": {},
   "source": [
    "Around 2315 observations in the inpatients dataset, corresponding to 103  hospitals could not been matched to a provider id in the hosp dataset. It's just 1.1% of total information. This is due to some mergers and acquisitions which made some hospitals 'disappear'.  \n",
    "\n",
    "Conversely, 1354 Critical Access Hospitals, 184 Acute Care Hospitals and 95 children hospital don't have records in the inpatient dataset. \n",
    "\n",
    "In the merged data set provides records on 3079 Acute Care Hospitals. 59 hospitals don't have observations. \n",
    "\n",
    "Among the "
   ]
  },
  {
   "cell_type": "code",
   "execution_count": 266,
   "metadata": {},
   "outputs": [
    {
     "data": {
      "text/plain": [
       "37"
      ]
     },
     "execution_count": 266,
     "metadata": {},
     "output_type": "execute_result"
    }
   ],
   "source": [
    "len(missing_zipcode)"
   ]
  },
  {
   "cell_type": "code",
   "execution_count": 258,
   "metadata": {},
   "outputs": [
    {
     "data": {
      "text/plain": [
       "5    38883\n",
       "Name: zipcode2017, dtype: int64"
      ]
     },
     "execution_count": 258,
     "metadata": {},
     "output_type": "execute_result"
    }
   ],
   "source": [
    "local.zipcode2017.apply(lambda x : len(x)).value_counts()"
   ]
  },
  {
   "cell_type": "code",
   "execution_count": 259,
   "metadata": {},
   "outputs": [
    {
     "name": "stdout",
     "output_type": "stream",
     "text": [
      "<class 'pandas.core.frame.DataFrame'>\n",
      "Int64Index: 38883 entries, 0 to 38882\n",
      "Data columns (total 13 columns):\n",
      " #   Column          Non-Null Count  Dtype  \n",
      "---  ------          --------------  -----  \n",
      " 0   zipcode2017     38883 non-null  object \n",
      " 1   hrrnum          38883 non-null  int64  \n",
      " 2   county          38883 non-null  object \n",
      " 3   City            38883 non-null  object \n",
      " 4   State           38883 non-null  object \n",
      " 5   Latitude        38883 non-null  float64\n",
      " 6   Longitude       38883 non-null  float64\n",
      " 7   average_AGI_c   38883 non-null  float64\n",
      " 8   average_wage_c  38883 non-null  float64\n",
      " 9   COUNTY_ID       38883 non-null  object \n",
      " 10  per_over_65     38883 non-null  float64\n",
      " 11  per_ba          38883 non-null  float64\n",
      " 12  per_h           38883 non-null  float64\n",
      "dtypes: float64(7), int64(1), object(5)\n",
      "memory usage: 4.2+ MB\n"
     ]
    }
   ],
   "source": [
    "local.info()"
   ]
  },
  {
   "cell_type": "code",
   "execution_count": null,
   "metadata": {},
   "outputs": [],
   "source": []
  },
  {
   "cell_type": "code",
   "execution_count": 260,
   "metadata": {},
   "outputs": [
    {
     "name": "stdout",
     "output_type": "stream",
     "text": [
      "<class 'pandas.core.frame.DataFrame'>\n",
      "Int64Index: 3205 entries, 0 to 4652\n",
      "Data columns (total 11 columns):\n",
      " #   Column                   Non-Null Count  Dtype  \n",
      "---  ------                   --------------  -----  \n",
      " 0   Facility ID              3205 non-null   object \n",
      " 1   Score                    3205 non-null   object \n",
      " 2   Footnote                 144 non-null    float64\n",
      " 3   hosp_name                3205 non-null   object \n",
      " 4   state                    3205 non-null   object \n",
      " 5   zipcode                  3205 non-null   object \n",
      " 6   hosp_type                3205 non-null   object \n",
      " 7   hosp_ownership           3205 non-null   object \n",
      " 8   hosp_emergency_services  3205 non-null   object \n",
      " 9   hosp_rating              3205 non-null   object \n",
      " 10  hosp_rating_fn           331 non-null    float64\n",
      "dtypes: float64(2), object(9)\n",
      "memory usage: 300.5+ KB\n"
     ]
    }
   ],
   "source": [
    "hosp_full.info()"
   ]
  },
  {
   "cell_type": "code",
   "execution_count": null,
   "metadata": {},
   "outputs": [],
   "source": []
  },
  {
   "cell_type": "code",
   "execution_count": 261,
   "metadata": {},
   "outputs": [
    {
     "name": "stdout",
     "output_type": "stream",
     "text": [
      "<class 'pandas.core.frame.DataFrame'>\n",
      "Int64Index: 39210 entries, 0 to 39209\n",
      "Data columns (total 24 columns):\n",
      " #   Column                   Non-Null Count  Dtype  \n",
      "---  ------                   --------------  -----  \n",
      " 0   zipcode2017              39173 non-null  object \n",
      " 1   hrrnum                   39173 non-null  float64\n",
      " 2   county                   39173 non-null  object \n",
      " 3   City                     39173 non-null  object \n",
      " 4   State                    39173 non-null  object \n",
      " 5   Latitude                 39173 non-null  float64\n",
      " 6   Longitude                39173 non-null  float64\n",
      " 7   average_AGI_c            39173 non-null  float64\n",
      " 8   average_wage_c           39173 non-null  float64\n",
      " 9   COUNTY_ID                39173 non-null  object \n",
      " 10  per_over_65              39173 non-null  float64\n",
      " 11  per_ba                   39173 non-null  float64\n",
      " 12  per_h                    39173 non-null  float64\n",
      " 13  Facility ID              3205 non-null   object \n",
      " 14  Score                    3205 non-null   object \n",
      " 15  Footnote                 144 non-null    float64\n",
      " 16  hosp_name                3205 non-null   object \n",
      " 17  state                    3205 non-null   object \n",
      " 18  zipcode                  3205 non-null   object \n",
      " 19  hosp_type                3205 non-null   object \n",
      " 20  hosp_ownership           3205 non-null   object \n",
      " 21  hosp_emergency_services  3205 non-null   object \n",
      " 22  hosp_rating              3205 non-null   object \n",
      " 23  hosp_rating_fn           331 non-null    float64\n",
      "dtypes: float64(10), object(14)\n",
      "memory usage: 7.5+ MB\n"
     ]
    }
   ],
   "source": [
    "full_local_hosp.info()"
   ]
  },
  {
   "cell_type": "markdown",
   "metadata": {},
   "source": [
    "When merging the hospital database and the local database 289 hospitals are unmatched. Several are in some unincorporated US territories. But most of them  "
   ]
  },
  {
   "cell_type": "code",
   "execution_count": null,
   "metadata": {},
   "outputs": [],
   "source": [
    "\n",
    "\n",
    "\n",
    "\n",
    "#filter the DRG with the tables built in Work on my DRG list notebook\n",
    "list_DRG=dill.load(open('healthcare_simulator/app/list_DRG.pkd', 'rb'))   \n",
    "inpatient=inpatient[inpatient['DRG'].isin(list_DRG)]\n",
    "\n",
    "#Treat the column prov_id\n",
    "#inpatient['prov_id']=inpatient['prov_id'].apply(lambda x : '0'+x if len(x)==5 else x)\n",
    "temp=inpatient[inpatient['Provider State']=='CA'][['prov_id','Provider State']]\n",
    "inpatient['prov_id']=inpatient['prov_id'].apply(lambda x : '0'+x if len(x)==5 else x)\n",
    "\n",
    "\n",
    "**2. The hospital reference dataset and the medicare average spending dataset**\n",
    "\n",
    "\n",
    "- The hospital general information dataset   \n",
    "4812 hospitals   \n",
    "Acute Care Hospitals         3369   \n",
    "Critical Access Hospitals    1344   \n",
    "Childrens                      99    \n",
    "\n",
    "\n",
    "- The medicare average spending comparision dataset (Measure 2018)  \n",
    "3143 individual observations   \n",
    "\n",
    "- Merge  \n",
    "Acute Care Hospitals    3070 non null\n",
    "\n",
    "temp2=pd.read_csv('Data/Hospital General Information.csv',encoding = \"ISO-8859-1\")\n",
    "temp3=temp2[temp2['State']=='CA'][['Provider ID','Hospital Name']].sort_values(by=['Provider ID']).head(50)\n",
    "\n",
    "temp2.info()\n",
    "\n",
    "hosp=pd.read_csv('Data/Hospital General Information.csv',encoding = \"ISO-8859-1\"\n",
    "                ,dtype={'Provider ID':str,'ZIP Code' : str},usecols=['Provider ID','Hospital Name', 'State','ZIP Code',\n",
    "       'Hospital Type',  'Hospital Ownership',\n",
    "       'Emergency Services', 'Meets criteria for meaningful use of EHRs',\n",
    "       'Hospital overall rating', 'Hospital overall rating footnote',\n",
    "       'Mortality national comparison',\n",
    "       'Mortality national comparison footnote',\n",
    "       'Safety of care national comparison',\n",
    "       'Safety of care national comparison footnote',\n",
    "       'Readmission national comparison',\n",
    "       'Readmission national comparison footnote',\n",
    "       'Patient experience national comparison',\n",
    "       'Patient experience national comparison footnote',\n",
    "       'Effectiveness of care national comparison',\n",
    "       'Effectiveness of care national comparison footnote',\n",
    "       'Timeliness of care national comparison',\n",
    "       'Timeliness of care national comparison footnote',\n",
    "       'Efficient use of medical imaging national comparison',\n",
    "       'Efficient use of medical imaging national comparison footnote'] )\n",
    "\n",
    "\n",
    "\n",
    "\n",
    "hosp.columns=['Provider ID','hosp_name','State', 'zipcode','hosp_type','hosp_ownership',\n",
    "       'hosp_emergency_services', 'hosp_meaningful_use_EHRs',\n",
    "       'hosp_rating', 'hosp_rating_fn',\n",
    "       'hosp_mortality_natcomp',\n",
    "       'hosp_mortality_natcomp_fn',\n",
    "       'hosp_safety_natcomp',\n",
    "       'hosp_safety_natcomp_fn',\n",
    "       'hosp_readmission_natcomp',\n",
    "       'hosp_readmission_natcomp_fn',\n",
    "       'hosp_patientexperience_natcomp',\n",
    "       'hosp_patientexperience_natcomp_fn',\n",
    "       'hosp_effectiveness_natcomp',\n",
    "       'hosp_effectiveness_natcomp_fn',\n",
    "       'hosp_timeliness_natcomp',\n",
    "       'hosp_timeliness_natcomp_fn',\n",
    "       'hosp_efficientmedicalimaging_natcomp',\n",
    "       'hosp_efficientmedicalimaging_natcomp_fn']\n",
    "\n",
    "hosp['hosp_rating'].value_counts()\n",
    "\n",
    "#Select only acute care hospitals\n",
    "hosp=hosp[hosp['hosp_type']=='Acute Care Hospitals']\n",
    "\n",
    "temp4=pd.read_csv('Data/hosp_medicare_paiment_comparision.csv',  dtype={'Facility ID':str})\n",
    "temp4\n",
    "\n",
    "med_spending=pd.read_csv('Data/hosp_medicare_paiment_comparision.csv', \n",
    "                         usecols=['Facility ID','Value','Footnote'], dtype={'Facility ID':str})\n",
    "med_spending.info()\n",
    "\n",
    "new_hosp=hosp.merge(med_spending, how='left', left_on='Provider ID', right_on='Facility ID')\n",
    "\n",
    "new_hosp[new_hosp['Value'].notna()]['hosp_type'].value_counts()\n",
    "\n",
    "new_hosp['Provider ID'].value_counts()\n",
    "\n"
   ]
  },
  {
   "cell_type": "code",
   "execution_count": 24,
   "metadata": {},
   "outputs": [
    {
     "name": "stdout",
     "output_type": "stream",
     "text": [
      "Visualizations.ipynb\n",
      "prepared_data\n",
      "raw_inputs\n",
      "\n",
      "../prepared_data:\n",
      "Output_local_basis.csv\n",
      "\n",
      "../raw_inputs:\n",
      "17incyallnoagi.csv\n",
      "Data wrangling.ipynb\n",
      "Hospital_General_Information.csv\n",
      "MEDICARE_PROVIDER_CHARGE_INPATIENT_DRGALL_FY2017.CSV\n",
      "Medicare_Hospital_spending_per_patient_Hospital.csv\n",
      "ZIP_COUNTY_122017.xlsx\n",
      "ZipHsaHrr17.xls\n",
      "cc-est2017-alldata.csv\n",
      "us-zip-code-latitude-and-longitude.csv\n"
     ]
    }
   ],
   "source": [
    "%%bash \n",
    "ls -R .. \n"
   ]
  },
  {
   "cell_type": "code",
   "execution_count": null,
   "metadata": {},
   "outputs": [],
   "source": []
  },
  {
   "cell_type": "code",
   "execution_count": 50,
   "metadata": {},
   "outputs": [
    {
     "name": "stdout",
     "output_type": "stream",
     "text": [
      "17incyallnoagi.csv\n",
      "Data wrangling.ipynb\n",
      "Hospital_General_Information.csv\n",
      "MEDICARE_PROVIDER_CHARGE_INPATIENT_DRGALL_FY2017.CSV\n",
      "Medicare_Hospital_spending_per_patient_Hospital.csv\n",
      "ZIP_COUNTY_122017.xlsx\n",
      "ZipHsaHrr17.xls\n",
      "index.html?format=csv\n",
      "us-zip-code-latitude-and-longitude.csv\n"
     ]
    }
   ],
   "source": [
    "%%bash\n",
    "ls"
   ]
  },
  {
   "cell_type": "code",
   "execution_count": 92,
   "metadata": {},
   "outputs": [
    {
     "data": {
      "text/html": [
       "<div>\n",
       "<style scoped>\n",
       "    .dataframe tbody tr th:only-of-type {\n",
       "        vertical-align: middle;\n",
       "    }\n",
       "\n",
       "    .dataframe tbody tr th {\n",
       "        vertical-align: top;\n",
       "    }\n",
       "\n",
       "    .dataframe thead th {\n",
       "        text-align: right;\n",
       "    }\n",
       "</style>\n",
       "<table border=\"1\" class=\"dataframe\">\n",
       "  <thead>\n",
       "    <tr style=\"text-align: right;\">\n",
       "      <th></th>\n",
       "      <th>zipcode2017</th>\n",
       "      <th>hrrnum</th>\n",
       "      <th>county</th>\n",
       "      <th>City</th>\n",
       "      <th>State</th>\n",
       "      <th>Latitude</th>\n",
       "      <th>Longitude</th>\n",
       "      <th>average_AGI_c</th>\n",
       "      <th>average_wage_c</th>\n",
       "    </tr>\n",
       "  </thead>\n",
       "  <tbody>\n",
       "    <tr>\n",
       "      <th>0</th>\n",
       "      <td>10001</td>\n",
       "      <td>303</td>\n",
       "      <td>36061</td>\n",
       "      <td>New York</td>\n",
       "      <td>NY</td>\n",
       "      <td>40.750742</td>\n",
       "      <td>-73.99653</td>\n",
       "      <td>226.146157</td>\n",
       "      <td>146.194817</td>\n",
       "    </tr>\n",
       "    <tr>\n",
       "      <th>1</th>\n",
       "      <td>10002</td>\n",
       "      <td>303</td>\n",
       "      <td>36061</td>\n",
       "      <td>New York</td>\n",
       "      <td>NY</td>\n",
       "      <td>40.717040</td>\n",
       "      <td>-73.98700</td>\n",
       "      <td>226.146157</td>\n",
       "      <td>146.194817</td>\n",
       "    </tr>\n",
       "    <tr>\n",
       "      <th>2</th>\n",
       "      <td>10003</td>\n",
       "      <td>303</td>\n",
       "      <td>36061</td>\n",
       "      <td>New York</td>\n",
       "      <td>NY</td>\n",
       "      <td>40.732509</td>\n",
       "      <td>-73.98935</td>\n",
       "      <td>226.146157</td>\n",
       "      <td>146.194817</td>\n",
       "    </tr>\n",
       "    <tr>\n",
       "      <th>3</th>\n",
       "      <td>10004</td>\n",
       "      <td>303</td>\n",
       "      <td>36061</td>\n",
       "      <td>New York</td>\n",
       "      <td>NJ</td>\n",
       "      <td>40.699226</td>\n",
       "      <td>-74.04118</td>\n",
       "      <td>226.146157</td>\n",
       "      <td>146.194817</td>\n",
       "    </tr>\n",
       "    <tr>\n",
       "      <th>4</th>\n",
       "      <td>10005</td>\n",
       "      <td>303</td>\n",
       "      <td>36061</td>\n",
       "      <td>New York</td>\n",
       "      <td>NY</td>\n",
       "      <td>40.706019</td>\n",
       "      <td>-74.00858</td>\n",
       "      <td>226.146157</td>\n",
       "      <td>146.194817</td>\n",
       "    </tr>\n",
       "    <tr>\n",
       "      <th>...</th>\n",
       "      <td>...</td>\n",
       "      <td>...</td>\n",
       "      <td>...</td>\n",
       "      <td>...</td>\n",
       "      <td>...</td>\n",
       "      <td>...</td>\n",
       "      <td>...</td>\n",
       "      <td>...</td>\n",
       "      <td>...</td>\n",
       "    </tr>\n",
       "    <tr>\n",
       "      <th>35994</th>\n",
       "      <td>99922</td>\n",
       "      <td>10</td>\n",
       "      <td>02198</td>\n",
       "      <td>Hydaburg</td>\n",
       "      <td>AK</td>\n",
       "      <td>55.209339</td>\n",
       "      <td>-132.82545</td>\n",
       "      <td>52.254701</td>\n",
       "      <td>44.950000</td>\n",
       "    </tr>\n",
       "    <tr>\n",
       "      <th>35995</th>\n",
       "      <td>99923</td>\n",
       "      <td>10</td>\n",
       "      <td>02198</td>\n",
       "      <td>Hyder</td>\n",
       "      <td>AK</td>\n",
       "      <td>55.941442</td>\n",
       "      <td>-130.05450</td>\n",
       "      <td>52.254701</td>\n",
       "      <td>44.950000</td>\n",
       "    </tr>\n",
       "    <tr>\n",
       "      <th>35996</th>\n",
       "      <td>99925</td>\n",
       "      <td>10</td>\n",
       "      <td>02198</td>\n",
       "      <td>Klawock</td>\n",
       "      <td>AK</td>\n",
       "      <td>55.555164</td>\n",
       "      <td>-133.07316</td>\n",
       "      <td>52.254701</td>\n",
       "      <td>44.950000</td>\n",
       "    </tr>\n",
       "    <tr>\n",
       "      <th>35997</th>\n",
       "      <td>99926</td>\n",
       "      <td>10</td>\n",
       "      <td>02198</td>\n",
       "      <td>Metlakatla</td>\n",
       "      <td>AK</td>\n",
       "      <td>55.123897</td>\n",
       "      <td>-131.56883</td>\n",
       "      <td>52.254701</td>\n",
       "      <td>44.950000</td>\n",
       "    </tr>\n",
       "    <tr>\n",
       "      <th>35998</th>\n",
       "      <td>99927</td>\n",
       "      <td>10</td>\n",
       "      <td>02198</td>\n",
       "      <td>Point Baker</td>\n",
       "      <td>AK</td>\n",
       "      <td>56.337957</td>\n",
       "      <td>-133.60689</td>\n",
       "      <td>52.254701</td>\n",
       "      <td>44.950000</td>\n",
       "    </tr>\n",
       "  </tbody>\n",
       "</table>\n",
       "<p>35999 rows × 9 columns</p>\n",
       "</div>"
      ],
      "text/plain": [
       "      zipcode2017  hrrnum county         City State   Latitude  Longitude  \\\n",
       "0           10001     303  36061     New York    NY  40.750742  -73.99653   \n",
       "1           10002     303  36061     New York    NY  40.717040  -73.98700   \n",
       "2           10003     303  36061     New York    NY  40.732509  -73.98935   \n",
       "3           10004     303  36061     New York    NJ  40.699226  -74.04118   \n",
       "4           10005     303  36061     New York    NY  40.706019  -74.00858   \n",
       "...           ...     ...    ...          ...   ...        ...        ...   \n",
       "35994       99922      10  02198     Hydaburg    AK  55.209339 -132.82545   \n",
       "35995       99923      10  02198        Hyder    AK  55.941442 -130.05450   \n",
       "35996       99925      10  02198      Klawock    AK  55.555164 -133.07316   \n",
       "35997       99926      10  02198   Metlakatla    AK  55.123897 -131.56883   \n",
       "35998       99927      10  02198  Point Baker    AK  56.337957 -133.60689   \n",
       "\n",
       "       average_AGI_c  average_wage_c  \n",
       "0         226.146157      146.194817  \n",
       "1         226.146157      146.194817  \n",
       "2         226.146157      146.194817  \n",
       "3         226.146157      146.194817  \n",
       "4         226.146157      146.194817  \n",
       "...              ...             ...  \n",
       "35994      52.254701       44.950000  \n",
       "35995      52.254701       44.950000  \n",
       "35996      52.254701       44.950000  \n",
       "35997      52.254701       44.950000  \n",
       "35998      52.254701       44.950000  \n",
       "\n",
       "[35999 rows x 9 columns]"
      ]
     },
     "execution_count": 92,
     "metadata": {},
     "output_type": "execute_result"
    }
   ],
   "source": [
    "local_3"
   ]
  },
  {
   "cell_type": "code",
   "execution_count": 115,
   "metadata": {},
   "outputs": [
    {
     "name": "stdout",
     "output_type": "stream",
     "text": [
      "On branch master\n",
      "Untracked files:\n",
      "  (use \"git add <file>...\" to include in what will be committed)\n",
      "\t../.DS_Store\n",
      "\t.DS_Store\n",
      "\t.ipynb_checkpoints/\n",
      "\t17incyallnoagi.csv\n",
      "\tData wrangling.ipynb\n",
      "\tZIP_COUNTY_122017.xlsx\n",
      "\tZipHsaHrr17.xls\n",
      "\tcc-est2017-alldata.csv\n",
      "\tus-zip-code-latitude-and-longitude.csv\n",
      "\n",
      "nothing added to commit but untracked files present (use \"git add\" to track)\n"
     ]
    }
   ],
   "source": [
    "%%bash\n",
    "git status"
   ]
  },
  {
   "cell_type": "code",
   "execution_count": 120,
   "metadata": {},
   "outputs": [
    {
     "name": "stdout",
     "output_type": "stream",
     "text": [
      "17incyallnoagi.csv\n",
      "Data wrangling.ipynb\n",
      "Hospital_General_Information.csv\n",
      "MEDICARE_PROVIDER_CHARGE_INPATIENT_DRGALL_FY2017.CSV\n",
      "Medicare_Hospital_spending_per_patient_Hospital.csv\n",
      "ZIP_COUNTY_122017.xlsx\n",
      "ZipHsaHrr17.xls\n",
      "cc-est2017-alldata.csv\n",
      "us-zip-code-latitude-and-longitude.csv\n"
     ]
    }
   ],
   "source": [
    "%%bash\n",
    "git ls-tree -r master --name-only\n"
   ]
  },
  {
   "cell_type": "code",
   "execution_count": null,
   "metadata": {},
   "outputs": [],
   "source": []
  }
 ],
 "metadata": {
  "kernelspec": {
   "display_name": "Python 3",
   "language": "python",
   "name": "python3"
  },
  "language_info": {
   "codemirror_mode": {
    "name": "ipython",
    "version": 3
   },
   "file_extension": ".py",
   "mimetype": "text/x-python",
   "name": "python",
   "nbconvert_exporter": "python",
   "pygments_lexer": "ipython3",
   "version": "3.8.3"
  }
 },
 "nbformat": 4,
 "nbformat_minor": 4
}
