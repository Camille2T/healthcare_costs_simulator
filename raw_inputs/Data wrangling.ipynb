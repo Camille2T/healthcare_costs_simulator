{
 "cells": [
  {
   "cell_type": "markdown",
   "metadata": {},
   "source": [
    "This notebook is dedicated to data preparation both for *model preparation* (see the XX notebook) and for *predictions* performed in my app.   \n",
    "It outputs 5 differents things:\n",
    "\n",
    "- one local dataset: local (saved in XXX)\n",
    "- a hospital data set\n",
    "- several datasets for models\n",
    "- some dictionnaries used in my app"
   ]
  },
  {
   "cell_type": "markdown",
   "metadata": {},
   "source": [
    "# 1. Data gathering"
   ]
  },
  {
   "cell_type": "code",
   "execution_count": 90,
   "metadata": {},
   "outputs": [],
   "source": [
    "import pandas as pd\n",
    "import os\n",
    "import numpy as np"
   ]
  },
  {
   "cell_type": "markdown",
   "metadata": {},
   "source": [
    "## 1.1 Data from the CMS website"
   ]
  },
  {
   "cell_type": "markdown",
   "metadata": {},
   "source": [
    "### 1.1.1 The inpatient provider utilization and payment data\n",
    "\n",
    "The main dataset: **\"Medicare Provider Utilization and Payment Data: Inpatient\"** for year 2017, which is the most recent year available:   \n",
    "https://www.cms.gov/Research-Statistics-Data-and-Systems/Statistics-Trends-and-Reports/Medicare-Provider-Charge-Data/Inpatient"
   ]
  },
  {
   "cell_type": "code",
   "execution_count": 29,
   "metadata": {},
   "outputs": [
    {
     "name": "stdout",
     "output_type": "stream",
     "text": [
      "Archive:  Inpatient_Data_2017_CSV.zip\n"
     ]
    }
   ],
   "source": [
    "%%bash\n",
    "wget https://www.cms.gov/Research-Statistics-Data-and-Systems/Statistics-Trends-and-Reports/Medicare-Provider-Charge-Data/Downloads/Inpatient_Data_2017_CSV.zip -nc -q \n",
    "unzip -u Inpatient_Data_2017_CSV.zip"
   ]
  },
  {
   "cell_type": "code",
   "execution_count": null,
   "metadata": {},
   "outputs": [],
   "source": [
    "%%bash\n",
    "git add MEDICARE_PROVIDER_CHARGE_INPATIENT_DRGALL_FY2017.CSV\n",
    "git commit"
   ]
  },
  {
   "cell_type": "code",
   "execution_count": 30,
   "metadata": {},
   "outputs": [],
   "source": [
    "%%bash\n",
    "rm Inpatient_Data_2017_CSV.zip"
   ]
  },
  {
   "cell_type": "markdown",
   "metadata": {},
   "source": [
    "### 1.1.2 The last *hospital compare* flat files package \n",
    "\n",
    "\n",
    "The hospital compare dataset (choice: most recent data)\n",
    "https://data.medicare.gov/data/archives/hospital-compare\n",
    "\n",
    "Pick up two important files:  \n",
    "- the **general information file** (with hospital ownership, average ratings...) \n",
    "- the **Medicare Hospital Spending per Patient - Hospital.csv** file which gives an assessment of the spending per patient in a price-standardized and risk-adjusted way. https://www.medicare.gov/hospitalcompare/Data/Medicare-Spending-Beneficiary.html\n"
   ]
  },
  {
   "cell_type": "code",
   "execution_count": 36,
   "metadata": {},
   "outputs": [],
   "source": [
    "%%bash\n",
    "wget http://medicare.gov/download/HospitalCompare/2020/July/HOSArchive_Revised_Flatfiles_20200731.zip -nc -q \n"
   ]
  },
  {
   "cell_type": "code",
   "execution_count": 37,
   "metadata": {},
   "outputs": [],
   "source": [
    "if not os.path.exists('hospital_compare_data'):\n",
    "    os.makedirs('hospital_compare_data')"
   ]
  },
  {
   "cell_type": "code",
   "execution_count": 38,
   "metadata": {},
   "outputs": [],
   "source": [
    "%%bash\n",
    "cp HOSArchive_Revised_Flatfiles_20200731.zip hospital_compare_data \n",
    "rm HOSArchive_Revised_Flatfiles_20200731.zip"
   ]
  },
  {
   "cell_type": "code",
   "execution_count": 39,
   "metadata": {},
   "outputs": [
    {
     "name": "stdout",
     "output_type": "stream",
     "text": [
      "Archive:  HOSArchive_Revised_Flatfiles_20200731.zip\n",
      "  inflating: ASC_CCN_pr19q1_19q4.csv  \n",
      "  inflating: ASC_Facility.csv        \n",
      "  inflating: ASC_National.csv        \n",
      "  inflating: ASC_NATIONAL_pr19q1_19q4.csv  \n",
      "  inflating: ASC_State.csv           \n",
      "  inflating: ASC_STATE_pr19q1_19q4.csv  \n",
      "  inflating: CJR PY4 Quality Reporting_July 2020_Production File.csv  \n",
      "  inflating: CMS_PSI_6_decimal_file.csv  \n",
      "  inflating: Complications and Deaths - Hospital.csv  \n",
      "  inflating: Complications and Deaths - National.csv  \n",
      "  inflating: Complications and Deaths - State.csv  \n",
      "  inflating: Footnote Crosswalk.csv  \n",
      "  inflating: footnotes_deliver_19q1_19q4.csv  \n",
      "  inflating: FY2018_Distribution_of_Net_Change_in_Base_Op_DRG_Payment_Amt_2019-11-22.csv  \n",
      "  inflating: FY2018_Net_Change_in_Base_Op_DRG_Payment_Amt_2019-11-22.csv  \n",
      "  inflating: FY2018_Percent_Change_in_Medicare_Payments_2019-11-22.csv  \n",
      "  inflating: FY2018_Value_Based_Incentive_Payment_Amount_2019-11-22.csv  \n",
      "  inflating: HCAHPS - Hospital.csv   \n",
      "  inflating: HCAHPS - National.csv   \n",
      "  inflating: HCAHPS - State.csv      \n",
      "  inflating: Healthcare Associated Infections - Hospital.csv  \n",
      "  inflating: Healthcare Associated Infections - National.csv  \n",
      "  inflating: Healthcare Associated Infections - State.csv  \n",
      "  inflating: HOPD_CCN_pr19q1_19q4.csv  \n",
      "  inflating: HOPD_NATIONAL_pr19q1_19q4.csv  \n",
      "  inflating: HOPD_STATE_pr19q1_19q4.csv  \n",
      "  inflating: Hospital General Information.csv  \n",
      "  inflating: Hospital.pdf            \n",
      "  inflating: HOSPITAL_ANNUAL_QUALITYMEASURE_PCH_EBRT_HOSPITAL.csv  \n",
      "  inflating: HOSPITAL_ANNUAL_QUALITYMEASURE_PCH_OCM_Hospital.csv  \n",
      "  inflating: HOSPITAL_ANNUAL_QUALITYMEASURE_PCH_OUTCOMES_HOSPITAL.csv  \n",
      "  inflating: HOSPITAL_ANNUAL_QUALITYMEASURE_PCH_OUTCOMES_NATIONAL.csv  \n",
      "  inflating: HOSPITAL_QUARTERLY_HAC_DOMAIN_HOSPITAL.csv  \n",
      "  inflating: HOSPITAL_QUARTERLY_MSPB_6_DECIMALS.csv  \n",
      "  inflating: HOSPITAL_QUARTERLY_QUALITYMEASURE_PCH_HAI_HOSPITAL.csv  \n",
      "  inflating: HOSPITAL_QUARTERLY_QUALITYMEASURE_PCH_HCAHPS_HOSPITAL.csv  \n",
      "  inflating: HOSPITAL_QUARTERLY_QUALITYMEASURE_PCH_HCAHPS_NATIONAL.csv  \n",
      "  inflating: HOSPITAL_QUARTERLY_QUALITYMEASURE_PCH_HCAHPS_STATE.csv  \n",
      "  inflating: HOSPITAL_QUARTERLY_QUALITYMEASURE_RRP_HOSPITAL.csv  \n",
      "  inflating: hvbp_clinical_outcomes_12_09_2019.csv  \n",
      "  inflating: hvbp_efficiency_12_09_2019.csv  \n",
      "  inflating: hvbp_hcahps_12_09_2019.csv  \n",
      "  inflating: hvbp_safety_12_09_2019.csv  \n",
      "  inflating: hvbp_tps_12_09_2019.csv  \n",
      "  inflating: IPFQR_QualityMeasures_Facility.csv  \n",
      "  inflating: IPFQR_QualityMeasures_National.csv  \n",
      "  inflating: IPFQR_QualityMeasures_State.csv  \n",
      "  inflating: Measure_Dates.csv       \n",
      "  inflating: Medicare Hospital Spending by Claim.csv  \n",
      "  inflating: Medicare Hospital Spending Per Patient - Hospital.csv  \n",
      "  inflating: Medicare Hospital Spending Per Patient - National.csv  \n",
      "  inflating: Medicare Hospital Spending Per Patient - State.csv  \n",
      "  inflating: Outpatient Imaging Efficiency - Hospital.csv  \n",
      "  inflating: Outpatient Imaging Efficiency - National.csv  \n",
      "  inflating: Outpatient Imaging Efficiency - State.csv  \n",
      "  inflating: Payment - National.csv  \n",
      "  inflating: Payment - State.csv     \n",
      "  inflating: Payment and Value of Care - Hospital.csv  \n",
      "  inflating: Structural Measures - Hospital.csv  \n",
      "  inflating: Timely and Effective Care - Hospital.csv  \n",
      "  inflating: Timely and Effective Care - National.csv  \n",
      "  inflating: Timely and Effective Care - State.csv  \n",
      "  inflating: Unplanned Hospital Visits - Hospital.csv  \n",
      "  inflating: Unplanned Hospital Visits - National.csv  \n",
      "  inflating: Unplanned Hospital Visits - State.csv  \n",
      "  inflating: Value of Care - National.csv  \n",
      "  inflating: VA_IPF.csv              \n",
      "  inflating: VA_PSI.csv              \n",
      "  inflating: VA_TE.csv               \n",
      "  inflating: Veterans_Health_Administration_Measure_Dates.csv  \n",
      "  inflating: Veterans_Health_Administration_Provider_Level_Data.csv  \n",
      "ASC_CCN_pr19q1_19q4.csv\n",
      "ASC_Facility.csv\n",
      "ASC_NATIONAL_pr19q1_19q4.csv\n",
      "ASC_National.csv\n",
      "ASC_STATE_pr19q1_19q4.csv\n",
      "ASC_State.csv\n",
      "CJR PY4 Quality Reporting_July 2020_Production File.csv\n",
      "CMS_PSI_6_decimal_file.csv\n",
      "Complications and Deaths - Hospital.csv\n",
      "Complications and Deaths - National.csv\n",
      "Complications and Deaths - State.csv\n",
      "FY2018_Distribution_of_Net_Change_in_Base_Op_DRG_Payment_Amt_2019-11-22.csv\n",
      "FY2018_Net_Change_in_Base_Op_DRG_Payment_Amt_2019-11-22.csv\n",
      "FY2018_Percent_Change_in_Medicare_Payments_2019-11-22.csv\n",
      "FY2018_Value_Based_Incentive_Payment_Amount_2019-11-22.csv\n",
      "Footnote Crosswalk.csv\n",
      "HCAHPS - Hospital.csv\n",
      "HCAHPS - National.csv\n",
      "HCAHPS - State.csv\n",
      "HOPD_CCN_pr19q1_19q4.csv\n",
      "HOPD_NATIONAL_pr19q1_19q4.csv\n",
      "HOPD_STATE_pr19q1_19q4.csv\n",
      "HOSArchive_Revised_Flatfiles_20200731.zip\n",
      "HOSPITAL_ANNUAL_QUALITYMEASURE_PCH_EBRT_HOSPITAL.csv\n",
      "HOSPITAL_ANNUAL_QUALITYMEASURE_PCH_OCM_Hospital.csv\n",
      "HOSPITAL_ANNUAL_QUALITYMEASURE_PCH_OUTCOMES_HOSPITAL.csv\n",
      "HOSPITAL_ANNUAL_QUALITYMEASURE_PCH_OUTCOMES_NATIONAL.csv\n",
      "HOSPITAL_QUARTERLY_HAC_DOMAIN_HOSPITAL.csv\n",
      "HOSPITAL_QUARTERLY_MSPB_6_DECIMALS.csv\n",
      "HOSPITAL_QUARTERLY_QUALITYMEASURE_PCH_HAI_HOSPITAL.csv\n",
      "HOSPITAL_QUARTERLY_QUALITYMEASURE_PCH_HCAHPS_HOSPITAL.csv\n",
      "HOSPITAL_QUARTERLY_QUALITYMEASURE_PCH_HCAHPS_NATIONAL.csv\n",
      "HOSPITAL_QUARTERLY_QUALITYMEASURE_PCH_HCAHPS_STATE.csv\n",
      "HOSPITAL_QUARTERLY_QUALITYMEASURE_RRP_HOSPITAL.csv\n",
      "Healthcare Associated Infections - Hospital.csv\n",
      "Healthcare Associated Infections - National.csv\n",
      "Healthcare Associated Infections - State.csv\n",
      "Hospital General Information.csv\n",
      "Hospital.pdf\n",
      "IPFQR_QualityMeasures_Facility.csv\n",
      "IPFQR_QualityMeasures_National.csv\n",
      "IPFQR_QualityMeasures_State.csv\n",
      "Measure_Dates.csv\n",
      "Medicare Hospital Spending Per Patient - Hospital.csv\n",
      "Medicare Hospital Spending Per Patient - National.csv\n",
      "Medicare Hospital Spending Per Patient - State.csv\n",
      "Medicare Hospital Spending by Claim.csv\n",
      "Outpatient Imaging Efficiency - Hospital.csv\n",
      "Outpatient Imaging Efficiency - National.csv\n",
      "Outpatient Imaging Efficiency - State.csv\n",
      "Payment - National.csv\n",
      "Payment - State.csv\n",
      "Payment and Value of Care - Hospital.csv\n",
      "Structural Measures - Hospital.csv\n",
      "Timely and Effective Care - Hospital.csv\n",
      "Timely and Effective Care - National.csv\n",
      "Timely and Effective Care - State.csv\n",
      "Unplanned Hospital Visits - Hospital.csv\n",
      "Unplanned Hospital Visits - National.csv\n",
      "Unplanned Hospital Visits - State.csv\n",
      "VA_IPF.csv\n",
      "VA_PSI.csv\n",
      "VA_TE.csv\n",
      "Value of Care - National.csv\n",
      "Veterans_Health_Administration_Measure_Dates.csv\n",
      "Veterans_Health_Administration_Provider_Level_Data.csv\n",
      "footnotes_deliver_19q1_19q4.csv\n",
      "hvbp_clinical_outcomes_12_09_2019.csv\n",
      "hvbp_efficiency_12_09_2019.csv\n",
      "hvbp_hcahps_12_09_2019.csv\n",
      "hvbp_safety_12_09_2019.csv\n",
      "hvbp_tps_12_09_2019.csv\n"
     ]
    }
   ],
   "source": [
    "%%bash\n",
    "cd hospital_compare_data\n",
    "unzip HOSArchive_Revised_Flatfiles_20200731.zip \n",
    "ls"
   ]
  },
  {
   "cell_type": "code",
   "execution_count": 40,
   "metadata": {},
   "outputs": [],
   "source": [
    "%%bash\n",
    "cd hospital_compare_data\n",
    "mv 'Hospital General Information.csv' Hospital_General_Information.csv\n",
    "mv 'Medicare Hospital Spending per Patient - Hospital.csv' Medicare_Hospital_spending_per_patient_Hospital.csv"
   ]
  },
  {
   "cell_type": "code",
   "execution_count": 41,
   "metadata": {},
   "outputs": [
    {
     "name": "stdout",
     "output_type": "stream",
     "text": [
      "Data wrangling.ipynb\n",
      "Hospital_General_Information.csv\n",
      "MEDICARE_PROVIDER_CHARGE_INPATIENT_DRGALL_FY2017.CSV\n",
      "Medicare_Hospital_spending_per_patient_Hospital.csv\n",
      "hospital_compare_data\n"
     ]
    }
   ],
   "source": [
    "%%bash\n",
    "cp hospital_compare_data/Hospital_General_Information.csv .\n",
    "cp hospital_compare_data/Medicare_Hospital_spending_per_patient_Hospital.csv .\n",
    "\n",
    "ls\n"
   ]
  },
  {
   "cell_type": "code",
   "execution_count": 42,
   "metadata": {},
   "outputs": [
    {
     "name": "stdout",
     "output_type": "stream",
     "text": [
      "Data wrangling.ipynb\n",
      "Hospital_General_Information.csv\n",
      "MEDICARE_PROVIDER_CHARGE_INPATIENT_DRGALL_FY2017.CSV\n",
      "Medicare_Hospital_spending_per_patient_Hospital.csv\n"
     ]
    }
   ],
   "source": [
    "%%bash\n",
    "rm -r hospital_compare_data\n",
    "ls"
   ]
  },
  {
   "cell_type": "code",
   "execution_count": 43,
   "metadata": {},
   "outputs": [
    {
     "name": "stdout",
     "output_type": "stream",
     "text": [
      "[master 7f34862] Add two additionnal files from CMS: Hospital_General_Information.csv and Medicare_Hospital_spending_per_patient_Hospital.csv\n",
      " 2 files changed, 10034 insertions(+)\n",
      " create mode 100644 raw_inputs/Hospital_General_Information.csv\n",
      " create mode 100644 raw_inputs/Medicare_Hospital_spending_per_patient_Hospital.csv\n"
     ]
    }
   ],
   "source": [
    "%%bash\n",
    "git add Hospital_General_Information.csv Medicare_Hospital_spending_per_patient_Hospital.csv\n",
    "git commit"
   ]
  },
  {
   "cell_type": "markdown",
   "metadata": {},
   "source": [
    "## 1.2 \"Local\" Data"
   ]
  },
  {
   "cell_type": "markdown",
   "metadata": {},
   "source": [
    "Download:\n",
    "\n",
    "- a zipcode - HRR (hospital referral region) crosswalk table from the Dartmouth Atlas\n",
    "https://atlasdata.dartmouth.edu/downloads/geography/ZipHsaHrr17.xls    \n",
    "- a crosswalk between zipcodes and counties https://www.huduser.gov/portal/datasets/usps_crosswalk.html (done manually)  \n",
    "- IRS revenue data at county level: https://www.irs.gov/pub/irs-soi/17incyallnoagi.csv\n",
    "- census data: cc-est2017-alldata.csv from ("
   ]
  },
  {
   "cell_type": "code",
   "execution_count": 46,
   "metadata": {},
   "outputs": [],
   "source": [
    "%%bash\n",
    "wget https://atlasdata.dartmouth.edu/downloads/geography/ZipHsaHrr17.xls  -q -nc"
   ]
  },
  {
   "cell_type": "code",
   "execution_count": 44,
   "metadata": {},
   "outputs": [],
   "source": [
    "#move from download\n",
    "os.rename(\"/Users/camilledethe/downloads/ZIP_COUNTY_122017.xlsx\", \"ZIP_COUNTY_122017.xlsx\")\n"
   ]
  },
  {
   "cell_type": "code",
   "execution_count": 47,
   "metadata": {},
   "outputs": [],
   "source": [
    "%%bash\n",
    "wget https://www.irs.gov/pub/irs-soi/17incyallnoagi.csv  -q -nc"
   ]
  },
  {
   "cell_type": "code",
   "execution_count": 49,
   "metadata": {},
   "outputs": [],
   "source": [
    "os.rename(\"/Users/camilledethe/downloads/us-zip-code-latitude-and-longitude.csv\", \"us-zip-code-latitude-and-longitude.csv\")"
   ]
  },
  {
   "cell_type": "code",
   "execution_count": 82,
   "metadata": {},
   "outputs": [],
   "source": [
    "#move from download\n",
    "os.rename(\"/Users/camilledethe/downloads/cc-est2017-alldata.csv\", \"cc-est2017-alldata.csv\")"
   ]
  },
  {
   "cell_type": "markdown",
   "metadata": {},
   "source": [
    "\n",
    "# 2. Data preparation\n"
   ]
  },
  {
   "cell_type": "markdown",
   "metadata": {},
   "source": [
    "## 2.1 Preparation of the \"local\" dataset"
   ]
  },
  {
   "cell_type": "markdown",
   "metadata": {},
   "source": [
    "### 2.1.1 Preparation of the basic structures: zipcode, longitude, latitude, county, HRR"
   ]
  },
  {
   "cell_type": "code",
   "execution_count": 53,
   "metadata": {},
   "outputs": [],
   "source": [
    "zip_coun=pd.read_excel('ZIP_COUNTY_122017.xlsx',usecols=[0,1],skiprows=0,dtype={'zip':str,'county':str})"
   ]
  },
  {
   "cell_type": "code",
   "execution_count": 55,
   "metadata": {},
   "outputs": [],
   "source": [
    "#Pb for a couple of zipcodes we have several counties, select just the first one\n",
    "zip_coun=zip_coun.groupby('zip').county.agg(['first']).reset_index()"
   ]
  },
  {
   "cell_type": "code",
   "execution_count": 60,
   "metadata": {},
   "outputs": [],
   "source": [
    "zip_coun.rename(columns={'first':'county'}, inplace=True)"
   ]
  },
  {
   "cell_type": "code",
   "execution_count": 63,
   "metadata": {},
   "outputs": [],
   "source": [
    "long_lat=pd.read_csv('us-zip-code-latitude-and-longitude.csv',sep=';', dtype={'Zip':str}, \n",
    "                     usecols=['Zip','City','State','Latitude','Longitude'])"
   ]
  },
  {
   "cell_type": "code",
   "execution_count": 101,
   "metadata": {},
   "outputs": [],
   "source": [
    "local_1=zip_coun.merge(long_lat, left_on='zip',right_on='Zip')"
   ]
  },
  {
   "cell_type": "code",
   "execution_count": 69,
   "metadata": {},
   "outputs": [],
   "source": [
    "zip_hrr=pd.read_excel('ZipHsaHrr17.xls',dtype={'zipcode2017':str,'county':str})\n"
   ]
  },
  {
   "cell_type": "code",
   "execution_count": 102,
   "metadata": {},
   "outputs": [],
   "source": [
    "local_2=zip_hrr.merge(local_1,left_on='zipcode2017',right_on='zip')"
   ]
  },
  {
   "cell_type": "code",
   "execution_count": 103,
   "metadata": {},
   "outputs": [],
   "source": [
    "local_2=local_2[['zipcode2017','hrrnum', 'county','City','State','Latitude','Longitude']]"
   ]
  },
  {
   "cell_type": "markdown",
   "metadata": {},
   "source": [
    "### 2.1.2 Adjunction of IRS data at county level"
   ]
  },
  {
   "cell_type": "code",
   "execution_count": 104,
   "metadata": {},
   "outputs": [],
   "source": [
    "df2=pd.read_csv('17incyallnoagi.csv', usecols=['STATEFIPS','COUNTYFIPS','N00200','A00200','A00100','N1','N2'],dtype={'STATEFIPS':str,'COUNTYFIPS':str ,'CBSACODE':str})\n",
    "\n"
   ]
  },
  {
   "cell_type": "code",
   "execution_count": 105,
   "metadata": {},
   "outputs": [],
   "source": [
    "\n",
    "df2['COUNTY_FULL_FIPS']=df2['STATEFIPS']+df2['COUNTYFIPS']\n",
    "\n",
    "irs_2=df2.groupby('COUNTY_FULL_FIPS').sum().reset_index()\n",
    "\n",
    "irs_2['average_AGI_c']=irs_2.A00100/irs_2.N1\n",
    "irs_2['average_wage_c']=irs_2.A00200  /irs_2.N00200\n",
    "\n",
    "irs_2=irs_2[['COUNTY_FULL_FIPS','average_AGI_c','average_wage_c']]"
   ]
  },
  {
   "cell_type": "code",
   "execution_count": 106,
   "metadata": {},
   "outputs": [],
   "source": [
    "local_3=local_2.merge(irs_2, left_on='county',right_on='COUNTY_FULL_FIPS')"
   ]
  },
  {
   "cell_type": "code",
   "execution_count": 107,
   "metadata": {},
   "outputs": [],
   "source": [
    "local_3.drop(columns=['COUNTY_FULL_FIPS'],inplace=True)"
   ]
  },
  {
   "cell_type": "markdown",
   "metadata": {},
   "source": [
    "### 2.1.3 Adjunction of Census data at county level"
   ]
  },
  {
   "cell_type": "code",
   "execution_count": 108,
   "metadata": {},
   "outputs": [],
   "source": [
    "dfc=pd.read_csv('cc-est2017-alldata.csv',encoding='latin-1', \n",
    "            usecols=['STATE','COUNTY','YEAR','AGEGRP','TOT_POP', 'BA_MALE', 'BA_FEMALE',  'H_MALE','H_FEMALE'],\n",
    "            dtype= {'STATE':str,'COUNTY':str}   )\n"
   ]
  },
  {
   "cell_type": "code",
   "execution_count": 109,
   "metadata": {},
   "outputs": [],
   "source": [
    "#Select only the lines for 2017\n",
    "dfc=dfc[dfc['YEAR']==10]"
   ]
  },
  {
   "cell_type": "code",
   "execution_count": 110,
   "metadata": {},
   "outputs": [],
   "source": [
    "#recreate the county\n",
    "dfc['COUNTY_ID']=dfc['STATE']+dfc['COUNTY']\n"
   ]
  },
  {
   "cell_type": "code",
   "execution_count": 111,
   "metadata": {},
   "outputs": [],
   "source": [
    "dfc['BA']=dfc['BA_MALE']+dfc['BA_FEMALE']\n",
    "dfc['H']=dfc['H_MALE']+dfc['H_FEMALE']\n"
   ]
  },
  {
   "cell_type": "code",
   "execution_count": 112,
   "metadata": {},
   "outputs": [],
   "source": [
    "\n",
    "\n",
    "\n",
    "dfc['over_65']=0\n",
    "dfc.loc[dfc['AGEGRP']>13,'over_65']=dfc['TOT_POP']\n",
    "\n",
    "# build the proportion of people above 65 ie agegrp 14,15,16,17,18\n",
    "dfc=dfc.groupby('COUNTY_ID').agg(\n",
    "                pop_tot=pd.NamedAgg(column='TOT_POP', aggfunc='max'),\n",
    "                pop_ba=pd.NamedAgg(column='BA', aggfunc='max'),\n",
    "                pop_h=pd.NamedAgg(column='H', aggfunc='max'),\n",
    "                pop_over_65=pd.NamedAgg(column='over_65', aggfunc=np.sum ))\n",
    "   \n",
    "\n",
    "dfc=dfc.reset_index()\n",
    "\n",
    "dfc['per_over_65']=dfc.pop_over_65/dfc.pop_tot\n",
    "dfc['per_ba']=dfc.pop_ba/dfc.pop_tot\n",
    "dfc['per_h']=dfc.pop_h/dfc.pop_tot\n",
    "\n",
    "dfc=dfc[['COUNTY_ID','per_over_65','per_ba','per_h']]"
   ]
  },
  {
   "cell_type": "code",
   "execution_count": 114,
   "metadata": {},
   "outputs": [],
   "source": [
    "local = local_3.merge(dfc,left_on='county',right_on='COUNTY_ID' )"
   ]
  },
  {
   "cell_type": "markdown",
   "metadata": {},
   "source": [
    "## 2.2 Preparation of the hospital dataset"
   ]
  },
  {
   "cell_type": "code",
   "execution_count": null,
   "metadata": {},
   "outputs": [],
   "source": []
  },
  {
   "cell_type": "code",
   "execution_count": null,
   "metadata": {},
   "outputs": [],
   "source": []
  },
  {
   "cell_type": "code",
   "execution_count": 50,
   "metadata": {},
   "outputs": [
    {
     "name": "stdout",
     "output_type": "stream",
     "text": [
      "17incyallnoagi.csv\n",
      "Data wrangling.ipynb\n",
      "Hospital_General_Information.csv\n",
      "MEDICARE_PROVIDER_CHARGE_INPATIENT_DRGALL_FY2017.CSV\n",
      "Medicare_Hospital_spending_per_patient_Hospital.csv\n",
      "ZIP_COUNTY_122017.xlsx\n",
      "ZipHsaHrr17.xls\n",
      "index.html?format=csv\n",
      "us-zip-code-latitude-and-longitude.csv\n"
     ]
    }
   ],
   "source": [
    "%%bash\n",
    "ls"
   ]
  },
  {
   "cell_type": "code",
   "execution_count": 92,
   "metadata": {},
   "outputs": [
    {
     "data": {
      "text/html": [
       "<div>\n",
       "<style scoped>\n",
       "    .dataframe tbody tr th:only-of-type {\n",
       "        vertical-align: middle;\n",
       "    }\n",
       "\n",
       "    .dataframe tbody tr th {\n",
       "        vertical-align: top;\n",
       "    }\n",
       "\n",
       "    .dataframe thead th {\n",
       "        text-align: right;\n",
       "    }\n",
       "</style>\n",
       "<table border=\"1\" class=\"dataframe\">\n",
       "  <thead>\n",
       "    <tr style=\"text-align: right;\">\n",
       "      <th></th>\n",
       "      <th>zipcode2017</th>\n",
       "      <th>hrrnum</th>\n",
       "      <th>county</th>\n",
       "      <th>City</th>\n",
       "      <th>State</th>\n",
       "      <th>Latitude</th>\n",
       "      <th>Longitude</th>\n",
       "      <th>average_AGI_c</th>\n",
       "      <th>average_wage_c</th>\n",
       "    </tr>\n",
       "  </thead>\n",
       "  <tbody>\n",
       "    <tr>\n",
       "      <th>0</th>\n",
       "      <td>10001</td>\n",
       "      <td>303</td>\n",
       "      <td>36061</td>\n",
       "      <td>New York</td>\n",
       "      <td>NY</td>\n",
       "      <td>40.750742</td>\n",
       "      <td>-73.99653</td>\n",
       "      <td>226.146157</td>\n",
       "      <td>146.194817</td>\n",
       "    </tr>\n",
       "    <tr>\n",
       "      <th>1</th>\n",
       "      <td>10002</td>\n",
       "      <td>303</td>\n",
       "      <td>36061</td>\n",
       "      <td>New York</td>\n",
       "      <td>NY</td>\n",
       "      <td>40.717040</td>\n",
       "      <td>-73.98700</td>\n",
       "      <td>226.146157</td>\n",
       "      <td>146.194817</td>\n",
       "    </tr>\n",
       "    <tr>\n",
       "      <th>2</th>\n",
       "      <td>10003</td>\n",
       "      <td>303</td>\n",
       "      <td>36061</td>\n",
       "      <td>New York</td>\n",
       "      <td>NY</td>\n",
       "      <td>40.732509</td>\n",
       "      <td>-73.98935</td>\n",
       "      <td>226.146157</td>\n",
       "      <td>146.194817</td>\n",
       "    </tr>\n",
       "    <tr>\n",
       "      <th>3</th>\n",
       "      <td>10004</td>\n",
       "      <td>303</td>\n",
       "      <td>36061</td>\n",
       "      <td>New York</td>\n",
       "      <td>NJ</td>\n",
       "      <td>40.699226</td>\n",
       "      <td>-74.04118</td>\n",
       "      <td>226.146157</td>\n",
       "      <td>146.194817</td>\n",
       "    </tr>\n",
       "    <tr>\n",
       "      <th>4</th>\n",
       "      <td>10005</td>\n",
       "      <td>303</td>\n",
       "      <td>36061</td>\n",
       "      <td>New York</td>\n",
       "      <td>NY</td>\n",
       "      <td>40.706019</td>\n",
       "      <td>-74.00858</td>\n",
       "      <td>226.146157</td>\n",
       "      <td>146.194817</td>\n",
       "    </tr>\n",
       "    <tr>\n",
       "      <th>...</th>\n",
       "      <td>...</td>\n",
       "      <td>...</td>\n",
       "      <td>...</td>\n",
       "      <td>...</td>\n",
       "      <td>...</td>\n",
       "      <td>...</td>\n",
       "      <td>...</td>\n",
       "      <td>...</td>\n",
       "      <td>...</td>\n",
       "    </tr>\n",
       "    <tr>\n",
       "      <th>35994</th>\n",
       "      <td>99922</td>\n",
       "      <td>10</td>\n",
       "      <td>02198</td>\n",
       "      <td>Hydaburg</td>\n",
       "      <td>AK</td>\n",
       "      <td>55.209339</td>\n",
       "      <td>-132.82545</td>\n",
       "      <td>52.254701</td>\n",
       "      <td>44.950000</td>\n",
       "    </tr>\n",
       "    <tr>\n",
       "      <th>35995</th>\n",
       "      <td>99923</td>\n",
       "      <td>10</td>\n",
       "      <td>02198</td>\n",
       "      <td>Hyder</td>\n",
       "      <td>AK</td>\n",
       "      <td>55.941442</td>\n",
       "      <td>-130.05450</td>\n",
       "      <td>52.254701</td>\n",
       "      <td>44.950000</td>\n",
       "    </tr>\n",
       "    <tr>\n",
       "      <th>35996</th>\n",
       "      <td>99925</td>\n",
       "      <td>10</td>\n",
       "      <td>02198</td>\n",
       "      <td>Klawock</td>\n",
       "      <td>AK</td>\n",
       "      <td>55.555164</td>\n",
       "      <td>-133.07316</td>\n",
       "      <td>52.254701</td>\n",
       "      <td>44.950000</td>\n",
       "    </tr>\n",
       "    <tr>\n",
       "      <th>35997</th>\n",
       "      <td>99926</td>\n",
       "      <td>10</td>\n",
       "      <td>02198</td>\n",
       "      <td>Metlakatla</td>\n",
       "      <td>AK</td>\n",
       "      <td>55.123897</td>\n",
       "      <td>-131.56883</td>\n",
       "      <td>52.254701</td>\n",
       "      <td>44.950000</td>\n",
       "    </tr>\n",
       "    <tr>\n",
       "      <th>35998</th>\n",
       "      <td>99927</td>\n",
       "      <td>10</td>\n",
       "      <td>02198</td>\n",
       "      <td>Point Baker</td>\n",
       "      <td>AK</td>\n",
       "      <td>56.337957</td>\n",
       "      <td>-133.60689</td>\n",
       "      <td>52.254701</td>\n",
       "      <td>44.950000</td>\n",
       "    </tr>\n",
       "  </tbody>\n",
       "</table>\n",
       "<p>35999 rows × 9 columns</p>\n",
       "</div>"
      ],
      "text/plain": [
       "      zipcode2017  hrrnum county         City State   Latitude  Longitude  \\\n",
       "0           10001     303  36061     New York    NY  40.750742  -73.99653   \n",
       "1           10002     303  36061     New York    NY  40.717040  -73.98700   \n",
       "2           10003     303  36061     New York    NY  40.732509  -73.98935   \n",
       "3           10004     303  36061     New York    NJ  40.699226  -74.04118   \n",
       "4           10005     303  36061     New York    NY  40.706019  -74.00858   \n",
       "...           ...     ...    ...          ...   ...        ...        ...   \n",
       "35994       99922      10  02198     Hydaburg    AK  55.209339 -132.82545   \n",
       "35995       99923      10  02198        Hyder    AK  55.941442 -130.05450   \n",
       "35996       99925      10  02198      Klawock    AK  55.555164 -133.07316   \n",
       "35997       99926      10  02198   Metlakatla    AK  55.123897 -131.56883   \n",
       "35998       99927      10  02198  Point Baker    AK  56.337957 -133.60689   \n",
       "\n",
       "       average_AGI_c  average_wage_c  \n",
       "0         226.146157      146.194817  \n",
       "1         226.146157      146.194817  \n",
       "2         226.146157      146.194817  \n",
       "3         226.146157      146.194817  \n",
       "4         226.146157      146.194817  \n",
       "...              ...             ...  \n",
       "35994      52.254701       44.950000  \n",
       "35995      52.254701       44.950000  \n",
       "35996      52.254701       44.950000  \n",
       "35997      52.254701       44.950000  \n",
       "35998      52.254701       44.950000  \n",
       "\n",
       "[35999 rows x 9 columns]"
      ]
     },
     "execution_count": 92,
     "metadata": {},
     "output_type": "execute_result"
    }
   ],
   "source": [
    "local_3"
   ]
  },
  {
   "cell_type": "code",
   "execution_count": 115,
   "metadata": {},
   "outputs": [
    {
     "name": "stdout",
     "output_type": "stream",
     "text": [
      "On branch master\n",
      "Untracked files:\n",
      "  (use \"git add <file>...\" to include in what will be committed)\n",
      "\t../.DS_Store\n",
      "\t.DS_Store\n",
      "\t.ipynb_checkpoints/\n",
      "\t17incyallnoagi.csv\n",
      "\tData wrangling.ipynb\n",
      "\tZIP_COUNTY_122017.xlsx\n",
      "\tZipHsaHrr17.xls\n",
      "\tcc-est2017-alldata.csv\n",
      "\tus-zip-code-latitude-and-longitude.csv\n",
      "\n",
      "nothing added to commit but untracked files present (use \"git add\" to track)\n"
     ]
    }
   ],
   "source": [
    "%%bash\n",
    "git status"
   ]
  },
  {
   "cell_type": "code",
   "execution_count": 116,
   "metadata": {},
   "outputs": [
    {
     "name": "stdout",
     "output_type": "stream",
     "text": [
      "Hospital_General_Information.csv\n",
      "MEDICARE_PROVIDER_CHARGE_INPATIENT_DRGALL_FY2017.CSV\n",
      "Medicare_Hospital_spending_per_patient_Hospital.csv\n"
     ]
    }
   ],
   "source": [
    "%%bash\n",
    "git ls-tree -r master --name-only\n",
    "\n"
   ]
  },
  {
   "cell_type": "code",
   "execution_count": null,
   "metadata": {},
   "outputs": [],
   "source": []
  }
 ],
 "metadata": {
  "kernelspec": {
   "display_name": "Python 3",
   "language": "python",
   "name": "python3"
  },
  "language_info": {
   "codemirror_mode": {
    "name": "ipython",
    "version": 3
   },
   "file_extension": ".py",
   "mimetype": "text/x-python",
   "name": "python",
   "nbconvert_exporter": "python",
   "pygments_lexer": "ipython3",
   "version": "3.8.3"
  }
 },
 "nbformat": 4,
 "nbformat_minor": 4
}
